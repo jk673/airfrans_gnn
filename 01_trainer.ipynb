{
 "cells": [
  {
   "cell_type": "markdown",
   "id": "4ce736d6",
   "metadata": {},
   "source": [
    "# ⚡ Training Workflow (1–14)\n",
    "이 구간은 빠르게 데이터 일부로 end-to-end 학습과 검증을 수행하는 스모크 테스트 플로우입니다. 아래 순서대로 각 셀을 실행하세요."
   ]
  },
  {
   "cell_type": "markdown",
   "id": "14b69e56",
   "metadata": {},
   "source": [
    "# 1. Import required libraries\n"
   ]
  },
  {
   "cell_type": "code",
   "execution_count": 1,
   "id": "86b9e541",
   "metadata": {},
   "outputs": [
    {
     "name": "stdout",
     "output_type": "stream",
     "text": [
      "SmokeTest | PyTorch: 2.8.0+cu128 | CUDA? True\n"
     ]
    }
   ],
   "source": [
    "import os\n",
    "os.environ['KMP_DUPLICATE_LIB_OK']='TRUE'\n",
    "import sys, math, json, random, contextlib\n",
    "import numpy as np\n",
    "import torch\n",
    "import torch.nn as nn\n",
    "import torch.nn.functional as F\n",
    "from torch.utils.data import DataLoader, Subset\n",
    "from torch_geometric.datasets import AirfRANS\n",
    "from torch_geometric.data import Data, Batch\n",
    "from matplotlib.tri import Triangulation\n",
    "import matplotlib.pyplot as plt\n",
    "from tqdm.auto import tqdm\n",
    "from torch_geometric.data import Data\n",
    "from navier_stokes_physics_loss import NavierStokesPhysicsLoss\n",
    "from airfrans_utils import prepare_airfrans_graph_for_physics, estimate_node_area, build_bc_masks_airfrans\n",
    "import contextlib\n",
    "import wandb  \n",
    "from torch.cuda.amp import GradScaler, autocast\n",
    "\n",
    "def get_lr(optim):\n",
    "    return optim.param_groups[0].get('lr', None)\n",
    "\n",
    "\n",
    "def set_seed(seed: int = 42):\n",
    "    random.seed(seed)\n",
    "    np.random.seed(seed)\n",
    "    torch.manual_seed(seed)\n",
    "    if torch.cuda.is_available():\n",
    "        torch.cuda.manual_seed_all(seed)\n",
    "\n",
    "device = torch.device('cuda' if torch.cuda.is_available() else 'cpu')\n",
    "set_seed(42)\n",
    "print('SmokeTest | PyTorch:', torch.__version__, '| CUDA?', torch.cuda.is_available())"
   ]
  },
  {
   "cell_type": "markdown",
   "id": "1f849a49",
   "metadata": {},
   "source": [
    "# 2. Set Configuration"
   ]
  },
  {
   "cell_type": "code",
   "execution_count": 2,
   "id": "5f48bd96",
   "metadata": {},
   "outputs": [
    {
     "name": "stdout",
     "output_type": "stream",
     "text": [
      "Smoke config: {'seed': 42, 'task': 'scarce', 'root': 'Dataset', 'limit_train': 180, 'limit_val': 20, 'batch_size': 2, 'epochs': 100, 'hidden': 128, 'layers': 7, 'lr': 0.0004, 'weight_decay': 0.01, 'betas': (0.9, 0.95), 'eps': 1e-08, 'amp': False, 'lr_scheduler': 'cosine', 'cosine_T_max': 80, 'cosine_eta_min': 1e-06, 'wr_T_0': 10, 'wr_T_mult': 1, 'wr_eta_min': 1e-06, 'rop_factor': 0.5, 'rop_patience': 5, 'rop_min_lr': 1e-06, 'ramp_start_epoch': 30, 'ramp_epochs': 80, 'ramp_mode': 'linear', 'data_loss_weight': 1.0, 'continuity_loss_weight': 0.05, 'continuity_target_weight': 0.1, 'momentum_loss_weight': 0.05, 'momentum_target_weight': 0.1, 'bc_loss_weight': 0.05, 'chord_length': 1.0, 'nu_molecular': 1.5e-05, 'dynamic_uref_from_data': True, 'dynamic_re_from_data': True, 'uinf_from': 'inlet', 'use_huber_for_physics': True, 'huber_delta': 0.05, 'use_perimeter_norm_for_div': True, 'div_area_floor_factor': 0.25, 'div_min_degree': 2, 'physics_debug': False, 'physics_debug_level': 1, 'physics_debug_every': 50, 'use_global_tokens': True, 'num_global_tokens': 4, 'attention_heads': 4, 'attention_layers': 7, 'attention_dropout': 0.0, 'use_cross_attention': True, 'global_pooling_type': 'attention', 'positional_encoding': True, 'pos_encoding_max_len': 50000, 'use_residual_attention': True, 'attention_normalization': 'layer', 'temperature_scaling': True, 'attention_bias': False, 'use_wandb_artifacts': False, 'artifact_save_best_only': True, 'artifact_save_interval': 50, 'ckpt_dir': 'checkpoints', 'ckpt_interval': 5, 'wandb_project': 'airfrans-gnn', 'wandb_mode': 'online', 'log_every_n_steps': -1, 'log_epoch_only': True}\n"
     ]
    }
   ],
   "source": [
    "# 2) Configuration (minimal for smoke)\n",
    "from dataclasses import dataclass, asdict\n",
    "\n",
    "@dataclass\n",
    "class SmokeCfg:\n",
    "    seed: int = 42\n",
    "    task: str = 'scarce'\n",
    "    root: str = 'Dataset'\n",
    "    # subsample graph count for smoke\n",
    "    limit_train: int = 180\n",
    "    limit_val: int = 20\n",
    "\n",
    "    # training\n",
    "    batch_size: int = 2\n",
    "    epochs: int = 100\n",
    "    hidden: int = 128\n",
    "    layers: int = 7\n",
    "    lr: float = 4e-4\n",
    "    weight_decay: float = 1e-2  # typical AdamW wd\n",
    "    betas: tuple[float, float] = (0.9, 0.95)\n",
    "    eps: float = 1e-8\n",
    "    amp: bool = False\n",
    "\n",
    "    # lr scheduler: 'cosine', 'cosine_warm_restarts', 'reduce_on_plateau', or None\n",
    "    lr_scheduler: str = 'cosine'\n",
    "    # cosine params\n",
    "    cosine_T_max: int = 80  # epochs\n",
    "    cosine_eta_min: float = 1e-6\n",
    "    # warm restarts params\n",
    "    wr_T_0: int = 10\n",
    "    wr_T_mult: int = 1\n",
    "    wr_eta_min: float = 1e-6\n",
    "    # reduce on plateau params\n",
    "    rop_factor: float = 0.5\n",
    "    rop_patience: int = 5\n",
    "    rop_min_lr: float = 1e-6\n",
    "\n",
    "    # Physics-Informed Loss Configuration\n",
    "    # =====================================\n",
    "    # Curriculum learning schedule\n",
    "    ramp_start_epoch: int = 30              # Epoch to start ramping physics losses\n",
    "    ramp_epochs: int = 80                   # Number of epochs to ramp up\n",
    "    ramp_mode: str = 'linear'               # 'linear' or 'cosine'\n",
    "    \n",
    "    # MSE/Data loss\n",
    "    data_loss_weight: float = 1.0           # Weight for MSE loss (constant)\n",
    "    \n",
    "    # Continuity equation loss\n",
    "    continuity_loss_weight: float = 0.05    # Initial continuity weight\n",
    "    continuity_target_weight: float = 0.10  # Target continuity weight after ramp\n",
    "    \n",
    "    # Momentum equation loss  \n",
    "    momentum_loss_weight: float = 0.05      # Initial momentum weight\n",
    "    momentum_target_weight: float = 0.10    # Target momentum weight after ramp\n",
    "    \n",
    "    # Boundary condition loss\n",
    "    bc_loss_weight: float = 0.05            # Weight for boundary condition loss\n",
    "    \n",
    "    # Physics parameters\n",
    "    chord_length: float = 1.0               # Airfoil chord length\n",
    "    nu_molecular: float = 1.5e-5            # Molecular viscosity\n",
    "    dynamic_uref_from_data: bool = True     # Compute reference velocity from data\n",
    "    dynamic_re_from_data: bool = True       # Compute Reynolds number from data\n",
    "    uinf_from: str = 'inlet'                # 'inlet', 'farfield', or 'robust'\n",
    "    \n",
    "    # Stability & outlier control\n",
    "    use_huber_for_physics: bool = True      # Use Huber loss for physics terms\n",
    "    huber_delta: float = 0.05               # Huber loss delta parameter\n",
    "    use_perimeter_norm_for_div: bool = True # Normalize divergence by perimeter\n",
    "    div_area_floor_factor: float = 0.25     # Area floor factor for stability\n",
    "    div_min_degree: int = 2                 # Minimum node degree for physics loss\n",
    "    \n",
    "    # Debug & monitoring\n",
    "    physics_debug: bool = False              # Enable physics loss debugging\n",
    "    physics_debug_level: int = 1            # Debug verbosity (1=summary, 2=detailed)\n",
    "    physics_debug_every: int = 50           # Log debug info every N steps\n",
    "\n",
    "    # Global Context & Attention Configuration\n",
    "    use_global_tokens: bool = True           # Enable/disable global tokens\n",
    "    num_global_tokens: int = 4               # Number of global tokens\n",
    "    attention_heads: int = 4                 # Multi-head attention heads\n",
    "    attention_layers: int = 7               # Number of transformer layers\n",
    "    attention_dropout: float = 0.0           # Attention dropout rate\n",
    "    use_cross_attention: bool = True         # Cross-attention between local and global\n",
    "    global_pooling_type: str = 'attention'   # 'mean', 'max', 'attention', 'set2set'\n",
    "    positional_encoding: bool = True         # Use positional encoding\n",
    "    pos_encoding_max_len: int = 50000        # Max sequence length for positional encoding\n",
    "    # Advanced attention options\n",
    "    use_residual_attention: bool = True      # Residual connections in attention\n",
    "    attention_normalization: str = 'layer'   # 'layer', 'batch', 'rms'\n",
    "    temperature_scaling: bool = True         # Temperature scaling for attention\n",
    "    attention_bias: bool = False             # Use bias in attention projections\n",
    "\n",
    "    # W&B Artifact 관리\n",
    "    use_wandb_artifacts: bool = False        # W&B artifact 사용 여부\n",
    "    artifact_save_best_only: bool = True     # best 모델만 업로드\n",
    "    artifact_save_interval: int = 50         # periodic 저장 간격 (epochs)\n",
    "    \n",
    "    # Checkpoint 관리\n",
    "    ckpt_dir: str = \"checkpoints\"           # 로컬 체크포인트 디렉토리\n",
    "    ckpt_interval: int = 5                  # 로컬 체크포인트 저장 간격\n",
    "    \n",
    "    # W&B 설정\n",
    "    wandb_project: str = \"airfrans-gnn\"\n",
    "    wandb_mode: str = \"online\"              # \"online\", \"offline\", \"disabled\"\n",
    "    log_every_n_steps: int = -1             # 로깅 빈도\n",
    "    log_epoch_only: bool = True             # Epoch 로깅만 사용\n",
    "\n",
    "scfg = SmokeCfg()\n",
    "set_seed(scfg.seed)\n",
    "print('Smoke config:', asdict(scfg))"
   ]
  },
  {
   "cell_type": "markdown",
   "id": "ded62e7d",
   "metadata": {},
   "source": [
    "# 3. Load dataset indices"
   ]
  },
  {
   "cell_type": "code",
   "execution_count": 3,
   "id": "37147c6e",
   "metadata": {},
   "outputs": [
    {
     "name": "stdout",
     "output_type": "stream",
     "text": [
      "Loaded subset indices: 200 train | 0 val/test\n"
     ]
    }
   ],
   "source": [
    "from torch_geometric.transforms import BaseTransform\n",
    "\n",
    "class _PreparePhysics(BaseTransform):\n",
    "    def __call__(self, data):\n",
    "        # edge_attr_dxdy가 이미 있을 경우 build_edge_attr_dxdy는 생략되고 나머지만 수행\n",
    "        return prepare_airfrans_graph_for_physics(data, verbose=False)\n",
    "\n",
    "# 3) Load dataset indices (train/val split)\n",
    "assert os.path.isdir(scfg.root), f\"Dataset folder not found: {scfg.root}\"\n",
    "try:\n",
    "    ds_train = AirfRANS(root=scfg.root, train=True, task=scfg.task, transform=_PreparePhysics())\n",
    "    ds_test  = AirfRANS(root=scfg.root, train=False, task=scfg.task, transform=_PreparePhysics())\n",
    "except TypeError:\n",
    "    ds_train = AirfRANS(root=scfg.root, train=True, transform=_PreparePhysics())\n",
    "    ds_test  = AirfRANS(root=scfg.root, train=False, transform=_PreparePhysics())\n",
    "\n",
    "if scfg.task == 'scarce':\n",
    "    # Scarce provides train only; create 90/10 split from ds_train\n",
    "    n = len(ds_train)\n",
    "    ids_all = list(range(n))\n",
    "    random.Random(scfg.seed).shuffle(ids_all)\n",
    "    ids_train = ids_all[:n]\n",
    "    # limit if requested\n",
    "    if scfg.limit_train > 0:\n",
    "        ids_train = ids_train[:scfg.limit_train + scfg.limit_val]\n",
    "        \n",
    "    train_raw = Subset(ds_train, ids_train)\n",
    "    val_raw = None\n",
    "    \n",
    "else:\n",
    "    ids_train = list(range(min(scfg.limit_train+scfg.limit_val, len(ds_train))))\n",
    "    ids_val = ids_train[-scfg.limit_val:] if scfg.limit_val>0 else []\n",
    "    ids_train = ids_train[:scfg.limit_train] if scfg.limit_train>0 else ids_train\n",
    "    train_raw = Subset(ds_train, ids_train)\n",
    "    val_raw   = Subset(ds_train, ids_val) if ids_val else []\n",
    "\n",
    "print('Loaded subset indices:', len(train_raw), 'train |', len(val_raw) if isinstance(val_raw, Subset) else 0, 'val/test')"
   ]
  },
  {
   "cell_type": "markdown",
   "id": "0b399587",
   "metadata": {},
   "source": [
    "# 4. Load prebuilt graphs and ensure features (index-aligned with raw)"
   ]
  },
  {
   "cell_type": "code",
   "execution_count": 4,
   "id": "faa267d6",
   "metadata": {},
   "outputs": [
    {
     "name": "stdout",
     "output_type": "stream",
     "text": [
      "[prebuilt] found: 200 train and 0 val graphs under prebuilt_edges/scarce\n",
      "Graphs prepared. Example dims -> x: torch.Size([16124, 5])  edge_attr: torch.Size([95510, 5])\n",
      "[validate] train_edges: total=200 bad=0\n"
     ]
    }
   ],
   "source": [
    "# 6) Load prebuilt graphs and ensure features (index-aligned with raw)\n",
    "import glob, os, re\n",
    "from utils import with_pos2, prep_graph, validate_edges, _prep_graph_for_norm\n",
    "\n",
    "USE_PREBUILT = True\n",
    "PREBUILT_ROOT = 'prebuilt_edges/scarce'  # change to your path if different\n",
    "PREBUILT_TRAIN_DIR = f\"{PREBUILT_ROOT}/train\"\n",
    "PREBUILT_TEST_DIR  = f\"{PREBUILT_ROOT}/test\"\n",
    "DOWNSAMPLED_ROOT = 'downsampled_graphs/scarce'\n",
    "\n",
    "# Load prebuilt edge graphs\n",
    "train_edge_files = sorted(glob.glob(os.path.join(PREBUILT_TRAIN_DIR, 'graph_*.pt')))\n",
    "val_edge_files   = sorted(glob.glob(os.path.join(PREBUILT_TEST_DIR,  'graph_*.pt')))\n",
    "print(f\"[prebuilt] found: {len(train_edge_files)} train and {len(val_edge_files)} val graphs under {PREBUILT_ROOT}\")\n",
    "\n",
    "# Load tensors and prepare\n",
    "train_edges = []\n",
    "for p in train_edge_files:\n",
    "    d = torch.load(p, map_location='cpu', weights_only=False)\n",
    "    if not isinstance(d, Data):\n",
    "        d = Data(**d)\n",
    "    train_edges.append(prep_graph(d))\n",
    "\n",
    "val_edges = []\n",
    "for p in val_edge_files:\n",
    "    d = torch.load(p, map_location='cpu', weights_only=False)\n",
    "    if not isinstance(d, Data):\n",
    "        d = Data(**d)\n",
    "    val_edges.append(prep_graph(d))\n",
    "\n",
    "print(f\"Graphs prepared. Example dims -> x: {train_edges[0].x.shape if len(train_edges)>0 else None}  edge_attr: {train_edges[0].edge_attr.shape if (len(train_edges)>0 and hasattr(train_edges[0],'edge_attr') and train_edges[0].edge_attr is not None) else None}\")\n",
    "\n",
    "validate_edges(train_edges, 'train_edges')"
   ]
  },
  {
   "cell_type": "markdown",
   "id": "b54f62a4",
   "metadata": {},
   "source": [
    "# 5. Nnormalized datasets\n"
   ]
  },
  {
   "cell_type": "code",
   "execution_count": 5,
   "id": "7c83e76b",
   "metadata": {},
   "outputs": [
    {
     "name": "stdout",
     "output_type": "stream",
     "text": [
      "Single sample BC check:\n",
      "  Total nodes: 16059\n",
      "  Original x shape: torch.Size([16059, 7])\n",
      "  Wall distance range: [0.000e+00, 3.563e+00]\n",
      "  Nodes with wall_dist < 1e-6: 1026\n",
      "  is_wall: 1026 nodes (6.4%)\n",
      "  is_inlet: 1645 nodes (10.2%)\n",
      "  is_outlet: 1833 nodes (11.4%)\n",
      "  is_farfield: 2289 nodes (14.3%)\n",
      "\n",
      "  Position ranges:\n",
      "    x: [-2.16, 4.23]\n",
      "    y: [-1.63, 1.62]\n",
      "Prepared normalized datasets: 180 train | 20 val\n",
      "Example dims -> x: (16059, 7) | edge_attr: (94686, 5)\n"
     ]
    }
   ],
   "source": [
    "if scfg.task == 'scarce':\n",
    "    n = len(train_edges)\n",
    "    n_train = int(n * 0.9)\n",
    "    ids_all = list(range(n))\n",
    "    random.Random(scfg.seed).shuffle(ids_all)\n",
    "    ids_train = ids_all[:n_train]\n",
    "    ids_val = ids_all[n_train:]\n",
    "\n",
    "    # Use prebuilt graphs, not raw dataset\n",
    "    train_edges_subset = [train_edges[i] for i in ids_train]\n",
    "    val_edges_subset = [train_edges[i] for i in ids_val] if ids_val else []\n",
    "else:\n",
    "    train_edges_subset = train_edges\n",
    "    val_edges_subset = val_edges\n",
    "\n",
    "train_prepped = [_prep_graph_for_norm(g) for g in train_edges_subset]\n",
    "val_prepped   = [_prep_graph_for_norm(g) for g in val_edges_subset] if isinstance(val_edges_subset, list) else []\n",
    "\n",
    "# 8b) Fit scalers on train_prepped\n",
    "if 'StandardScaler' not in globals():\n",
    "    class StandardScaler:\n",
    "        def __init__(self):\n",
    "            self.mean = None\n",
    "            self.std = None\n",
    "        def fit(self, t: torch.Tensor):\n",
    "            self.mean = t.mean(dim=0)\n",
    "            self.std = t.std(dim=0).clamp_min(1e-8)\n",
    "            return self\n",
    "        def transform(self, t: torch.Tensor):\n",
    "            return (t - self.mean) / self.std\n",
    "        def inverse(self, t: torch.Tensor):\n",
    "            return t * self.std + self.mean\n",
    "\n",
    "# Concatenate node features/targets across train graphs for fitting\n",
    "X_train = torch.cat([d.x for d in train_prepped if hasattr(d, 'x') and d.x is not None], dim=0)\n",
    "Y_train = torch.cat([d.y for d in train_prepped if hasattr(d, 'y') and d.y is not None], dim=0)\n",
    "\n",
    "x_scaler = StandardScaler().fit(X_train)\n",
    "y_scaler = StandardScaler().fit(Y_train)\n",
    "\n",
    "# 8c) Build normalized dataset wrappers\n",
    "class NormalizedDataset(torch.utils.data.Dataset):\n",
    "    def __init__(self, graphs, x_scaler, y_scaler):\n",
    "        self.graphs = graphs\n",
    "        self.x_scaler = x_scaler\n",
    "        self.y_scaler = y_scaler\n",
    "        \n",
    "    def __len__(self):\n",
    "        return len(self.graphs)\n",
    "        \n",
    "    def __getitem__(self, idx: int):\n",
    "        d = self.graphs[idx]\n",
    "        dm = Data(**{k: v for k, v in d})\n",
    "        dm.x = self.x_scaler.transform(d.x)\n",
    "        if hasattr(d, 'y') and d.y is not None:\n",
    "            dm.y = self.y_scaler.transform(d.y)\n",
    "        else:\n",
    "            dm.y = d.y\n",
    "            \n",
    "        # DON'T attach norm params as graph attributes - they cause batching issues\n",
    "        # Instead, we'll handle denormalization differently\n",
    "        # dm.x_norm_params = {'mean': self.x_scaler.mean.clone(), 'scale': self.x_scaler.std.clone()}\n",
    "        # dm.y_norm_params = {'mean': self.y_scaler.mean.clone(), 'scale': self.y_scaler.std.clone()} if dm.y is not None else None\n",
    "        \n",
    "        # Store scalers as module-level attributes for physics loss to access\n",
    "        dm.has_norm = True  # Flag to indicate normalized data\n",
    "        \n",
    "        # Ensure edge_attr_dxdy is present (needed for physics loss)\n",
    "        if hasattr(d, 'edge_attr_dxdy'):\n",
    "            dm.edge_attr_dxdy = d.edge_attr_dxdy\n",
    "        elif hasattr(d, 'edge_attr'):\n",
    "            # If we have edge_attr but not edge_attr_dxdy, use the last 2 dims as dxdy\n",
    "            if d.edge_attr.shape[1] >= 2:\n",
    "                dm.edge_attr_dxdy = d.edge_attr[:, -2:]  # Last 2 columns should be dx, dy\n",
    "            dm.edge_attr = d.edge_attr\n",
    "        \n",
    "        # Build BC masks properly\n",
    "        from airfrans_utils import build_bc_masks_airfrans\n",
    "        dm = build_bc_masks_airfrans(dm)\n",
    "        \n",
    "        # Ensure individual BC masks are present as attributes\n",
    "        if hasattr(dm, 'bc_mask_dict'):\n",
    "            for bc_type, mask in dm.bc_mask_dict.items():\n",
    "                setattr(dm, f'is_{bc_type}', mask)\n",
    "        else:\n",
    "            # Fallback: create default masks if build_bc_masks_airfrans failed\n",
    "            num_nodes = dm.x.size(0)\n",
    "            # Use the normalized x for BC detection\n",
    "            x_orig = d.x  # Use original (non-normalized) for BC detection\n",
    "            \n",
    "            # Wall nodes: distance_wall < threshold (column 2 of original x)\n",
    "            if x_orig.size(1) > 2:\n",
    "                wall_dist = x_orig[:, 2]\n",
    "                dm.is_wall = (wall_dist < 1e-6)\n",
    "            else:\n",
    "                dm.is_wall = torch.zeros(num_nodes, dtype=torch.bool)\n",
    "            \n",
    "            # For AirfRANS, we typically don't have explicit inlet/outlet/farfield in the features\n",
    "            # These would need to be inferred from position or other criteria\n",
    "            dm.is_inlet = torch.zeros(num_nodes, dtype=torch.bool)\n",
    "            dm.is_outlet = torch.zeros(num_nodes, dtype=torch.bool)\n",
    "            dm.is_farfield = torch.zeros(num_nodes, dtype=torch.bool)\n",
    "            \n",
    "            # Simple heuristics for inlet/outlet/farfield based on position\n",
    "            if hasattr(dm, 'pos'):\n",
    "                x_coords = dm.pos[:, 0]\n",
    "                y_coords = dm.pos[:, 1]\n",
    "                \n",
    "                # Inlet: leftmost boundary (x < -1)\n",
    "                dm.is_inlet = (x_coords < -1.0) & ~dm.is_wall\n",
    "                \n",
    "                # Outlet: rightmost boundary (x > 2)\n",
    "                dm.is_outlet = (x_coords > 2.0) & ~dm.is_wall\n",
    "                \n",
    "                # Farfield: top/bottom boundaries (|y| > 1)\n",
    "                dm.is_farfield = (torch.abs(y_coords) > 1.0) & ~dm.is_wall & ~dm.is_inlet & ~dm.is_outlet\n",
    "        \n",
    "        return dm\n",
    "\n",
    "train_norm = NormalizedDataset(train_prepped, x_scaler, y_scaler)\n",
    "val_norm   = NormalizedDataset(val_prepped, x_scaler, y_scaler) if isinstance(val_prepped, list) and len(val_prepped) > 0 else []\n",
    "\n",
    "# Debug BC mask creation for a single sample\n",
    "test_single = train_norm[0]\n",
    "print(\"Single sample BC check:\")\n",
    "print(f\"  Total nodes: {test_single.x.size(0)}\")\n",
    "\n",
    "# Check original features that determine BC\n",
    "if hasattr(test_single, 'x'):\n",
    "    x_orig = train_prepped[0].x  # Original unnormalized\n",
    "    print(f\"  Original x shape: {x_orig.shape}\")\n",
    "    if x_orig.size(1) > 2:\n",
    "        wall_dist = x_orig[:, 2]\n",
    "        print(f\"  Wall distance range: [{wall_dist.min():.3e}, {wall_dist.max():.3e}]\")\n",
    "        print(f\"  Nodes with wall_dist < 1e-6: {(wall_dist < 1e-6).sum().item()}\")\n",
    "\n",
    "# Check the BC masks\n",
    "for bc_type in ['wall', 'inlet', 'outlet', 'farfield']:\n",
    "    mask_name = f'is_{bc_type}'\n",
    "    if hasattr(test_single, mask_name):\n",
    "        mask = getattr(test_single, mask_name)\n",
    "        print(f\"  {mask_name}: {mask.sum().item()} nodes ({mask.sum().item()/len(mask)*100:.1f}%)\")\n",
    "\n",
    "# Check position-based criteria if available\n",
    "if hasattr(test_single, 'pos'):\n",
    "    pos = test_single.pos\n",
    "    print(f\"\\n  Position ranges:\")\n",
    "    print(f\"    x: [{pos[:, 0].min():.2f}, {pos[:, 0].max():.2f}]\")\n",
    "    print(f\"    y: [{pos[:, 1].min():.2f}, {pos[:, 1].max():.2f}]\")\n",
    "\n",
    "\n",
    "\n",
    "print('Prepared normalized datasets:', len(train_norm), 'train |', (len(val_norm) if isinstance(val_norm, NormalizedDataset) else len(val_norm)), 'val')\n",
    "if len(train_prepped) > 0:\n",
    "    print('Example dims -> x:', tuple(train_prepped[0].x.shape), '| edge_attr:', (tuple(train_prepped[0].edge_attr.shape) if hasattr(train_prepped[0], 'edge_attr') and train_prepped[0].edge_attr is not None else None))\n"
   ]
  },
  {
   "cell_type": "code",
   "execution_count": 6,
   "id": "c791019b",
   "metadata": {},
   "outputs": [
    {
     "name": "stdout",
     "output_type": "stream",
     "text": [
      "deg==0: 88  /  16059\n",
      "deg<2 : 88\n"
     ]
    }
   ],
   "source": [
    "data = train_norm[0]\n",
    "\n",
    "row, col = data.edge_index\n",
    "deg = torch.bincount(row, minlength=data.num_nodes) + torch.bincount(col, minlength=data.num_nodes)\n",
    "print(\"deg==0:\", int((deg==0).sum()), \" / \", data.num_nodes)\n",
    "print(\"deg<2 :\", int((deg<2).sum()))\n"
   ]
  },
  {
   "cell_type": "markdown",
   "id": "4c374e06",
   "metadata": {},
   "source": [
    "# 6. DataLoaders\n"
   ]
  },
  {
   "cell_type": "code",
   "execution_count": 7,
   "id": "44753884",
   "metadata": {},
   "outputs": [
    {
     "name": "stdout",
     "output_type": "stream",
     "text": [
      "Loaders ready: 180 train samples | batch_size = 2\n",
      "Loaders ready: 20 val samples | batch_size = 2\n"
     ]
    }
   ],
   "source": [
    "# Use true batching with PyG Batch.from_data_list so batch_size>1 works correctly\n",
    "\n",
    "def collate_pyg(batch):\n",
    "    batch = [b for b in batch if b is not None]\n",
    "    if len(batch) == 0:\n",
    "        return None\n",
    "    return Batch.from_data_list(batch)\n",
    "\n",
    "train_loader = DataLoader(train_norm, batch_size=scfg.batch_size, shuffle=True, num_workers=0, collate_fn=collate_pyg)\n",
    "val_loader   = DataLoader(val_norm,   batch_size=scfg.batch_size, shuffle=False, num_workers=0, collate_fn=collate_pyg) if isinstance(val_norm, NormalizedDataset) else []\n",
    "print('Loaders ready:', len(train_norm), 'train samples | batch_size =', scfg.batch_size)\n",
    "print('Loaders ready:', len(val_norm), 'val samples | batch_size =', scfg.batch_size)"
   ]
  },
  {
   "cell_type": "markdown",
   "id": "f9d80ffb",
   "metadata": {},
   "source": [
    "# 7. Train/Val epoch routines"
   ]
  },
  {
   "cell_type": "code",
   "execution_count": 8,
   "id": "e7b73a02",
   "metadata": {},
   "outputs": [],
   "source": [
    "# 13) Enhanced Train/Val epoch routines with Physics Loss\n",
    "\n",
    "mse_loss_fn = nn.MSELoss()\n",
    "\n",
    "def compute_loss_with_physics(predictions, targets, data, loss_fn=None, *, step: int | None = None):\n",
    "    \"\"\"Compute loss using physics-informed loss function or fallback to MSE\n",
    "    Returns a differentiable scalar loss tensor for backward as first value,\n",
    "    and a lightweight dict of float metrics for logging as second value.\n",
    "    \"\"\"\n",
    "    if loss_fn is not None:\n",
    "        try:\n",
    "            # Always let the physics loss handle batched Data (PyG batches are a big disjoint graph)\n",
    "            loss_dict = loss_fn(predictions, targets, data=data, step=step)\n",
    "\n",
    "            # Ensure total_loss is a Tensor usable for backward\n",
    "            total_loss = loss_dict.get('total_loss')\n",
    "            if not isinstance(total_loss, torch.Tensor):\n",
    "                total_loss = torch.as_tensor(total_loss, dtype=predictions.dtype, device=predictions.device)\n",
    "\n",
    "            # Prepare a logging-friendly dict (floats only) to avoid holding graph refs\n",
    "            log_dict = {}\n",
    "            for k, v in loss_dict.items():\n",
    "                if isinstance(v, torch.Tensor):\n",
    "                    try:\n",
    "                        log_dict[k] = float(v.detach().item())\n",
    "                    except Exception:\n",
    "                        # Fallback if it's not 0-dim\n",
    "                        log_dict[k] = float(v.detach().mean().item())\n",
    "                else:\n",
    "                    log_dict[k] = float(v)\n",
    "\n",
    "            return total_loss, log_dict\n",
    "        except Exception as e:\n",
    "            print(f\"Warning: Physics loss failed ({e}), falling back to MSE\")\n",
    "            mse_loss = mse_loss_fn(predictions, targets)\n",
    "            return mse_loss, {\n",
    "                'mse_loss': float(mse_loss.detach().item()), \n",
    "                'continuity_loss': 0.0, \n",
    "                'momentum_loss': 0.0,\n",
    "                'bc_loss': 0.0,  # ← BC loss 추가\n",
    "                'total_loss': float(mse_loss.detach().item())\n",
    "            }\n",
    "    else:\n",
    "        # Fallback to simple MSE\n",
    "        mse_loss = mse_loss_fn(predictions, targets)\n",
    "        return mse_loss, {\n",
    "            'mse_loss': float(mse_loss.detach().item()), \n",
    "            'bc_loss': 0.0,  # ← BC loss 추가\n",
    "            'total_loss': float(mse_loss.detach().item())\n",
    "        }\n",
    "\n",
    "\n",
    "@torch.no_grad()\n",
    "def run_epoch(loader, model, device, scaler=None, desc: str = 'val', loss_fn=None):\n",
    "    model.eval()\n",
    "    total_losses = []; mse_losses = []; continuity_losses = []; momentum_losses = []\n",
    "    bc_losses = []  # ← BC loss 리스트 추가\n",
    "    cont_w_used_hist, mom_w_used_hist = [], []\n",
    "\n",
    "    if loader is None or (isinstance(loader, list) and len(loader)==0):\n",
    "        return float('nan'), {}\n",
    "\n",
    "    steps = len(loader)\n",
    "    pbar = tqdm(total=steps, desc=desc, leave=False)\n",
    "\n",
    "    for batch in loader:\n",
    "        try:\n",
    "            if batch is None:\n",
    "                pbar.update(1); continue\n",
    "\n",
    "            b = batch.to(device)\n",
    "            with (autocast(enabled=(scfg.amp and torch.cuda.is_available()))\n",
    "                  if torch.cuda.is_available() else contextlib.nullcontext()):\n",
    "                out = model(b)\n",
    "                _, loss_dict = compute_loss_with_physics(out, b.y, b, loss_fn=loss_fn, step=None)\n",
    "\n",
    "            total_losses.append(loss_dict['total_loss'])\n",
    "            mse_losses.append(loss_dict['mse_loss'])\n",
    "            continuity_losses.append(loss_dict.get('continuity_loss', 0.0))\n",
    "            momentum_losses.append(loss_dict.get('momentum_loss', 0.0))\n",
    "            bc_losses.append(loss_dict.get('bc_loss', 0.0))  # ← BC loss 수집\n",
    "            if 'cont_weight_used' in loss_dict: cont_w_used_hist.append(loss_dict['cont_weight_used'])\n",
    "            if 'mom_weight_used'  in loss_dict: mom_w_used_hist.append(loss_dict['mom_weight_used'])\n",
    "\n",
    "            postfix = {\"total\": f\"{loss_dict['total_loss']:.4e}\"}\n",
    "            if 'continuity_loss' in loss_dict: postfix[\"cont\"] = f\"{loss_dict['continuity_loss']:.4e}\"\n",
    "            if 'momentum_loss' in loss_dict:   postfix[\"momentum\"] = f\"{loss_dict['momentum_loss']:.4e}\"\n",
    "            if 'bc_loss' in loss_dict:         postfix[\"bc\"] = f\"{loss_dict['bc_loss']:.4e}\"  # ← BC loss 표시\n",
    "            pbar.set_postfix(postfix)\n",
    "\n",
    "        finally:\n",
    "            pbar.update(1)\n",
    "\n",
    "    pbar.close()\n",
    "\n",
    "    avg_losses = {\n",
    "        'total_loss': np.mean(total_losses) if total_losses else float('nan'),\n",
    "        'mse_loss': np.mean(mse_losses) if mse_losses else float('nan'),\n",
    "        'continuity_loss': np.mean(continuity_losses) if continuity_losses else float('nan'),\n",
    "        'momentum_loss': np.mean(momentum_losses) if momentum_losses else float('nan'),\n",
    "        'bc_loss': np.mean(bc_losses) if bc_losses else float('nan'),  # ← BC loss 평균\n",
    "    }\n",
    "    if cont_w_used_hist: avg_losses['cont_weight_used'] = float(np.mean(cont_w_used_hist))\n",
    "    if mom_w_used_hist:  avg_losses['mom_weight_used']  = float(np.mean(mom_w_used_hist))\n",
    "    return avg_losses['total_loss'], avg_losses\n",
    "\n",
    "\n",
    "\n",
    "def train_epoch(loader, model, optim, device, scaler, desc: str = 'train',\n",
    "                loss_fn=None, global_step_start: int = 0, scheduler=None, scheduler_step_mode: str = \"epoch\",\n",
    "                log_every_n_steps: int = -1):  # -1로 설정하면 step 로깅 비활성화\n",
    "    model.train()\n",
    "    total_losses, mse_losses, continuity_losses, momentum_losses = [], [], [], []\n",
    "    bc_losses = []\n",
    "    cont_w_used_hist, mom_w_used_hist = [], []\n",
    "\n",
    "    global_step = global_step_start\n",
    "    steps = len(loader)\n",
    "    pbar = tqdm(total=steps, desc=desc, leave=False)\n",
    "\n",
    "    for batch_idx, batch in enumerate(loader):\n",
    "        try:\n",
    "            if batch is None:\n",
    "                pbar.update(1); global_step += 1; continue\n",
    "\n",
    "            b = batch.to(device)\n",
    "            optim.zero_grad(set_to_none=True)\n",
    "\n",
    "            use_scaler = (scaler is not None) and getattr(scaler, \"is_enabled\", lambda: False)()\n",
    "\n",
    "            if use_scaler:\n",
    "                with autocast(enabled=torch.cuda.is_available()):\n",
    "                    out = model(b)\n",
    "                    loss, loss_dict = compute_loss_with_physics(out, b.y, b, loss_fn=loss_fn, step=global_step)\n",
    "                scaler.scale(loss).backward()\n",
    "                scaler.unscale_(optim)\n",
    "                torch.nn.utils.clip_grad_norm_(model.parameters(), 1.0)\n",
    "                scaler.step(optim)\n",
    "                scaler.update()\n",
    "            else:\n",
    "                with contextlib.nullcontext():\n",
    "                    out = model(b)\n",
    "                    loss, loss_dict = compute_loss_with_physics(out, b.y, b, loss_fn=loss_fn, step=global_step)\n",
    "                loss.backward()\n",
    "                torch.nn.utils.clip_grad_norm_(model.parameters(), 1.0)\n",
    "                optim.step()\n",
    "\n",
    "            if scheduler is not None and scheduler_step_mode == \"step\":\n",
    "                try:\n",
    "                    scheduler.step()\n",
    "                except TypeError:\n",
    "                    pass\n",
    "\n",
    "            # 집계\n",
    "            total_losses.append(loss_dict['total_loss'])\n",
    "            mse_losses.append(loss_dict['mse_loss'])\n",
    "            continuity_losses.append(loss_dict.get('continuity_loss', 0.0))\n",
    "            momentum_losses.append(loss_dict.get('momentum_loss', 0.0))\n",
    "            bc_losses.append(loss_dict.get('bc_loss', 0.0))\n",
    "            if 'cont_weight_used' in loss_dict: cont_w_used_hist.append(loss_dict['cont_weight_used'])\n",
    "            if 'mom_weight_used'  in loss_dict: mom_w_used_hist.append(loss_dict['mom_weight_used'])\n",
    "\n",
    "            # === Step-level 로깅 완전 제거 또는 조건부 비활성화 ===\n",
    "            if log_every_n_steps > 0 and (batch_idx % max(1, log_every_n_steps)) == 0:\n",
    "                # Step-level 로깅을 원하는 경우에만 실행\n",
    "                log_payload = {\n",
    "                    \"step\": global_step,\n",
    "                    \"train/total\": loss_dict['total_loss'],\n",
    "                    \"train/mse\": loss_dict['mse_loss'],\n",
    "                    \"train/continuity\": loss_dict.get('continuity_loss', 0.0),\n",
    "                    \"train/momentum\": loss_dict.get('momentum_loss', 0.0),\n",
    "                    \"train/bc\": loss_dict.get('bc_loss', 0.0),\n",
    "                }\n",
    "                if 'cont_weight_used' in loss_dict: log_payload[\"weight/cont_used\"] = loss_dict['cont_weight_used']\n",
    "                if 'mom_weight_used'  in loss_dict: log_payload[\"weight/mom_used\"]  = loss_dict['mom_weight_used']\n",
    "                lr_now = get_lr(optim)\n",
    "                if lr_now is not None:\n",
    "                    log_payload[\"lr\"] = lr_now\n",
    "                wandb.log(log_payload, step=global_step, commit=False)\n",
    "\n",
    "            postfix = {\"total\": f\"{loss_dict['total_loss']:.4e}\",\n",
    "                       \"lr\": f\"{get_lr(optim):.2e}\" if get_lr(optim) is not None else \"n/a\"}\n",
    "            if 'continuity_loss' in loss_dict: postfix[\"cont\"] = f\"{loss_dict['continuity_loss']:.4e}\"\n",
    "            if 'momentum_loss' in loss_dict:   postfix[\"momentum\"] = f\"{loss_dict['momentum_loss']:.4e}\"\n",
    "            if 'bc_loss' in loss_dict:         postfix[\"bc\"] = f\"{loss_dict['bc_loss']:.4e}\"\n",
    "            pbar.set_postfix(postfix)\n",
    "\n",
    "        finally:\n",
    "            pbar.update(1)\n",
    "            global_step += 1\n",
    "\n",
    "    pbar.close()\n",
    "\n",
    "    avg_losses = {\n",
    "        'total_loss': np.mean(total_losses) if total_losses else float('nan'),\n",
    "        'mse_loss': np.mean(mse_losses) if mse_losses else float('nan'),\n",
    "        'continuity_loss': np.mean(continuity_losses) if continuity_losses else float('nan'),\n",
    "        'momentum_loss': np.mean(momentum_losses) if momentum_losses else float('nan'),\n",
    "        'bc_loss': np.mean(bc_losses) if bc_losses else float('nan'),\n",
    "    }\n",
    "    if cont_w_used_hist: avg_losses['cont_weight_used'] = float(np.mean(cont_w_used_hist))\n",
    "    if mom_w_used_hist:  avg_losses['mom_weight_used']  = float(np.mean(mom_w_used_hist))\n",
    "\n",
    "    return avg_losses['total_loss'], avg_losses, global_step"
   ]
  },
  {
   "cell_type": "markdown",
   "id": "085d9f2a",
   "metadata": {},
   "source": [
    "# Loss Definition\n",
    "\n",
    "Continuity equation을 활용한 physics loss를 training과 validation에 통합합니다."
   ]
  },
  {
   "cell_type": "code",
   "execution_count": 9,
   "id": "85479fff",
   "metadata": {},
   "outputs": [
    {
     "name": "stdout",
     "output_type": "stream",
     "text": [
      "✅ Physics loss initialized:\n",
      "   Curriculum: start at epoch 30, ramp for 80 epochs\n",
      "   Continuity: 0.050 → 0.100\n",
      "   Momentum: 0.050 → 0.100\n",
      "   BC weight: 0.050 (constant)\n",
      "   ├─ Wall: No-slip condition (u=v=0)\n",
      "   ├─ Inlet: Prescribed velocity\n",
      "   ├─ Outlet: Zero-gradient\n",
      "   └─ Farfield: Freestream conditions\n"
     ]
    }
   ],
   "source": [
    "# Import and setup physics-informed loss\n",
    "from importlib import reload\n",
    "from typing import Dict, Optional\n",
    "from navier_stokes_physics_loss import NavierStokesPhysicsLoss\n",
    "\n",
    "steps_per_epoch = len(train_loader)\n",
    "\n",
    "loss_fn = NavierStokesPhysicsLoss(\n",
    "    # Data loss\n",
    "    data_loss_weight=scfg.data_loss_weight,\n",
    "\n",
    "    # Continuity loss with curriculum\n",
    "    continuity_loss_weight=scfg.continuity_loss_weight,\n",
    "    continuity_target_weight=scfg.continuity_target_weight,\n",
    "\n",
    "    # Momentum loss with curriculum\n",
    "    momentum_loss_weight=scfg.momentum_loss_weight,\n",
    "    momentum_target_weight=scfg.momentum_target_weight,\n",
    "\n",
    "    # Curriculum schedule\n",
    "    curriculum_ramp_steps=scfg.ramp_epochs * steps_per_epoch,\n",
    "    ramp_start_step=scfg.ramp_start_epoch * steps_per_epoch,\n",
    "    cont_curriculum_ramp_steps=-1,  # Use shared schedule\n",
    "    mom_curriculum_ramp_steps=-1,   # Use shared schedule\n",
    "    ramp_mode=scfg.ramp_mode,\n",
    "\n",
    "    # Boundary conditions\n",
    "    bc_loss_weight=scfg.bc_loss_weight,\n",
    "    chord_length=scfg.chord_length,\n",
    "    \n",
    "    # Physics parameters\n",
    "    dynamic_uref_from_data=scfg.dynamic_uref_from_data,\n",
    "    dynamic_re_from_data=scfg.dynamic_re_from_data,\n",
    "    nu_molecular=scfg.nu_molecular,\n",
    "    uinf_from=scfg.uinf_from,\n",
    "\n",
    "    # Stability controls\n",
    "    use_huber_for_physics=scfg.use_huber_for_physics,\n",
    "    huber_delta=scfg.huber_delta,\n",
    "    use_perimeter_norm_for_div=scfg.use_perimeter_norm_for_div,\n",
    "    div_area_floor_factor=scfg.div_area_floor_factor,\n",
    "    div_min_degree=scfg.div_min_degree,\n",
    "    \n",
    "    # Debug settings\n",
    "    debug=scfg.physics_debug,\n",
    "    debug_level=scfg.physics_debug_level,\n",
    "    debug_every=scfg.physics_debug_every,\n",
    ")\n",
    "\n",
    "print(f\"✅ Physics loss initialized:\")\n",
    "print(f\"   Curriculum: start at epoch {scfg.ramp_start_epoch}, ramp for {scfg.ramp_epochs} epochs\")\n",
    "print(f\"   Continuity: {scfg.continuity_loss_weight:.3f} → {scfg.continuity_target_weight:.3f}\")\n",
    "print(f\"   Momentum: {scfg.momentum_loss_weight:.3f} → {scfg.momentum_target_weight:.3f}\")\n",
    "print(f\"   BC weight: {scfg.bc_loss_weight:.3f} (constant)\")\n",
    "print(f\"   ├─ Wall: No-slip condition (u=v=0)\")\n",
    "print(f\"   ├─ Inlet: Prescribed velocity\")\n",
    "print(f\"   ├─ Outlet: Zero-gradient\")\n",
    "print(f\"   └─ Farfield: Freestream conditions\")"
   ]
  },
  {
   "cell_type": "code",
   "execution_count": 10,
   "id": "894bd225",
   "metadata": {},
   "outputs": [
    {
     "name": "stdout",
     "output_type": "stream",
     "text": [
      "\n",
      "=== Testing Batched Data with BC Masks ===\n",
      "Batch info:\n",
      "  Batch size: 2\n",
      "  Total nodes: 32115\n",
      "  Node features shape: torch.Size([32115, 7])\n",
      "  Targets shape: torch.Size([32115, 4])\n",
      "  is_wall shape: torch.Size([32115]), sum: 2027\n",
      "  is_inlet shape: torch.Size([32115]), sum: 3262\n",
      "  is_outlet shape: torch.Size([32115]), sum: 3729\n",
      "  is_farfield shape: torch.Size([32115]), sum: 4609\n",
      "\n",
      "✅ BC masks appear properly batched (wall: 2027/32115 nodes)\n",
      "\n",
      "=== Testing Physics Loss ===\n",
      "✅ Physics loss works with batch_size=2\n",
      "   mse_loss: 1.5335e+00\n",
      "   continuity_loss: 5.8582e-03\n",
      "   momentum_loss: 2.2896e+05\n",
      "   bc_loss: 1.8800e-01\n",
      "   total_loss: 1.1449e+04\n"
     ]
    }
   ],
   "source": [
    "# Add this test after the physics loss initialization\n",
    "\n",
    "# Test batched data structure with BC masks\n",
    "print(\"\\n=== Testing Batched Data with BC Masks ===\")\n",
    "test_batch = next(iter(train_loader))\n",
    "print(f\"Batch info:\")\n",
    "print(f\"  Batch size: {test_batch.num_graphs}\")\n",
    "print(f\"  Total nodes: {test_batch.num_nodes}\")\n",
    "print(f\"  Node features shape: {test_batch.x.shape}\")\n",
    "print(f\"  Targets shape: {test_batch.y.shape}\")\n",
    "\n",
    "# Check BC masks\n",
    "for bc_type in ['wall', 'inlet', 'outlet', 'farfield']:\n",
    "    mask_name = f'is_{bc_type}'\n",
    "    if hasattr(test_batch, mask_name):\n",
    "        mask = getattr(test_batch, mask_name)\n",
    "        print(f\"  {mask_name} shape: {mask.shape}, sum: {mask.sum().item()}\")\n",
    "        # Check if the sum makes sense (should be roughly 2x individual graph values for batch_size=2)\n",
    "        expected_range = (1000, 5000) if bc_type == 'wall' else (2000, 6000)\n",
    "        if mask.sum().item() < 100:\n",
    "            print(f\"    ⚠️ WARNING: Very few {bc_type} nodes detected!\")\n",
    "    else:\n",
    "        print(f\"  {mask_name}: NOT FOUND\")\n",
    "\n",
    "# Check that masks are properly batched (not all True/False)\n",
    "if hasattr(test_batch, 'is_wall'):\n",
    "    wall_mask = test_batch.is_wall\n",
    "    if wall_mask.all():\n",
    "        print(\"\\n❌ ERROR: All nodes marked as wall! BC masks not properly batched.\")\n",
    "    elif (~wall_mask).all():\n",
    "        print(\"\\n❌ ERROR: No wall nodes found! BC masks may be lost in batching.\")\n",
    "    else:\n",
    "        print(f\"\\n✅ BC masks appear properly batched (wall: {wall_mask.sum().item()}/{len(wall_mask)} nodes)\")\n",
    "\n",
    "# Test physics loss with properly batched data\n",
    "print(\"\\n=== Testing Physics Loss ===\")\n",
    "test_predictions = torch.randn_like(test_batch.y).to(device)\n",
    "test_batch = test_batch.to(device)\n",
    "try:\n",
    "    loss_dict = loss_fn(test_predictions, test_batch.y, test_batch, step=0)\n",
    "    print(f\"✅ Physics loss works with batch_size={test_batch.num_graphs}\")\n",
    "    for k, v in loss_dict.items():\n",
    "        if 'loss' in k:\n",
    "            print(f\"   {k}: {v:.4e}\")\n",
    "except Exception as e:\n",
    "    print(f\"❌ Physics loss failed: {e}\")\n",
    "    import traceback\n",
    "    traceback.print_exc()"
   ]
  },
  {
   "cell_type": "code",
   "execution_count": 11,
   "id": "0f6d006a",
   "metadata": {},
   "outputs": [
    {
     "name": "stdout",
     "output_type": "stream",
     "text": [
      "\n",
      "=== Physics Loss Debug ===\n",
      "Predictions shape: torch.Size([32131, 4])\n",
      "Targets shape: torch.Size([32131, 4])\n",
      "Batch size: 2\n",
      "Total nodes: 32131\n",
      "Node features (x) shape: torch.Size([32131, 7])\n",
      "edge_attr_dxdy shape: torch.Size([191340, 3])\n",
      "is_wall: shape=torch.Size([32131]), sum=2036, dtype=torch.bool\n",
      "is_inlet: shape=torch.Size([32131]), sum=3266, dtype=torch.bool\n",
      "is_outlet: shape=torch.Size([32131]), sum=3714, dtype=torch.bool\n",
      "is_farfield: shape=torch.Size([32131]), sum=4598, dtype=torch.bool\n",
      "✅ Simple MSE loss works: 1.3191e+00\n"
     ]
    }
   ],
   "source": [
    "# Add this debug function to understand the issue better\n",
    "\n",
    "def debug_physics_loss(batch_data, predictions, targets):\n",
    "    \"\"\"Debug helper to understand physics loss issues\"\"\"\n",
    "    print(\"\\n=== Physics Loss Debug ===\")\n",
    "    print(f\"Predictions shape: {predictions.shape}\")\n",
    "    print(f\"Targets shape: {targets.shape}\")\n",
    "    print(f\"Batch size: {batch_data.num_graphs if hasattr(batch_data, 'num_graphs') else 'N/A'}\")\n",
    "    print(f\"Total nodes: {batch_data.num_nodes if hasattr(batch_data, 'num_nodes') else predictions.shape[0]}\")\n",
    "    \n",
    "    # Check features\n",
    "    if hasattr(batch_data, 'x'):\n",
    "        print(f\"Node features (x) shape: {batch_data.x.shape}\")\n",
    "    \n",
    "    # Check edge attributes\n",
    "    if hasattr(batch_data, 'edge_attr_dxdy'):\n",
    "        print(f\"edge_attr_dxdy shape: {batch_data.edge_attr_dxdy.shape}\")\n",
    "    elif hasattr(batch_data, 'edge_attr'):\n",
    "        print(f\"edge_attr shape: {batch_data.edge_attr.shape}\")\n",
    "    else:\n",
    "        print(\"⚠️ No edge attributes found!\")\n",
    "    \n",
    "    # Check BC masks\n",
    "    for bc_type in ['wall', 'inlet', 'outlet', 'farfield']:\n",
    "        mask_name = f'is_{bc_type}'\n",
    "        if hasattr(batch_data, mask_name):\n",
    "            mask = getattr(batch_data, mask_name)\n",
    "            print(f\"{mask_name}: shape={mask.shape}, sum={mask.sum().item()}, dtype={mask.dtype}\")\n",
    "    \n",
    "    # Check if y_norm_params are present\n",
    "    if hasattr(batch_data, 'y_norm_params'):\n",
    "        print(f\"y_norm_params present: {batch_data.y_norm_params.keys() if isinstance(batch_data.y_norm_params, dict) else 'Not a dict'}\")\n",
    "    \n",
    "    # Try a simple MSE loss first\n",
    "    try:\n",
    "        simple_mse = F.mse_loss(predictions, targets)\n",
    "        print(f\"✅ Simple MSE loss works: {simple_mse:.4e}\")\n",
    "    except Exception as e:\n",
    "        print(f\"❌ Even simple MSE fails: {e}\")\n",
    "    \n",
    "    return\n",
    "\n",
    "# Test with debug\n",
    "test_batch = next(iter(train_loader)).to(device)\n",
    "test_pred = torch.randn_like(test_batch.y)\n",
    "debug_physics_loss(test_batch, test_pred, test_batch.y)"
   ]
  },
  {
   "cell_type": "markdown",
   "id": "56e4ea6d",
   "metadata": {},
   "source": [
    "# 8. Define Model\n"
   ]
  },
  {
   "cell_type": "code",
   "execution_count": 12,
   "id": "59055c99",
   "metadata": {},
   "outputs": [
    {
     "name": "stdout",
     "output_type": "stream",
     "text": [
      "[OK] Enhanced Global Context & Attention Mechanism loaded!\n",
      "Features: Multi-head attention, cross-attention, positional encoding, advanced pooling\n",
      "Using device: cuda\n",
      "🚀 Enhanced CFD Model with Global Context ready!\n",
      "Configuration: global_tokens=True, num_tokens=4\n",
      "Attention: heads=4, layers=7\n",
      "Cross-attention=True, pooling=attention\n",
      "Model parameters: 2,658,564\n",
      "Node dim: 7 | Edge dim: 5\n",
      "[DEVICE] Model placed on: cuda\n"
     ]
    }
   ],
   "source": [
    "# Define model using EnhancedCFDModelWithGlobalContext (safe device placement)\n",
    "from global_context_processor import EnhancedCFDModelWithGlobalContext\n",
    "import torch\n",
    "import gc\n",
    "\n",
    "# Clean up memory before model instantiation\n",
    "gc.collect()\n",
    "if torch.cuda.is_available():\n",
    "    torch.cuda.empty_cache()\n",
    "\n",
    "try:\n",
    "    # Dimensions: utils._prep_graph_for_norm() appends pos2 -> node_dim = 7, edge_dim ensured = 5\n",
    "    node_dim = 7\n",
    "    edge_dim = 5\n",
    "\n",
    "    # Set device: use CUDA if available, otherwise CPU\n",
    "    device = torch.device(\"cuda\" if torch.cuda.is_available() else \"cpu\")\n",
    "    print(f\"Using device: {device}\")\n",
    "\n",
    "    # Instantiate model with current smoke config (scfg)\n",
    "    model = EnhancedCFDModelWithGlobalContext(\n",
    "        node_feat_dim=node_dim,\n",
    "        edge_feat_dim=edge_dim,\n",
    "        hidden_dim=scfg.hidden,\n",
    "        output_dim=4,\n",
    "        num_mp_layers=scfg.layers,\n",
    "        dropout_p=0.1,\n",
    "        config=scfg  # pass explicitly to avoid module-scope dependency\n",
    "    )\n",
    "\n",
    "    # Move to target device\n",
    "    model = model.to(device)\n",
    "\n",
    "    # Optimizer\n",
    "    optimizer = torch.optim.AdamW(\n",
    "        model.parameters(),\n",
    "        lr=scfg.lr,\n",
    "        weight_decay=scfg.weight_decay,\n",
    "        betas=scfg.betas,\n",
    "        eps=scfg.eps,\n",
    "    )\n",
    "\n",
    "    print('🚀 Enhanced CFD Model with Global Context ready!')\n",
    "    print(f'Configuration: global_tokens={scfg.use_global_tokens}, num_tokens={scfg.num_global_tokens}')\n",
    "    print(f'Attention: heads={scfg.attention_heads}, layers={scfg.attention_layers}')\n",
    "    print(f'Cross-attention={scfg.use_cross_attention}, pooling={scfg.global_pooling_type}')\n",
    "    print(f'Model parameters: {sum(p.numel() for p in model.parameters() if p.requires_grad):,}')\n",
    "    print(f'Node dim: {node_dim} | Edge dim: {edge_dim}')\n",
    "    print(f\"[DEVICE] Model placed on: {device}\")\n",
    "\n",
    "except torch.cuda.OutOfMemoryError:\n",
    "    print(\"CUDA out of memory. Kernel will not crash.\")\n",
    "    print(\"Try reducing batch size or model size.\")\n",
    "    # Free up memory\n",
    "    del model\n",
    "    del optimizer\n",
    "    gc.collect()\n",
    "    if torch.cuda.is_available():\n",
    "        torch.cuda.empty_cache()\n",
    "except Exception as e:\n",
    "    print(f\"An unexpected error occurred: {e}\")\n",
    "    # Free up memory\n",
    "    if 'model' in locals():\n",
    "        del model\n",
    "    if 'optimizer' in locals():\n",
    "        del optimizer\n",
    "    gc.collect()\n",
    "    if torch.cuda.is_available():\n",
    "        torch.cuda.empty_cache()"
   ]
  },
  {
   "cell_type": "code",
   "execution_count": 13,
   "id": "354297ed",
   "metadata": {},
   "outputs": [
    {
     "name": "stdout",
     "output_type": "stream",
     "text": [
      "🚀 LR scheduler ready!\n",
      "Scheduler: OneCycleLR | Max LR: 0.0004 | Epochs: 100\n"
     ]
    }
   ],
   "source": [
    "# 9. Set-up learning rate schedule\n",
    "# LR scheduler\n",
    "try:\n",
    "    # Use the device determined in the previous cell\n",
    "    device = torch.device(\"cuda\" if torch.cuda.is_available() else \"cpu\")\n",
    "    \n",
    "    # Ensure model is on the correct device before setting up scheduler\n",
    "    if 'model' in locals() and next(model.parameters()).device != device:\n",
    "        model.to(device)\n",
    "\n",
    "    # Set up the learning rate scheduler\n",
    "    lr_scheduler = torch.optim.lr_scheduler.OneCycleLR(\n",
    "        optimizer,\n",
    "        max_lr=scfg.lr,\n",
    "        epochs=scfg.epochs,\n",
    "        steps_per_epoch=len(train_loader),\n",
    "        pct_start=0.1,\n",
    "        anneal_strategy='cos',\n",
    "        div_factor=1e2,\n",
    "        final_div_factor=1e3,\n",
    "    )\n",
    "    print('🚀 LR scheduler ready!')\n",
    "    print(f'Scheduler: OneCycleLR | Max LR: {scfg.lr} | Epochs: {scfg.epochs}')\n",
    "\n",
    "except NameError:\n",
    "    print(\"Model or optimizer not defined. Skipping scheduler setup.\")\n",
    "except Exception as e:\n",
    "    print(f\"An unexpected error occurred during scheduler setup: {e}\")"
   ]
  },
  {
   "cell_type": "markdown",
   "id": "8411aa65",
   "metadata": {},
   "source": [
    "# 9. Set-up learning rate schedule"
   ]
  },
  {
   "cell_type": "code",
   "execution_count": 14,
   "id": "1e50b514",
   "metadata": {},
   "outputs": [
    {
     "name": "stdout",
     "output_type": "stream",
     "text": [
      "📊 Learning rate scheduler: CosineAnnealingLR\n",
      "   T_max: 80, eta_min: 1e-06\n",
      "\n",
      "🎯 Current configuration:\n",
      "   Initial LR: 0.0004\n",
      "   Scheduler: cosine\n",
      "   Epochs: 100\n",
      "📊 Learning rate scheduler: CosineAnnealingLR\n",
      "   T_max: 80, eta_min: 1e-06\n"
     ]
    },
    {
     "name": "stderr",
     "output_type": "stream",
     "text": [
      "c:\\Users\\Kim\\.conda\\envs\\pyg5090\\Lib\\site-packages\\torch\\optim\\lr_scheduler.py:192: UserWarning: Detected call of `lr_scheduler.step()` before `optimizer.step()`. In PyTorch 1.1.0 and later, you should call them in the opposite order: `optimizer.step()` before `lr_scheduler.step()`.  Failure to do this will result in PyTorch skipping the first value of the learning rate schedule. See more details at https://pytorch.org/docs/stable/optim.html#how-to-adjust-learning-rate\n",
      "  warnings.warn(\n"
     ]
    },
    {
     "data": {
      "image/png": "[encoded data removed]",
      "text/plain": [
       "<Figure size 1000x400 with 2 Axes>"
      ]
     },
     "metadata": {},
     "output_type": "display_data"
    },
    {
     "name": "stdout",
     "output_type": "stream",
     "text": [
      "📈 LR Schedule Preview:\n",
      "   Epoch  1: 4.00e-04\n",
      "   Epoch  2: 4.00e-04\n",
      "   Epoch  3: 3.99e-04\n",
      "   Epoch  4: 3.99e-04\n",
      "   Epoch  5: 3.98e-04\n",
      "   Epoch  6: 3.96e-04\n",
      "   Epoch  7: 3.94e-04\n",
      "   Epoch  8: 3.93e-04\n",
      "   Epoch  9: 3.90e-04\n",
      "   Epoch 10: 3.88e-04\n",
      "   ...     : ...\n",
      "   Epoch 100: 5.40e-05\n"
     ]
    }
   ],
   "source": [
    "# Learning Rate Scheduler 설정\n",
    "def create_lr_scheduler(optimizer, config):\n",
    "    \"\"\"Configuration에 따라 적절한 LR scheduler를 생성합니다.\"\"\"\n",
    "    \n",
    "    if config.lr_scheduler is None:\n",
    "        print(\"🚫 Learning rate scheduler: None (constant LR)\")\n",
    "        return None\n",
    "    \n",
    "    elif config.lr_scheduler == 'cosine':\n",
    "        scheduler = torch.optim.lr_scheduler.CosineAnnealingLR(\n",
    "            optimizer,\n",
    "            T_max=config.cosine_T_max,\n",
    "            eta_min=config.cosine_eta_min\n",
    "        )\n",
    "        print(f\"📊 Learning rate scheduler: CosineAnnealingLR\")\n",
    "        print(f\"   T_max: {config.cosine_T_max}, eta_min: {config.cosine_eta_min}\")\n",
    "        return scheduler\n",
    "    \n",
    "    elif config.lr_scheduler == 'cosine_warm_restarts':\n",
    "        scheduler = torch.optim.lr_scheduler.CosineAnnealingWarmRestarts(\n",
    "            optimizer,\n",
    "            T_0=config.wr_T_0,\n",
    "            T_mult=config.wr_T_mult,\n",
    "            eta_min=config.wr_eta_min\n",
    "        )\n",
    "        print(f\"🔄 Learning rate scheduler: CosineAnnealingWarmRestarts\")\n",
    "        print(f\"   T_0: {config.wr_T_0}, T_mult: {config.wr_T_mult}, eta_min: {config.wr_eta_min}\")\n",
    "        return scheduler\n",
    "    \n",
    "    elif config.lr_scheduler == 'reduce_on_plateau':\n",
    "        scheduler = torch.optim.lr_scheduler.ReduceLROnPlateau(\n",
    "            optimizer,\n",
    "            mode='min',  # validation loss를 minimize\n",
    "            factor=config.rop_factor,\n",
    "            patience=config.rop_patience,\n",
    "            min_lr=config.rop_min_lr,\n",
    "        )\n",
    "        print(f\"📉 Learning rate scheduler: ReduceLROnPlateau\")\n",
    "        print(f\"   factor: {config.rop_factor}, patience: {config.rop_patience}, min_lr: {config.rop_min_lr}\")\n",
    "        return scheduler\n",
    "    \n",
    "    else:\n",
    "        print(f\"❌ Unknown scheduler: {config.lr_scheduler}, using None\")\n",
    "        return None\n",
    "\n",
    "# Scheduler 생성\n",
    "lr_scheduler = create_lr_scheduler(optimizer, scfg)\n",
    "\n",
    "print(f\"\\n🎯 Current configuration:\")\n",
    "print(f\"   Initial LR: {scfg.lr}\")\n",
    "print(f\"   Scheduler: {scfg.lr_scheduler}\")\n",
    "print(f\"   Epochs: {scfg.epochs}\")\n",
    "\n",
    "# 스케줄러별 LR 변화 시뮬레이션 (시각화용)\n",
    "def simulate_lr_schedule(config, num_epochs=20):\n",
    "    \"\"\"LR 스케줄 변화를 시뮬레이션합니다.\"\"\"\n",
    "    import copy\n",
    "    \n",
    "    # 임시 optimizer 생성\n",
    "    temp_param = torch.nn.Parameter(torch.randn(1))\n",
    "    temp_opt = torch.optim.AdamW([temp_param], lr=config.lr)\n",
    "    temp_scheduler = create_lr_scheduler(temp_opt, config)\n",
    "    \n",
    "    lrs = []\n",
    "    val_losses = [1.0, 0.9, 0.85, 0.8, 0.85, 0.82, 0.81, 0.80, 0.82, 0.79,\n",
    "                  0.78, 0.77, 0.78, 0.76, 0.75, 0.76, 0.74, 0.73, 0.74, 0.72]  # 가상의 validation loss\n",
    "    \n",
    "    for epoch in range(num_epochs):\n",
    "        lrs.append(temp_opt.param_groups[0]['lr'])\n",
    "        \n",
    "        if temp_scheduler is not None:\n",
    "            if config.lr_scheduler == 'reduce_on_plateau':\n",
    "                # ReduceLROnPlateau의 경우 validation loss 필요\n",
    "                val_loss = val_losses[epoch] if epoch < len(val_losses) else val_losses[-1]\n",
    "                temp_scheduler.step(val_loss)\n",
    "            else:\n",
    "                # 다른 스케줄러는 epoch만 필요\n",
    "                temp_scheduler.step()\n",
    "    \n",
    "    return lrs\n",
    "\n",
    "# LR 스케줄 시각화\n",
    "if scfg.lr_scheduler is not None:\n",
    "    lrs = simulate_lr_schedule(scfg, scfg.epochs)\n",
    "    \n",
    "    import matplotlib.pyplot as plt\n",
    "    plt.figure(figsize=(10, 4))\n",
    "    plt.subplot(1, 2, 1)\n",
    "    plt.plot(lrs, 'o-', linewidth=2, markersize=4)\n",
    "    plt.xlabel('Epoch')\n",
    "    plt.ylabel('Learning Rate')\n",
    "    plt.title(f'LR Schedule: {scfg.lr_scheduler}')\n",
    "    plt.grid(True, alpha=0.3)\n",
    "    \n",
    "    plt.subplot(1, 2, 2)\n",
    "    plt.semilogy(lrs, 'o-', linewidth=2, markersize=4)\n",
    "    plt.xlabel('Epoch')\n",
    "    plt.ylabel('Learning Rate (log scale)')\n",
    "    plt.title(f'LR Schedule: {scfg.lr_scheduler} (Log)')\n",
    "    plt.grid(True, alpha=0.3)\n",
    "    \n",
    "    plt.tight_layout()\n",
    "    plt.show()\n",
    "    \n",
    "    print(f\"📈 LR Schedule Preview:\")\n",
    "    for i, lr in enumerate(lrs[:10]):  # 처음 10 epoch만 표시\n",
    "        print(f\"   Epoch {i+1:2d}: {lr:.2e}\")\n",
    "    if len(lrs) > 10:\n",
    "        print(f\"   ...     : ...\")\n",
    "        print(f\"   Epoch {len(lrs):2d}: {lrs[-1]:.2e}\")\n",
    "else:\n",
    "    print(\"📊 No scheduler selected - constant learning rate will be used.\")"
   ]
  },
  {
   "cell_type": "markdown",
   "id": "ad896412",
   "metadata": {},
   "source": [
    "# wandb set-up"
   ]
  },
  {
   "cell_type": "code",
   "execution_count": 15,
   "id": "798bb4a7",
   "metadata": {},
   "outputs": [
    {
     "name": "stderr",
     "output_type": "stream",
     "text": [
      "\u001b[34m\u001b[1mwandb\u001b[0m: \u001b[33mWARNING\u001b[0m `start_method` is deprecated and will be removed in a future version of wandb. This setting is currently non-functional and safely ignored.\n",
      "wandb: Currently logged in as: jyk-snuai (jyk-snuai-seoul-national-university) to https://api.wandb.ai. Use `wandb login --relogin` to force relogin\n"
     ]
    },
    {
     "data": {
      "text/html": [
       "Tracking run with wandb version 0.21.1"
      ],
      "text/plain": [
       "<IPython.core.display.HTML object>"
      ]
     },
     "metadata": {},
     "output_type": "display_data"
    },
    {
     "data": {
      "text/html": [
       "Run data is saved locally in <code>c:\\Users\\Kim\\Desktop\\airfrans_gnn\\wandb\\run-20250920_221216-8k0kq1pj</code>"
      ],
      "text/plain": [
       "<IPython.core.display.HTML object>"
      ]
     },
     "metadata": {},
     "output_type": "display_data"
    },
    {
     "data": {
      "text/html": [
       "Syncing run <strong><a href='https://wandb.ai/jyk-snuai-seoul-national-university/airfrans-gnn/runs/8k0kq1pj' target=\"_blank\">cool-meadow-27</a></strong> to <a href='https://wandb.ai/jyk-snuai-seoul-national-university/airfrans-gnn' target=\"_blank\">Weights & Biases</a> (<a href='https://wandb.me/developer-guide' target=\"_blank\">docs</a>)<br>"
      ],
      "text/plain": [
       "<IPython.core.display.HTML object>"
      ]
     },
     "metadata": {},
     "output_type": "display_data"
    },
    {
     "data": {
      "text/html": [
       " View project at <a href='https://wandb.ai/jyk-snuai-seoul-national-university/airfrans-gnn' target=\"_blank\">https://wandb.ai/jyk-snuai-seoul-national-university/airfrans-gnn</a>"
      ],
      "text/plain": [
       "<IPython.core.display.HTML object>"
      ]
     },
     "metadata": {},
     "output_type": "display_data"
    },
    {
     "data": {
      "text/html": [
       " View run at <a href='https://wandb.ai/jyk-snuai-seoul-national-university/airfrans-gnn/runs/8k0kq1pj' target=\"_blank\">https://wandb.ai/jyk-snuai-seoul-national-university/airfrans-gnn/runs/8k0kq1pj</a>"
      ],
      "text/plain": [
       "<IPython.core.display.HTML object>"
      ]
     },
     "metadata": {},
     "output_type": "display_data"
    }
   ],
   "source": [
    "# === Weights & Biases init ===\n",
    "# scfg에 project/name/tags가 없더라도 안전하게 동작하도록 기본값 준비\n",
    "wandb_init_kwargs = dict(\n",
    "    project=getattr(scfg, \"wandb_project\", \"airfrans-gnn\"),\n",
    "    name=getattr(scfg, \"wandb_run_name\", None),           # ex) f\"exp_{time.time():.0f}\"\n",
    "    tags=getattr(scfg, \"wandb_tags\", None),               # ex) [\"physics\", \"navier-stokes\"]\n",
    "    mode=getattr(scfg, \"wandb_mode\", \"online\"),           # \"online\"|\"offline\"|\"disabled\"\n",
    "    settings=wandb.Settings(start_method=\"thread\"),\n",
    "    config={\n",
    "        # 기본 하이퍼 파라미터를 config로 기록\n",
    "        \"epochs\": getattr(scfg, \"epochs\", None),\n",
    "        \"batch_size\": getattr(scfg, \"batch_size\", None),\n",
    "        \"lr\": getattr(scfg, \"lr\", None),\n",
    "        \"optimizer\": getattr(scfg, \"optimizer\", \"adam\"),\n",
    "        \"scheduler\": getattr(scfg, \"scheduler\", None),\n",
    "        \"amp\": getattr(scfg, \"amp\", False),\n",
    "        # physics loss 주요 값\n",
    "        \"cont_w0\": getattr(loss_fn, \"cont_w0\", None),\n",
    "        \"cont_w_target\": getattr(loss_fn, \"cont_w_target\", None),\n",
    "        \"mom_w0\": getattr(loss_fn, \"mom_w0\", None),\n",
    "        \"mom_w_target\": getattr(loss_fn, \"mom_w_target\", None),\n",
    "        \"ramp_steps\": getattr(loss_fn, \"curr_steps\", None),\n",
    "        \"ramp_start_step\": getattr(loss_fn, \"ramp_start_step\", 0),\n",
    "    }\n",
    ")\n",
    "wandb_run = wandb.init(**wandb_init_kwargs)\n",
    "\n",
    "# Make wandb log per-epoch only: swallow per-step logs (commit=False)\n",
    "try:\n",
    "    _wandb_orig_log = wandb.log\n",
    "    def _log_epoch_only(data=None, step=None, commit=None, *args, **kwargs):\n",
    "        # Preserve default behavior: commit defaults to True when not provided\n",
    "        if commit is None:\n",
    "            commit = True\n",
    "        # Ignore any step-level logs that explicitly use commit=False\n",
    "        if commit is False:\n",
    "            return\n",
    "        return _wandb_orig_log(data, step=step, commit=commit, *args, **kwargs)\n",
    "    wandb.log = _log_epoch_only\n",
    "except Exception:\n",
    "    pass\n",
    "\n",
    "# Disable gradient/parameter histogram logging (step-based)\n",
    "try:\n",
    "    # Previously: wandb.watch(model, log=\"gradients\", log_freq=100)\n",
    "    # Avoid step-wise logging entirely\n",
    "    pass  # skip watch\n",
    "except Exception:\n",
    "    pass\n"
   ]
  },
  {
   "cell_type": "markdown",
   "id": "d5ce8830",
   "metadata": {},
   "source": [
    "# 10. Execute training loop"
   ]
  },
  {
   "cell_type": "code",
   "execution_count": 16,
   "id": "8d8b1b9b",
   "metadata": {},
   "outputs": [
    {
     "name": "stdout",
     "output_type": "stream",
     "text": [
      "Current scheduler: cosine\n",
      "✅ Scheduler ready: CosineAnnealingLR\n",
      "\n",
      "🧪 Running test training with physics loss...\n",
      "📊 Learning rate scheduler: CosineAnnealingLR\n",
      "   T_max: 80, eta_min: 1e-06\n"
     ]
    },
    {
     "name": "stderr",
     "output_type": "stream",
     "text": [
      "C:\\Users\\Kim\\AppData\\Local\\Temp\\ipykernel_25724\\2305599595.py:4: FutureWarning: `torch.cuda.amp.GradScaler(args...)` is deprecated. Please use `torch.amp.GradScaler('cuda', args...)` instead.\n",
      "  scaler = GradScaler(enabled=(scfg.amp and torch.cuda.is_available()))\n"
     ]
    },
    {
     "data": {
      "application/vnd.jupyter.widget-view+json": {
       "model_id": "7d45b66022fa466dbeaff7dea9154a53",
       "version_major": 2,
       "version_minor": 0
      },
      "text/plain": [
       "train[0]:   0%|          | 0/90 [00:00<?, ?it/s]"
      ]
     },
     "metadata": {},
     "output_type": "display_data"
    },
    {
     "data": {
      "application/vnd.jupyter.widget-view+json": {
       "model_id": "10c9b427a05a40fd859af6f0db97cdae",
       "version_major": 2,
       "version_minor": 0
      },
      "text/plain": [
       "val:   0%|          | 0/10 [00:00<?, ?it/s]"
      ]
     },
     "metadata": {},
     "output_type": "display_data"
    },
    {
     "name": "stderr",
     "output_type": "stream",
     "text": [
      "C:\\Users\\Kim\\AppData\\Local\\Temp\\ipykernel_25724\\3869139614.py:72: FutureWarning: `torch.cuda.amp.autocast(args...)` is deprecated. Please use `torch.amp.autocast('cuda', args...)` instead.\n",
      "  with (autocast(enabled=(scfg.amp and torch.cuda.is_available()))\n"
     ]
    },
    {
     "name": "stdout",
     "output_type": "stream",
     "text": [
      "Epoch   0 | Train: total=69.2664 mse=1.1278 cont=4.54e-04 mom=1.36e+03 bc=4.60e-02 | Val: total=0.8045 bc=1.05e-02 [BEST]\n"
     ]
    },
    {
     "data": {
      "application/vnd.jupyter.widget-view+json": {
       "model_id": "d649d31b879340b7bd81afb10bcb2e26",
       "version_major": 2,
       "version_minor": 0
      },
      "text/plain": [
       "train[1]:   0%|          | 0/90 [00:00<?, ?it/s]"
      ]
     },
     "metadata": {},
     "output_type": "display_data"
    },
    {
     "data": {
      "application/vnd.jupyter.widget-view+json": {
       "model_id": "2b9c96a07a104fc4bc2b974f0df558a6",
       "version_major": 2,
       "version_minor": 0
      },
      "text/plain": [
       "val:   0%|          | 0/10 [00:00<?, ?it/s]"
      ]
     },
     "metadata": {},
     "output_type": "display_data"
    },
    {
     "name": "stdout",
     "output_type": "stream",
     "text": [
      "Epoch   1 | Train: total=2.2368 mse=1.0058 cont=1.69e-04 mom=2.46e+01 bc=2.87e-02 | Val: total=0.6817 bc=1.23e-02 [BEST]\n"
     ]
    },
    {
     "data": {
      "application/vnd.jupyter.widget-view+json": {
       "model_id": "97da6a4c2aab4bf1a240039d036b1d55",
       "version_major": 2,
       "version_minor": 0
      },
      "text/plain": [
       "train[2]:   0%|          | 0/90 [00:00<?, ?it/s]"
      ]
     },
     "metadata": {},
     "output_type": "display_data"
    },
    {
     "data": {
      "application/vnd.jupyter.widget-view+json": {
       "model_id": "b6fa188acf0d42fe88859c28b4c67a68",
       "version_major": 2,
       "version_minor": 0
      },
      "text/plain": [
       "val:   0%|          | 0/10 [00:00<?, ?it/s]"
      ]
     },
     "metadata": {},
     "output_type": "display_data"
    },
    {
     "name": "stdout",
     "output_type": "stream",
     "text": [
      "Epoch   2 | Train: total=1.4394 mse=1.0053 cont=1.90e-04 mom=8.68e+00 bc=1.37e-02 | Val: total=0.6573 bc=1.07e-02 [BEST]\n"
     ]
    },
    {
     "data": {
      "application/vnd.jupyter.widget-view+json": {
       "model_id": "6ac65abaac694295855f1747cf9414cf",
       "version_major": 2,
       "version_minor": 0
      },
      "text/plain": [
       "train[3]:   0%|          | 0/90 [00:00<?, ?it/s]"
      ]
     },
     "metadata": {},
     "output_type": "display_data"
    },
    {
     "data": {
      "application/vnd.jupyter.widget-view+json": {
       "model_id": "9496aaf55d7e4df5afb438ebeacafa9a",
       "version_major": 2,
       "version_minor": 0
      },
      "text/plain": [
       "val:   0%|          | 0/10 [00:00<?, ?it/s]"
      ]
     },
     "metadata": {},
     "output_type": "display_data"
    },
    {
     "name": "stdout",
     "output_type": "stream",
     "text": [
      "Epoch   3 | Train: total=1.2233 mse=1.0063 cont=2.35e-04 mom=4.34e+00 bc=5.00e-02 | Val: total=0.6509 bc=1.14e-02 [BEST]\n"
     ]
    },
    {
     "data": {
      "application/vnd.jupyter.widget-view+json": {
       "model_id": "17d60a4d657e4e58b835a0f5026cc246",
       "version_major": 2,
       "version_minor": 0
      },
      "text/plain": [
       "train[4]:   0%|          | 0/90 [00:00<?, ?it/s]"
      ]
     },
     "metadata": {},
     "output_type": "display_data"
    },
    {
     "data": {
      "application/vnd.jupyter.widget-view+json": {
       "model_id": "fa4242a799204b0ab103ffe78b1a931b",
       "version_major": 2,
       "version_minor": 0
      },
      "text/plain": [
       "val:   0%|          | 0/10 [00:00<?, ?it/s]"
      ]
     },
     "metadata": {},
     "output_type": "display_data"
    },
    {
     "name": "stdout",
     "output_type": "stream",
     "text": [
      "Epoch   4 | Train: total=1.0976 mse=1.0061 cont=2.20e-04 mom=1.83e+00 bc=4.37e-02 | Val: total=0.6476 bc=1.12e-02 [BEST]\n"
     ]
    },
    {
     "data": {
      "application/vnd.jupyter.widget-view+json": {
       "model_id": "afea3ffaf26f4bdc9c80275f01ff8fd4",
       "version_major": 2,
       "version_minor": 0
      },
      "text/plain": [
       "train[5]:   0%|          | 0/90 [00:00<?, ?it/s]"
      ]
     },
     "metadata": {},
     "output_type": "display_data"
    },
    {
     "data": {
      "application/vnd.jupyter.widget-view+json": {
       "model_id": "47e31c550444455e94bc3301be3be6a2",
       "version_major": 2,
       "version_minor": 0
      },
      "text/plain": [
       "val:   0%|          | 0/10 [00:00<?, ?it/s]"
      ]
     },
     "metadata": {},
     "output_type": "display_data"
    },
    {
     "name": "stdout",
     "output_type": "stream",
     "text": [
      "Epoch   5 | Train: total=1.0458 mse=1.0047 cont=1.51e-04 mom=8.22e-01 bc=1.10e-02 | Val: total=0.6442 bc=1.02e-02 [BEST]\n"
     ]
    },
    {
     "data": {
      "application/vnd.jupyter.widget-view+json": {
       "model_id": "4bb358453f1c41c2bf8442e174e6b365",
       "version_major": 2,
       "version_minor": 0
      },
      "text/plain": [
       "train[6]:   0%|          | 0/90 [00:00<?, ?it/s]"
      ]
     },
     "metadata": {},
     "output_type": "display_data"
    },
    {
     "data": {
      "application/vnd.jupyter.widget-view+json": {
       "model_id": "8cdfb33e85d142c88215d218792cb744",
       "version_major": 2,
       "version_minor": 0
      },
      "text/plain": [
       "val:   0%|          | 0/10 [00:00<?, ?it/s]"
      ]
     },
     "metadata": {},
     "output_type": "display_data"
    },
    {
     "name": "stdout",
     "output_type": "stream",
     "text": [
      "Epoch   6 | Train: total=1.0401 mse=1.0040 cont=1.86e-04 mom=7.19e-01 bc=2.73e-02 | Val: total=0.6432 bc=1.01e-02 [BEST]\n"
     ]
    },
    {
     "data": {
      "application/vnd.jupyter.widget-view+json": {
       "model_id": "e47830b9414846238f9e544bebf9c5c3",
       "version_major": 2,
       "version_minor": 0
      },
      "text/plain": [
       "train[7]:   0%|          | 0/90 [00:00<?, ?it/s]"
      ]
     },
     "metadata": {},
     "output_type": "display_data"
    },
    {
     "data": {
      "application/vnd.jupyter.widget-view+json": {
       "model_id": "12b17eee785d4b069762d86ba505ee38",
       "version_major": 2,
       "version_minor": 0
      },
      "text/plain": [
       "val:   0%|          | 0/10 [00:00<?, ?it/s]"
      ]
     },
     "metadata": {},
     "output_type": "display_data"
    },
    {
     "name": "stdout",
     "output_type": "stream",
     "text": [
      "Epoch   7 | Train: total=1.0342 mse=1.0030 cont=1.24e-04 mom=6.23e-01 bc=1.05e-02 | Val: total=0.6423 bc=9.89e-03 [BEST]\n"
     ]
    },
    {
     "data": {
      "application/vnd.jupyter.widget-view+json": {
       "model_id": "a058aa9433eb4d11ae8d7d6b6b8b361c",
       "version_major": 2,
       "version_minor": 0
      },
      "text/plain": [
       "train[8]:   0%|          | 0/90 [00:00<?, ?it/s]"
      ]
     },
     "metadata": {},
     "output_type": "display_data"
    },
    {
     "data": {
      "application/vnd.jupyter.widget-view+json": {
       "model_id": "ad80c9f80e2b4e4aa70ffb5a461b6215",
       "version_major": 2,
       "version_minor": 0
      },
      "text/plain": [
       "val:   0%|          | 0/10 [00:00<?, ?it/s]"
      ]
     },
     "metadata": {},
     "output_type": "display_data"
    },
    {
     "name": "stdout",
     "output_type": "stream",
     "text": [
      "Epoch   8 | Train: total=1.0376 mse=1.0026 cont=1.83e-04 mom=6.97e-01 bc=2.68e-02 | Val: total=0.6416 bc=9.78e-03 [BEST]\n"
     ]
    },
    {
     "data": {
      "application/vnd.jupyter.widget-view+json": {
       "model_id": "1c692ec3a04948c48507b2a697c8540a",
       "version_major": 2,
       "version_minor": 0
      },
      "text/plain": [
       "train[9]:   0%|          | 0/90 [00:00<?, ?it/s]"
      ]
     },
     "metadata": {},
     "output_type": "display_data"
    },
    {
     "data": {
      "application/vnd.jupyter.widget-view+json": {
       "model_id": "28ecb1d5e3f34dbba168346530377e39",
       "version_major": 2,
       "version_minor": 0
      },
      "text/plain": [
       "val:   0%|          | 0/10 [00:00<?, ?it/s]"
      ]
     },
     "metadata": {},
     "output_type": "display_data"
    },
    {
     "name": "stdout",
     "output_type": "stream",
     "text": [
      "Epoch   9 | Train: total=1.0300 mse=1.0020 cont=1.43e-04 mom=5.59e-01 bc=1.09e-02 | Val: total=0.6424 bc=1.00e-02 \n"
     ]
    },
    {
     "data": {
      "application/vnd.jupyter.widget-view+json": {
       "model_id": "38b520803d3c45fa8bae5b146d00a0ad",
       "version_major": 2,
       "version_minor": 0
      },
      "text/plain": [
       "train[10]:   0%|          | 0/90 [00:00<?, ?it/s]"
      ]
     },
     "metadata": {},
     "output_type": "display_data"
    },
    {
     "data": {
      "application/vnd.jupyter.widget-view+json": {
       "model_id": "121336a995994aafbf0b6530df147f18",
       "version_major": 2,
       "version_minor": 0
      },
      "text/plain": [
       "val:   0%|          | 0/10 [00:00<?, ?it/s]"
      ]
     },
     "metadata": {},
     "output_type": "display_data"
    },
    {
     "name": "stdout",
     "output_type": "stream",
     "text": [
      "Epoch  10 | Train: total=1.0331 mse=1.0015 cont=1.85e-04 mom=6.26e-01 bc=3.64e-02 | Val: total=0.6414 bc=9.89e-03 [BEST]\n"
     ]
    },
    {
     "data": {
      "application/vnd.jupyter.widget-view+json": {
       "model_id": "476255914b2c429e81d0b3671fb170ef",
       "version_major": 2,
       "version_minor": 0
      },
      "text/plain": [
       "train[11]:   0%|          | 0/90 [00:00<?, ?it/s]"
      ]
     },
     "metadata": {},
     "output_type": "display_data"
    },
    {
     "data": {
      "application/vnd.jupyter.widget-view+json": {
       "model_id": "57bfc2adb00d4d47aff70bcbb16aa6ea",
       "version_major": 2,
       "version_minor": 0
      },
      "text/plain": [
       "val:   0%|          | 0/10 [00:00<?, ?it/s]"
      ]
     },
     "metadata": {},
     "output_type": "display_data"
    },
    {
     "name": "stdout",
     "output_type": "stream",
     "text": [
      "Epoch  11 | Train: total=1.0218 mse=1.0016 cont=1.06e-04 mom=4.02e-01 bc=9.93e-03 | Val: total=0.6403 bc=9.79e-03 [BEST]\n"
     ]
    },
    {
     "data": {
      "application/vnd.jupyter.widget-view+json": {
       "model_id": "8c7b77a91610420989620e6c9b7a50d3",
       "version_major": 2,
       "version_minor": 0
      },
      "text/plain": [
       "train[12]:   0%|          | 0/90 [00:00<?, ?it/s]"
      ]
     },
     "metadata": {},
     "output_type": "display_data"
    },
    {
     "data": {
      "application/vnd.jupyter.widget-view+json": {
       "model_id": "85c7c981c6414c6c9329eddc7ca74740",
       "version_major": 2,
       "version_minor": 0
      },
      "text/plain": [
       "val:   0%|          | 0/10 [00:00<?, ?it/s]"
      ]
     },
     "metadata": {},
     "output_type": "display_data"
    },
    {
     "name": "stdout",
     "output_type": "stream",
     "text": [
      "Epoch  12 | Train: total=1.0236 mse=1.0013 cont=9.50e-05 mom=4.44e-01 bc=9.86e-03 | Val: total=0.6414 bc=9.72e-03 \n"
     ]
    },
    {
     "data": {
      "application/vnd.jupyter.widget-view+json": {
       "model_id": "35d996ceacab497c93b3647c57b0e025",
       "version_major": 2,
       "version_minor": 0
      },
      "text/plain": [
       "train[13]:   0%|          | 0/90 [00:00<?, ?it/s]"
      ]
     },
     "metadata": {},
     "output_type": "display_data"
    },
    {
     "data": {
      "application/vnd.jupyter.widget-view+json": {
       "model_id": "9a82e01be2904849bb0281a2129b0be3",
       "version_major": 2,
       "version_minor": 0
      },
      "text/plain": [
       "val:   0%|          | 0/10 [00:00<?, ?it/s]"
      ]
     },
     "metadata": {},
     "output_type": "display_data"
    },
    {
     "name": "stdout",
     "output_type": "stream",
     "text": [
      "Epoch  13 | Train: total=1.0215 mse=1.0006 cont=1.38e-04 mom=4.15e-01 bc=1.42e-02 | Val: total=0.6404 bc=9.70e-03 \n"
     ]
    },
    {
     "data": {
      "application/vnd.jupyter.widget-view+json": {
       "model_id": "44b57418d4e04ccb9b6cfecc02ceedb4",
       "version_major": 2,
       "version_minor": 0
      },
      "text/plain": [
       "train[14]:   0%|          | 0/90 [00:00<?, ?it/s]"
      ]
     },
     "metadata": {},
     "output_type": "display_data"
    },
    {
     "data": {
      "application/vnd.jupyter.widget-view+json": {
       "model_id": "fc7be2a114ee4373a4c2fac016efb258",
       "version_major": 2,
       "version_minor": 0
      },
      "text/plain": [
       "val:   0%|          | 0/10 [00:00<?, ?it/s]"
      ]
     },
     "metadata": {},
     "output_type": "display_data"
    },
    {
     "name": "stdout",
     "output_type": "stream",
     "text": [
      "Epoch  14 | Train: total=1.0173 mse=1.0008 cont=9.28e-05 mom=3.30e-01 bc=9.91e-03 | Val: total=0.6390 bc=9.68e-03 [BEST]\n"
     ]
    },
    {
     "data": {
      "application/vnd.jupyter.widget-view+json": {
       "model_id": "0efdca4c34d543059d637266f7ef58ff",
       "version_major": 2,
       "version_minor": 0
      },
      "text/plain": [
       "train[15]:   0%|          | 0/90 [00:00<?, ?it/s]"
      ]
     },
     "metadata": {},
     "output_type": "display_data"
    },
    {
     "data": {
      "application/vnd.jupyter.widget-view+json": {
       "model_id": "27c8be6a445240609657984813667cd3",
       "version_major": 2,
       "version_minor": 0
      },
      "text/plain": [
       "val:   0%|          | 0/10 [00:00<?, ?it/s]"
      ]
     },
     "metadata": {},
     "output_type": "display_data"
    },
    {
     "name": "stdout",
     "output_type": "stream",
     "text": [
      "Epoch  15 | Train: total=1.0160 mse=1.0009 cont=7.53e-05 mom=3.00e-01 bc=9.84e-03 | Val: total=0.6387 bc=9.65e-03 [BEST]\n"
     ]
    },
    {
     "data": {
      "application/vnd.jupyter.widget-view+json": {
       "model_id": "c57a214e923744e386ed9e76a5a53c56",
       "version_major": 2,
       "version_minor": 0
      },
      "text/plain": [
       "train[16]:   0%|          | 0/90 [00:00<?, ?it/s]"
      ]
     },
     "metadata": {},
     "output_type": "display_data"
    },
    {
     "data": {
      "application/vnd.jupyter.widget-view+json": {
       "model_id": "2653cb2c6e514b7eaba8fce51f30e43a",
       "version_major": 2,
       "version_minor": 0
      },
      "text/plain": [
       "val:   0%|          | 0/10 [00:00<?, ?it/s]"
      ]
     },
     "metadata": {},
     "output_type": "display_data"
    },
    {
     "name": "stdout",
     "output_type": "stream",
     "text": [
      "Epoch  16 | Train: total=1.0139 mse=1.0009 cont=6.48e-05 mom=2.58e-01 bc=9.78e-03 | Val: total=0.6397 bc=9.67e-03 \n"
     ]
    },
    {
     "data": {
      "application/vnd.jupyter.widget-view+json": {
       "model_id": "bb9b4b25d7c84994bcf5e28fde08551e",
       "version_major": 2,
       "version_minor": 0
      },
      "text/plain": [
       "train[17]:   0%|          | 0/90 [00:00<?, ?it/s]"
      ]
     },
     "metadata": {},
     "output_type": "display_data"
    },
    {
     "data": {
      "application/vnd.jupyter.widget-view+json": {
       "model_id": "25820042f3a84461b52bd59d8c50a551",
       "version_major": 2,
       "version_minor": 0
      },
      "text/plain": [
       "val:   0%|          | 0/10 [00:00<?, ?it/s]"
      ]
     },
     "metadata": {},
     "output_type": "display_data"
    },
    {
     "name": "stdout",
     "output_type": "stream",
     "text": [
      "Epoch  17 | Train: total=1.0151 mse=1.0009 cont=1.15e-04 mom=2.81e-01 bc=1.45e-02 | Val: total=0.6387 bc=9.71e-03 \n"
     ]
    },
    {
     "data": {
      "application/vnd.jupyter.widget-view+json": {
       "model_id": "ffdee63071b642ccbc4f2aa47ffae3b3",
       "version_major": 2,
       "version_minor": 0
      },
      "text/plain": [
       "train[18]:   0%|          | 0/90 [00:00<?, ?it/s]"
      ]
     },
     "metadata": {},
     "output_type": "display_data"
    },
    {
     "data": {
      "application/vnd.jupyter.widget-view+json": {
       "model_id": "1f12d41b9f8d4afd8118d5a54d83f0ec",
       "version_major": 2,
       "version_minor": 0
      },
      "text/plain": [
       "val:   0%|          | 0/10 [00:00<?, ?it/s]"
      ]
     },
     "metadata": {},
     "output_type": "display_data"
    },
    {
     "name": "stdout",
     "output_type": "stream",
     "text": [
      "Epoch  18 | Train: total=1.0117 mse=1.0011 cont=8.19e-05 mom=2.10e-01 bc=9.90e-03 | Val: total=0.6394 bc=9.70e-03 \n"
     ]
    },
    {
     "data": {
      "application/vnd.jupyter.widget-view+json": {
       "model_id": "d0e8a098048b4bedaaa22052a1306932",
       "version_major": 2,
       "version_minor": 0
      },
      "text/plain": [
       "train[19]:   0%|          | 0/90 [00:00<?, ?it/s]"
      ]
     },
     "metadata": {},
     "output_type": "display_data"
    },
    {
     "data": {
      "application/vnd.jupyter.widget-view+json": {
       "model_id": "51bc08d9bb744ebfbca2ea3ab30a8bbc",
       "version_major": 2,
       "version_minor": 0
      },
      "text/plain": [
       "val:   0%|          | 0/10 [00:00<?, ?it/s]"
      ]
     },
     "metadata": {},
     "output_type": "display_data"
    },
    {
     "name": "stdout",
     "output_type": "stream",
     "text": [
      "Epoch  19 | Train: total=1.0126 mse=1.0006 cont=1.03e-04 mom=2.37e-01 bc=1.12e-02 | Val: total=0.6378 bc=9.64e-03 [BEST]\n"
     ]
    },
    {
     "data": {
      "application/vnd.jupyter.widget-view+json": {
       "model_id": "db57e8cd37454d5c9fe9bc49c6f28988",
       "version_major": 2,
       "version_minor": 0
      },
      "text/plain": [
       "train[20]:   0%|          | 0/90 [00:00<?, ?it/s]"
      ]
     },
     "metadata": {},
     "output_type": "display_data"
    },
    {
     "data": {
      "application/vnd.jupyter.widget-view+json": {
       "model_id": "5cceacda3e984fda8403d55e6895ce53",
       "version_major": 2,
       "version_minor": 0
      },
      "text/plain": [
       "val:   0%|          | 0/10 [00:00<?, ?it/s]"
      ]
     },
     "metadata": {},
     "output_type": "display_data"
    },
    {
     "name": "stdout",
     "output_type": "stream",
     "text": [
      "Epoch  20 | Train: total=1.0083 mse=1.0005 cont=8.56e-05 mom=1.54e-01 bc=1.16e-02 | Val: total=0.6382 bc=9.67e-03 \n"
     ]
    },
    {
     "data": {
      "application/vnd.jupyter.widget-view+json": {
       "model_id": "1e02e10497b14d828b1fc87487b3de0b",
       "version_major": 2,
       "version_minor": 0
      },
      "text/plain": [
       "train[21]:   0%|          | 0/90 [00:00<?, ?it/s]"
      ]
     },
     "metadata": {},
     "output_type": "display_data"
    },
    {
     "data": {
      "application/vnd.jupyter.widget-view+json": {
       "model_id": "84f72d5184e54dcb8b8e4802a5dec186",
       "version_major": 2,
       "version_minor": 0
      },
      "text/plain": [
       "val:   0%|          | 0/10 [00:00<?, ?it/s]"
      ]
     },
     "metadata": {},
     "output_type": "display_data"
    },
    {
     "name": "stdout",
     "output_type": "stream",
     "text": [
      "Epoch  21 | Train: total=1.0085 mse=1.0006 cont=9.43e-05 mom=1.56e-01 bc=1.11e-02 | Val: total=0.6381 bc=9.65e-03 \n"
     ]
    },
    {
     "data": {
      "application/vnd.jupyter.widget-view+json": {
       "model_id": "f25ef7e60b68492d9907ec10e515e29d",
       "version_major": 2,
       "version_minor": 0
      },
      "text/plain": [
       "train[22]:   0%|          | 0/90 [00:00<?, ?it/s]"
      ]
     },
     "metadata": {},
     "output_type": "display_data"
    },
    {
     "data": {
      "application/vnd.jupyter.widget-view+json": {
       "model_id": "f7d873ddabf84df4a59b4a9f49f1feb9",
       "version_major": 2,
       "version_minor": 0
      },
      "text/plain": [
       "val:   0%|          | 0/10 [00:00<?, ?it/s]"
      ]
     },
     "metadata": {},
     "output_type": "display_data"
    },
    {
     "name": "stdout",
     "output_type": "stream",
     "text": [
      "Epoch  22 | Train: total=1.0064 mse=1.0007 cont=9.08e-05 mom=1.12e-01 bc=1.10e-02 | Val: total=0.6375 bc=9.63e-03 [BEST]\n"
     ]
    },
    {
     "data": {
      "application/vnd.jupyter.widget-view+json": {
       "model_id": "794a9881ead2423ebdb44c5182c51cbe",
       "version_major": 2,
       "version_minor": 0
      },
      "text/plain": [
       "train[23]:   0%|          | 0/90 [00:00<?, ?it/s]"
      ]
     },
     "metadata": {},
     "output_type": "display_data"
    },
    {
     "data": {
      "application/vnd.jupyter.widget-view+json": {
       "model_id": "24e4d788f8994649abe43567959b53f4",
       "version_major": 2,
       "version_minor": 0
      },
      "text/plain": [
       "val:   0%|          | 0/10 [00:00<?, ?it/s]"
      ]
     },
     "metadata": {},
     "output_type": "display_data"
    },
    {
     "name": "stdout",
     "output_type": "stream",
     "text": [
      "Epoch  23 | Train: total=1.0051 mse=1.0006 cont=8.61e-05 mom=8.79e-02 bc=1.01e-02 | Val: total=0.6382 bc=9.65e-03 \n"
     ]
    },
    {
     "data": {
      "application/vnd.jupyter.widget-view+json": {
       "model_id": "f7fab709e03848c3be673f0314e446bc",
       "version_major": 2,
       "version_minor": 0
      },
      "text/plain": [
       "train[24]:   0%|          | 0/90 [00:00<?, ?it/s]"
      ]
     },
     "metadata": {},
     "output_type": "display_data"
    },
    {
     "data": {
      "application/vnd.jupyter.widget-view+json": {
       "model_id": "2412727920a14a75a6ff952f6fef8e25",
       "version_major": 2,
       "version_minor": 0
      },
      "text/plain": [
       "val:   0%|          | 0/10 [00:00<?, ?it/s]"
      ]
     },
     "metadata": {},
     "output_type": "display_data"
    },
    {
     "name": "stdout",
     "output_type": "stream",
     "text": [
      "Epoch  24 | Train: total=1.0059 mse=1.0006 cont=9.61e-05 mom=1.01e-01 bc=1.08e-02 | Val: total=0.6380 bc=9.64e-03 \n"
     ]
    },
    {
     "data": {
      "application/vnd.jupyter.widget-view+json": {
       "model_id": "f43fd457c3c04e14830adf52c0eeabcd",
       "version_major": 2,
       "version_minor": 0
      },
      "text/plain": [
       "train[25]:   0%|          | 0/90 [00:00<?, ?it/s]"
      ]
     },
     "metadata": {},
     "output_type": "display_data"
    },
    {
     "data": {
      "application/vnd.jupyter.widget-view+json": {
       "model_id": "ca5a4ef83aa24a509f994b0e4e3a45b0",
       "version_major": 2,
       "version_minor": 0
      },
      "text/plain": [
       "val:   0%|          | 0/10 [00:00<?, ?it/s]"
      ]
     },
     "metadata": {},
     "output_type": "display_data"
    },
    {
     "name": "stdout",
     "output_type": "stream",
     "text": [
      "Epoch  25 | Train: total=1.0050 mse=1.0006 cont=8.46e-05 mom=8.43e-02 bc=1.06e-02 | Val: total=0.6381 bc=9.64e-03 \n"
     ]
    },
    {
     "data": {
      "application/vnd.jupyter.widget-view+json": {
       "model_id": "d24b1a9a71ea4e5c97f9d78e9a1c215c",
       "version_major": 2,
       "version_minor": 0
      },
      "text/plain": [
       "train[26]:   0%|          | 0/90 [00:00<?, ?it/s]"
      ]
     },
     "metadata": {},
     "output_type": "display_data"
    },
    {
     "data": {
      "application/vnd.jupyter.widget-view+json": {
       "model_id": "c774f9141c564b1fb9a4f519bf228109",
       "version_major": 2,
       "version_minor": 0
      },
      "text/plain": [
       "val:   0%|          | 0/10 [00:00<?, ?it/s]"
      ]
     },
     "metadata": {},
     "output_type": "display_data"
    },
    {
     "name": "stdout",
     "output_type": "stream",
     "text": [
      "Epoch  26 | Train: total=1.0040 mse=1.0007 cont=6.42e-05 mom=6.33e-02 bc=9.75e-03 | Val: total=0.6378 bc=9.64e-03 \n"
     ]
    },
    {
     "data": {
      "application/vnd.jupyter.widget-view+json": {
       "model_id": "f85bdf5925d84e6a8f2a6f3e976d6c14",
       "version_major": 2,
       "version_minor": 0
      },
      "text/plain": [
       "train[27]:   0%|          | 0/90 [00:00<?, ?it/s]"
      ]
     },
     "metadata": {},
     "output_type": "display_data"
    },
    {
     "data": {
      "application/vnd.jupyter.widget-view+json": {
       "model_id": "1a237bf327c545659aa7fb27fb10435b",
       "version_major": 2,
       "version_minor": 0
      },
      "text/plain": [
       "val:   0%|          | 0/10 [00:00<?, ?it/s]"
      ]
     },
     "metadata": {},
     "output_type": "display_data"
    },
    {
     "name": "stdout",
     "output_type": "stream",
     "text": [
      "Epoch  27 | Train: total=1.0035 mse=1.0005 cont=5.37e-05 mom=5.60e-02 bc=9.72e-03 | Val: total=0.6374 bc=9.65e-03 [BEST]\n"
     ]
    },
    {
     "data": {
      "application/vnd.jupyter.widget-view+json": {
       "model_id": "fbe878cc744a4cc8b35cabca1748e0c6",
       "version_major": 2,
       "version_minor": 0
      },
      "text/plain": [
       "train[28]:   0%|          | 0/90 [00:00<?, ?it/s]"
      ]
     },
     "metadata": {},
     "output_type": "display_data"
    },
    {
     "data": {
      "application/vnd.jupyter.widget-view+json": {
       "model_id": "a9d3ddaaa0524f81b8bfdb11262745cd",
       "version_major": 2,
       "version_minor": 0
      },
      "text/plain": [
       "val:   0%|          | 0/10 [00:00<?, ?it/s]"
      ]
     },
     "metadata": {},
     "output_type": "display_data"
    },
    {
     "name": "stdout",
     "output_type": "stream",
     "text": [
      "Epoch  28 | Train: total=1.0025 mse=1.0009 cont=4.28e-05 mom=2.94e-02 bc=9.69e-03 | Val: total=0.6377 bc=9.67e-03 \n"
     ]
    },
    {
     "data": {
      "application/vnd.jupyter.widget-view+json": {
       "model_id": "46ec3ecd712a46239b3704bdc37bd76d",
       "version_major": 2,
       "version_minor": 0
      },
      "text/plain": [
       "train[29]:   0%|          | 0/90 [00:00<?, ?it/s]"
      ]
     },
     "metadata": {},
     "output_type": "display_data"
    },
    {
     "data": {
      "application/vnd.jupyter.widget-view+json": {
       "model_id": "c9b028037d844ba183f7ad1d0af0091c",
       "version_major": 2,
       "version_minor": 0
      },
      "text/plain": [
       "val:   0%|          | 0/10 [00:00<?, ?it/s]"
      ]
     },
     "metadata": {},
     "output_type": "display_data"
    },
    {
     "name": "stdout",
     "output_type": "stream",
     "text": [
      "Epoch  29 | Train: total=1.0024 mse=1.0006 cont=7.43e-05 mom=3.32e-02 bc=1.07e-02 | Val: total=0.6375 bc=9.66e-03 \n"
     ]
    },
    {
     "data": {
      "application/vnd.jupyter.widget-view+json": {
       "model_id": "fd1fdc8c4c0a43ad881b45e1a1df7526",
       "version_major": 2,
       "version_minor": 0
      },
      "text/plain": [
       "train[30]:   0%|          | 0/90 [00:00<?, ?it/s]"
      ]
     },
     "metadata": {},
     "output_type": "display_data"
    },
    {
     "data": {
      "application/vnd.jupyter.widget-view+json": {
       "model_id": "1168ba8012b744fba56885718962c96b",
       "version_major": 2,
       "version_minor": 0
      },
      "text/plain": [
       "val:   0%|          | 0/10 [00:00<?, ?it/s]"
      ]
     },
     "metadata": {},
     "output_type": "display_data"
    },
    {
     "name": "stdout",
     "output_type": "stream",
     "text": [
      "Epoch  30 | Train: total=1.0016 mse=1.0002 cont=7.57e-05 mom=2.40e-02 bc=1.06e-02 | Val: total=0.6371 bc=9.65e-03 [BEST]\n"
     ]
    },
    {
     "data": {
      "application/vnd.jupyter.widget-view+json": {
       "model_id": "d0bc11c5943d4ed89d15947351515587",
       "version_major": 2,
       "version_minor": 0
      },
      "text/plain": [
       "train[31]:   0%|          | 0/90 [00:00<?, ?it/s]"
      ]
     },
     "metadata": {},
     "output_type": "display_data"
    },
    {
     "data": {
      "application/vnd.jupyter.widget-view+json": {
       "model_id": "a5f359b7f4d141e3826e0c835ee9edc0",
       "version_major": 2,
       "version_minor": 0
      },
      "text/plain": [
       "val:   0%|          | 0/10 [00:00<?, ?it/s]"
      ]
     },
     "metadata": {},
     "output_type": "display_data"
    },
    {
     "name": "stdout",
     "output_type": "stream",
     "text": [
      "Epoch  31 | Train: total=1.0019 mse=1.0007 cont=6.86e-05 mom=1.90e-02 bc=1.04e-02 | Val: total=0.6368 bc=9.65e-03 [BEST]\n"
     ]
    },
    {
     "data": {
      "application/vnd.jupyter.widget-view+json": {
       "model_id": "257452fcc63944abb881bbe6ea1b8378",
       "version_major": 2,
       "version_minor": 0
      },
      "text/plain": [
       "train[32]:   0%|          | 0/90 [00:00<?, ?it/s]"
      ]
     },
     "metadata": {},
     "output_type": "display_data"
    },
    {
     "data": {
      "application/vnd.jupyter.widget-view+json": {
       "model_id": "01cbd2f126fa443ab3d45375706c0fdd",
       "version_major": 2,
       "version_minor": 0
      },
      "text/plain": [
       "val:   0%|          | 0/10 [00:00<?, ?it/s]"
      ]
     },
     "metadata": {},
     "output_type": "display_data"
    },
    {
     "name": "stdout",
     "output_type": "stream",
     "text": [
      "Epoch  32 | Train: total=1.0013 mse=1.0004 cont=3.76e-05 mom=1.32e-02 bc=9.68e-03 | Val: total=0.6367 bc=9.65e-03 [BEST]\n"
     ]
    },
    {
     "data": {
      "application/vnd.jupyter.widget-view+json": {
       "model_id": "b1bae45a128b461bb24f5c24f3149163",
       "version_major": 2,
       "version_minor": 0
      },
      "text/plain": [
       "train[33]:   0%|          | 0/90 [00:00<?, ?it/s]"
      ]
     },
     "metadata": {},
     "output_type": "display_data"
    },
    {
     "data": {
      "application/vnd.jupyter.widget-view+json": {
       "model_id": "45f1d1577e19407394975fabeac72cb5",
       "version_major": 2,
       "version_minor": 0
      },
      "text/plain": [
       "val:   0%|          | 0/10 [00:00<?, ?it/s]"
      ]
     },
     "metadata": {},
     "output_type": "display_data"
    },
    {
     "name": "stdout",
     "output_type": "stream",
     "text": [
      "Epoch  33 | Train: total=1.0012 mse=1.0000 cont=6.69e-05 mom=1.82e-02 bc=9.96e-03 | Val: total=0.6365 bc=9.65e-03 [BEST]\n"
     ]
    },
    {
     "data": {
      "application/vnd.jupyter.widget-view+json": {
       "model_id": "1d39d6deb1b847e2bdd058dbd7b9c52e",
       "version_major": 2,
       "version_minor": 0
      },
      "text/plain": [
       "train[34]:   0%|          | 0/90 [00:00<?, ?it/s]"
      ]
     },
     "metadata": {},
     "output_type": "display_data"
    },
    {
     "data": {
      "application/vnd.jupyter.widget-view+json": {
       "model_id": "bd896b444a3447c1a8925607be586369",
       "version_major": 2,
       "version_minor": 0
      },
      "text/plain": [
       "val:   0%|          | 0/10 [00:00<?, ?it/s]"
      ]
     },
     "metadata": {},
     "output_type": "display_data"
    },
    {
     "name": "stdout",
     "output_type": "stream",
     "text": [
      "Epoch  34 | Train: total=1.0014 mse=1.0004 cont=3.46e-05 mom=1.38e-02 bc=9.71e-03 | Val: total=0.6363 bc=9.66e-03 [BEST]\n"
     ]
    },
    {
     "data": {
      "application/vnd.jupyter.widget-view+json": {
       "model_id": "feb9256d5a594c18a5cc87a557a2e51e",
       "version_major": 2,
       "version_minor": 0
      },
      "text/plain": [
       "train[35]:   0%|          | 0/90 [00:00<?, ?it/s]"
      ]
     },
     "metadata": {},
     "output_type": "display_data"
    },
    {
     "data": {
      "application/vnd.jupyter.widget-view+json": {
       "model_id": "04b9fc5fc76748869668920a9a8febad",
       "version_major": 2,
       "version_minor": 0
      },
      "text/plain": [
       "val:   0%|          | 0/10 [00:00<?, ?it/s]"
      ]
     },
     "metadata": {},
     "output_type": "display_data"
    },
    {
     "name": "stdout",
     "output_type": "stream",
     "text": [
      "Epoch  35 | Train: total=1.0016 mse=1.0006 cont=4.58e-05 mom=1.38e-02 bc=9.97e-03 | Val: total=0.6362 bc=9.67e-03 [BEST]\n"
     ]
    },
    {
     "data": {
      "application/vnd.jupyter.widget-view+json": {
       "model_id": "72f89828451947e2820d0b2df8b5b786",
       "version_major": 2,
       "version_minor": 0
      },
      "text/plain": [
       "train[36]:   0%|          | 0/90 [00:00<?, ?it/s]"
      ]
     },
     "metadata": {},
     "output_type": "display_data"
    },
    {
     "data": {
      "application/vnd.jupyter.widget-view+json": {
       "model_id": "4b4daec6b6bc49b5bf1fd226ed37338c",
       "version_major": 2,
       "version_minor": 0
      },
      "text/plain": [
       "val:   0%|          | 0/10 [00:00<?, ?it/s]"
      ]
     },
     "metadata": {},
     "output_type": "display_data"
    },
    {
     "name": "stdout",
     "output_type": "stream",
     "text": [
      "Epoch  36 | Train: total=1.0014 mse=1.0006 cont=4.26e-05 mom=1.16e-02 bc=9.87e-03 | Val: total=0.6360 bc=9.67e-03 [BEST]\n"
     ]
    },
    {
     "data": {
      "application/vnd.jupyter.widget-view+json": {
       "model_id": "ea3298ccc9aa46c5b21978484355d28f",
       "version_major": 2,
       "version_minor": 0
      },
      "text/plain": [
       "train[37]:   0%|          | 0/90 [00:00<?, ?it/s]"
      ]
     },
     "metadata": {},
     "output_type": "display_data"
    },
    {
     "data": {
      "application/vnd.jupyter.widget-view+json": {
       "model_id": "498423348bde427c9af0be4dd96ed375",
       "version_major": 2,
       "version_minor": 0
      },
      "text/plain": [
       "val:   0%|          | 0/10 [00:00<?, ?it/s]"
      ]
     },
     "metadata": {},
     "output_type": "display_data"
    },
    {
     "name": "stdout",
     "output_type": "stream",
     "text": [
      "Epoch  37 | Train: total=1.0009 mse=1.0000 cont=4.58e-05 mom=1.33e-02 bc=9.99e-03 | Val: total=0.6358 bc=9.67e-03 [BEST]\n"
     ]
    },
    {
     "data": {
      "application/vnd.jupyter.widget-view+json": {
       "model_id": "2b23073cb6664655bdbd17e92ee394af",
       "version_major": 2,
       "version_minor": 0
      },
      "text/plain": [
       "train[38]:   0%|          | 0/90 [00:00<?, ?it/s]"
      ]
     },
     "metadata": {},
     "output_type": "display_data"
    },
    {
     "data": {
      "application/vnd.jupyter.widget-view+json": {
       "model_id": "0c7bda285b6941f985fb4877771479fb",
       "version_major": 2,
       "version_minor": 0
      },
      "text/plain": [
       "val:   0%|          | 0/10 [00:00<?, ?it/s]"
      ]
     },
     "metadata": {},
     "output_type": "display_data"
    },
    {
     "name": "stdout",
     "output_type": "stream",
     "text": [
      "Epoch  38 | Train: total=1.0011 mse=1.0002 cont=4.28e-05 mom=1.13e-02 bc=9.90e-03 | Val: total=0.6357 bc=9.68e-03 [BEST]\n"
     ]
    },
    {
     "data": {
      "application/vnd.jupyter.widget-view+json": {
       "model_id": "1763e287343d48e387df427989d8c2b5",
       "version_major": 2,
       "version_minor": 0
      },
      "text/plain": [
       "train[39]:   0%|          | 0/90 [00:00<?, ?it/s]"
      ]
     },
     "metadata": {},
     "output_type": "display_data"
    },
    {
     "data": {
      "application/vnd.jupyter.widget-view+json": {
       "model_id": "8226d0ed0c9a41b7ab130c6dd59dcb9d",
       "version_major": 2,
       "version_minor": 0
      },
      "text/plain": [
       "val:   0%|          | 0/10 [00:00<?, ?it/s]"
      ]
     },
     "metadata": {},
     "output_type": "display_data"
    },
    {
     "name": "stdout",
     "output_type": "stream",
     "text": [
      "Epoch  39 | Train: total=1.0015 mse=1.0007 cont=2.82e-05 mom=9.87e-03 bc=9.72e-03 | Val: total=0.6357 bc=9.69e-03 [BEST]\n"
     ]
    },
    {
     "data": {
      "application/vnd.jupyter.widget-view+json": {
       "model_id": "f9ffb035a5c24c618e6408f940dadf81",
       "version_major": 2,
       "version_minor": 0
      },
      "text/plain": [
       "train[40]:   0%|          | 0/90 [00:00<?, ?it/s]"
      ]
     },
     "metadata": {},
     "output_type": "display_data"
    },
    {
     "data": {
      "application/vnd.jupyter.widget-view+json": {
       "model_id": "28e118064bcf471d9b94eb0b82ac4dbb",
       "version_major": 2,
       "version_minor": 0
      },
      "text/plain": [
       "val:   0%|          | 0/10 [00:00<?, ?it/s]"
      ]
     },
     "metadata": {},
     "output_type": "display_data"
    },
    {
     "name": "stdout",
     "output_type": "stream",
     "text": [
      "Epoch  40 | Train: total=1.0010 mse=1.0002 cont=3.95e-05 mom=9.41e-03 bc=9.86e-03 | Val: total=0.6356 bc=9.69e-03 [BEST]\n"
     ]
    },
    {
     "data": {
      "application/vnd.jupyter.widget-view+json": {
       "model_id": "e9a01dc1c3a94b5791a0547424e86833",
       "version_major": 2,
       "version_minor": 0
      },
      "text/plain": [
       "train[41]:   0%|          | 0/90 [00:00<?, ?it/s]"
      ]
     },
     "metadata": {},
     "output_type": "display_data"
    },
    {
     "data": {
      "application/vnd.jupyter.widget-view+json": {
       "model_id": "a07c84e6b3ec4df19da5b00d096f7b0e",
       "version_major": 2,
       "version_minor": 0
      },
      "text/plain": [
       "val:   0%|          | 0/10 [00:00<?, ?it/s]"
      ]
     },
     "metadata": {},
     "output_type": "display_data"
    },
    {
     "name": "stdout",
     "output_type": "stream",
     "text": [
      "Epoch  41 | Train: total=1.0009 mse=1.0001 cont=2.31e-05 mom=8.65e-03 bc=9.72e-03 | Val: total=0.6354 bc=9.69e-03 [BEST]\n"
     ]
    },
    {
     "data": {
      "application/vnd.jupyter.widget-view+json": {
       "model_id": "bdfbfbedac7346d59f4b2267848eb633",
       "version_major": 2,
       "version_minor": 0
      },
      "text/plain": [
       "train[42]:   0%|          | 0/90 [00:00<?, ?it/s]"
      ]
     },
     "metadata": {},
     "output_type": "display_data"
    },
    {
     "data": {
      "application/vnd.jupyter.widget-view+json": {
       "model_id": "e6042c5358cc4318b62555958fcfac82",
       "version_major": 2,
       "version_minor": 0
      },
      "text/plain": [
       "val:   0%|          | 0/10 [00:00<?, ?it/s]"
      ]
     },
     "metadata": {},
     "output_type": "display_data"
    },
    {
     "name": "stdout",
     "output_type": "stream",
     "text": [
      "Epoch  42 | Train: total=1.0011 mse=1.0004 cont=2.32e-05 mom=7.87e-03 bc=9.73e-03 | Val: total=0.6354 bc=9.70e-03 [BEST]\n"
     ]
    },
    {
     "data": {
      "application/vnd.jupyter.widget-view+json": {
       "model_id": "22b547dc249a4e9ea0f8f2ec4fd2a5d5",
       "version_major": 2,
       "version_minor": 0
      },
      "text/plain": [
       "train[43]:   0%|          | 0/90 [00:00<?, ?it/s]"
      ]
     },
     "metadata": {},
     "output_type": "display_data"
    },
    {
     "data": {
      "application/vnd.jupyter.widget-view+json": {
       "model_id": "9e35d0febf004196a4793f9373888805",
       "version_major": 2,
       "version_minor": 0
      },
      "text/plain": [
       "val:   0%|          | 0/10 [00:00<?, ?it/s]"
      ]
     },
     "metadata": {},
     "output_type": "display_data"
    },
    {
     "name": "stdout",
     "output_type": "stream",
     "text": [
      "Epoch  43 | Train: total=1.0009 mse=1.0002 cont=2.09e-05 mom=6.22e-03 bc=9.73e-03 | Val: total=0.6353 bc=9.70e-03 [BEST]\n"
     ]
    },
    {
     "data": {
      "application/vnd.jupyter.widget-view+json": {
       "model_id": "35c4152c58574eabb66ddc91f0ebff3c",
       "version_major": 2,
       "version_minor": 0
      },
      "text/plain": [
       "train[44]:   0%|          | 0/90 [00:00<?, ?it/s]"
      ]
     },
     "metadata": {},
     "output_type": "display_data"
    },
    {
     "data": {
      "application/vnd.jupyter.widget-view+json": {
       "model_id": "2381157e6ed54e4e9681a03604ed0dbe",
       "version_major": 2,
       "version_minor": 0
      },
      "text/plain": [
       "val:   0%|          | 0/10 [00:00<?, ?it/s]"
      ]
     },
     "metadata": {},
     "output_type": "display_data"
    },
    {
     "name": "stdout",
     "output_type": "stream",
     "text": [
      "Epoch  44 | Train: total=2.0558 mse=1.0024 cont=2.19e-05 mom=1.78e+01 bc=9.90e-03 | Val: total=0.6352 bc=9.71e-03 [BEST]\n"
     ]
    },
    {
     "data": {
      "application/vnd.jupyter.widget-view+json": {
       "model_id": "07620d4338a54662b74ea9c0e439e9ce",
       "version_major": 2,
       "version_minor": 0
      },
      "text/plain": [
       "train[45]:   0%|          | 0/90 [00:00<?, ?it/s]"
      ]
     },
     "metadata": {},
     "output_type": "display_data"
    },
    {
     "data": {
      "application/vnd.jupyter.widget-view+json": {
       "model_id": "5ef88f3b6ef64ea786301ad5201b1267",
       "version_major": 2,
       "version_minor": 0
      },
      "text/plain": [
       "val:   0%|          | 0/10 [00:00<?, ?it/s]"
      ]
     },
     "metadata": {},
     "output_type": "display_data"
    },
    {
     "name": "stdout",
     "output_type": "stream",
     "text": [
      "Epoch  45 | Train: total=1.0005 mse=0.9999 cont=1.68e-05 mom=5.87e-03 bc=9.74e-03 | Val: total=0.6350 bc=9.72e-03 [BEST]\n"
     ]
    },
    {
     "data": {
      "application/vnd.jupyter.widget-view+json": {
       "model_id": "1ab85a37881147d6926187581f401d58",
       "version_major": 2,
       "version_minor": 0
      },
      "text/plain": [
       "train[46]:   0%|          | 0/90 [00:00<?, ?it/s]"
      ]
     },
     "metadata": {},
     "output_type": "display_data"
    },
    {
     "data": {
      "application/vnd.jupyter.widget-view+json": {
       "model_id": "d6dc36aa3fd54f6eb82f5c6f2ce25093",
       "version_major": 2,
       "version_minor": 0
      },
      "text/plain": [
       "val:   0%|          | 0/10 [00:00<?, ?it/s]"
      ]
     },
     "metadata": {},
     "output_type": "display_data"
    },
    {
     "name": "stdout",
     "output_type": "stream",
     "text": [
      "Epoch  46 | Train: total=1.0496 mse=1.0007 cont=1.48e-05 mom=8.10e-01 bc=9.78e-03 | Val: total=0.6350 bc=9.73e-03 \n"
     ]
    },
    {
     "data": {
      "application/vnd.jupyter.widget-view+json": {
       "model_id": "20081ed72e4a4b6aa5046e66a9db3055",
       "version_major": 2,
       "version_minor": 0
      },
      "text/plain": [
       "train[47]:   0%|          | 0/90 [00:00<?, ?it/s]"
      ]
     },
     "metadata": {},
     "output_type": "display_data"
    },
    {
     "data": {
      "application/vnd.jupyter.widget-view+json": {
       "model_id": "92a151264ec448c990f33046a7081f55",
       "version_major": 2,
       "version_minor": 0
      },
      "text/plain": [
       "val:   0%|          | 0/10 [00:00<?, ?it/s]"
      ]
     },
     "metadata": {},
     "output_type": "display_data"
    },
    {
     "name": "stdout",
     "output_type": "stream",
     "text": [
      "Epoch  47 | Train: total=1.1940 mse=1.0007 cont=2.64e-05 mom=3.16e+00 bc=1.00e-02 | Val: total=0.6349 bc=9.74e-03 [BEST]\n"
     ]
    },
    {
     "data": {
      "application/vnd.jupyter.widget-view+json": {
       "model_id": "48443f7c5fd6435b97475ce2b9d9b2ca",
       "version_major": 2,
       "version_minor": 0
      },
      "text/plain": [
       "train[48]:   0%|          | 0/90 [00:00<?, ?it/s]"
      ]
     },
     "metadata": {},
     "output_type": "display_data"
    },
    {
     "data": {
      "application/vnd.jupyter.widget-view+json": {
       "model_id": "9b73937c2398467fa2b27ef0d311a383",
       "version_major": 2,
       "version_minor": 0
      },
      "text/plain": [
       "val:   0%|          | 0/10 [00:00<?, ?it/s]"
      ]
     },
     "metadata": {},
     "output_type": "display_data"
    },
    {
     "name": "stdout",
     "output_type": "stream",
     "text": [
      "Epoch  48 | Train: total=1.0005 mse=1.0000 cont=1.55e-05 mom=4.20e-03 bc=9.76e-03 | Val: total=0.6348 bc=9.73e-03 [BEST]\n"
     ]
    },
    {
     "data": {
      "application/vnd.jupyter.widget-view+json": {
       "model_id": "c77abfce64074bf9ac53519ee440f5e1",
       "version_major": 2,
       "version_minor": 0
      },
      "text/plain": [
       "train[49]:   0%|          | 0/90 [00:00<?, ?it/s]"
      ]
     },
     "metadata": {},
     "output_type": "display_data"
    },
    {
     "data": {
      "application/vnd.jupyter.widget-view+json": {
       "model_id": "3116496fef9a4e9184a8a50102639b88",
       "version_major": 2,
       "version_minor": 0
      },
      "text/plain": [
       "val:   0%|          | 0/10 [00:00<?, ?it/s]"
      ]
     },
     "metadata": {},
     "output_type": "display_data"
    },
    {
     "name": "stdout",
     "output_type": "stream",
     "text": [
      "Epoch  49 | Train: total=1.0010 mse=1.0004 cont=2.18e-05 mom=4.35e-03 bc=9.90e-03 | Val: total=0.6347 bc=9.74e-03 [BEST]\n"
     ]
    },
    {
     "data": {
      "application/vnd.jupyter.widget-view+json": {
       "model_id": "f39a9f2a8d7d4abd9eb114cde64c3e24",
       "version_major": 2,
       "version_minor": 0
      },
      "text/plain": [
       "train[50]:   0%|          | 0/90 [00:00<?, ?it/s]"
      ]
     },
     "metadata": {},
     "output_type": "display_data"
    },
    {
     "data": {
      "application/vnd.jupyter.widget-view+json": {
       "model_id": "510e705c148b4bbd9b900df45f6f09ff",
       "version_major": 2,
       "version_minor": 0
      },
      "text/plain": [
       "val:   0%|          | 0/10 [00:00<?, ?it/s]"
      ]
     },
     "metadata": {},
     "output_type": "display_data"
    },
    {
     "name": "stdout",
     "output_type": "stream",
     "text": [
      "Epoch  50 | Train: total=1.0009 mse=1.0003 cont=2.02e-05 mom=5.29e-03 bc=9.82e-03 | Val: total=0.6347 bc=9.74e-03 [BEST]\n"
     ]
    },
    {
     "data": {
      "application/vnd.jupyter.widget-view+json": {
       "model_id": "f16e7d5c7e854db0b5e85705d1c5eb30",
       "version_major": 2,
       "version_minor": 0
      },
      "text/plain": [
       "train[51]:   0%|          | 0/90 [00:00<?, ?it/s]"
      ]
     },
     "metadata": {},
     "output_type": "display_data"
    },
    {
     "data": {
      "application/vnd.jupyter.widget-view+json": {
       "model_id": "aca70d5ab23f428e86e9e0d04ceef5e5",
       "version_major": 2,
       "version_minor": 0
      },
      "text/plain": [
       "val:   0%|          | 0/10 [00:00<?, ?it/s]"
      ]
     },
     "metadata": {},
     "output_type": "display_data"
    },
    {
     "name": "stdout",
     "output_type": "stream",
     "text": [
      "Epoch  51 | Train: total=1.0010 mse=1.0004 cont=1.03e-05 mom=4.07e-03 bc=9.76e-03 | Val: total=0.6346 bc=9.75e-03 [BEST]\n"
     ]
    },
    {
     "data": {
      "application/vnd.jupyter.widget-view+json": {
       "model_id": "9d3bb2aead444731be0feac576a8305c",
       "version_major": 2,
       "version_minor": 0
      },
      "text/plain": [
       "train[52]:   0%|          | 0/90 [00:00<?, ?it/s]"
      ]
     },
     "metadata": {},
     "output_type": "display_data"
    },
    {
     "data": {
      "application/vnd.jupyter.widget-view+json": {
       "model_id": "1655c744c7b3475cae1da485033d4517",
       "version_major": 2,
       "version_minor": 0
      },
      "text/plain": [
       "val:   0%|          | 0/10 [00:00<?, ?it/s]"
      ]
     },
     "metadata": {},
     "output_type": "display_data"
    },
    {
     "name": "stdout",
     "output_type": "stream",
     "text": [
      "Epoch  52 | Train: total=1.0007 mse=0.9998 cont=1.20e-05 mom=8.36e-03 bc=9.77e-03 | Val: total=0.6344 bc=9.75e-03 [BEST]\n"
     ]
    },
    {
     "data": {
      "application/vnd.jupyter.widget-view+json": {
       "model_id": "f2c3405c9d3e4453b7077ac0be8253f1",
       "version_major": 2,
       "version_minor": 0
      },
      "text/plain": [
       "train[53]:   0%|          | 0/90 [00:00<?, ?it/s]"
      ]
     },
     "metadata": {},
     "output_type": "display_data"
    },
    {
     "data": {
      "application/vnd.jupyter.widget-view+json": {
       "model_id": "07a6925ae3cb4beb8d54a65a29cef3a6",
       "version_major": 2,
       "version_minor": 0
      },
      "text/plain": [
       "val:   0%|          | 0/10 [00:00<?, ?it/s]"
      ]
     },
     "metadata": {},
     "output_type": "display_data"
    },
    {
     "name": "stdout",
     "output_type": "stream",
     "text": [
      "Epoch  53 | Train: total=1.0008 mse=0.9998 cont=1.05e-05 mom=9.24e-03 bc=9.77e-03 | Val: total=0.6342 bc=9.75e-03 [BEST]\n"
     ]
    },
    {
     "data": {
      "application/vnd.jupyter.widget-view+json": {
       "model_id": "8cf250482c464e0aa4f23ce021f06db3",
       "version_major": 2,
       "version_minor": 0
      },
      "text/plain": [
       "train[54]:   0%|          | 0/90 [00:00<?, ?it/s]"
      ]
     },
     "metadata": {},
     "output_type": "display_data"
    },
    {
     "data": {
      "application/vnd.jupyter.widget-view+json": {
       "model_id": "31da01bc0c2b4374ab4e43959903d972",
       "version_major": 2,
       "version_minor": 0
      },
      "text/plain": [
       "val:   0%|          | 0/10 [00:00<?, ?it/s]"
      ]
     },
     "metadata": {},
     "output_type": "display_data"
    },
    {
     "name": "stdout",
     "output_type": "stream",
     "text": [
      "Epoch  54 | Train: total=1.0005 mse=0.9999 cont=1.06e-05 mom=4.58e-03 bc=9.79e-03 | Val: total=0.6342 bc=9.76e-03 [BEST]\n"
     ]
    },
    {
     "data": {
      "application/vnd.jupyter.widget-view+json": {
       "model_id": "dc9c6f13ad4644ad94d97d3e9997760c",
       "version_major": 2,
       "version_minor": 0
      },
      "text/plain": [
       "train[55]:   0%|          | 0/90 [00:00<?, ?it/s]"
      ]
     },
     "metadata": {},
     "output_type": "display_data"
    },
    {
     "data": {
      "application/vnd.jupyter.widget-view+json": {
       "model_id": "48c1bf92f65e4316bf66039605106929",
       "version_major": 2,
       "version_minor": 0
      },
      "text/plain": [
       "val:   0%|          | 0/10 [00:00<?, ?it/s]"
      ]
     },
     "metadata": {},
     "output_type": "display_data"
    },
    {
     "name": "stdout",
     "output_type": "stream",
     "text": [
      "Epoch  55 | Train: total=1.0005 mse=0.9996 cont=8.84e-06 mom=9.76e-03 bc=9.79e-03 | Val: total=0.6339 bc=9.77e-03 [BEST]\n"
     ]
    },
    {
     "data": {
      "application/vnd.jupyter.widget-view+json": {
       "model_id": "a30959f11f6e4bc98eb8c387f54d6a7e",
       "version_major": 2,
       "version_minor": 0
      },
      "text/plain": [
       "train[56]:   0%|          | 0/90 [00:00<?, ?it/s]"
      ]
     },
     "metadata": {},
     "output_type": "display_data"
    },
    {
     "data": {
      "application/vnd.jupyter.widget-view+json": {
       "model_id": "5dbbb14010424352af6721e12304edfe",
       "version_major": 2,
       "version_minor": 0
      },
      "text/plain": [
       "val:   0%|          | 0/10 [00:00<?, ?it/s]"
      ]
     },
     "metadata": {},
     "output_type": "display_data"
    },
    {
     "name": "stdout",
     "output_type": "stream",
     "text": [
      "Epoch  56 | Train: total=0.9997 mse=0.9990 cont=1.52e-05 mom=6.17e-03 bc=1.03e-02 | Val: total=0.6337 bc=9.78e-03 [BEST]\n"
     ]
    },
    {
     "data": {
      "application/vnd.jupyter.widget-view+json": {
       "model_id": "a54d95b7edec4588bfedc26cecdf91fa",
       "version_major": 2,
       "version_minor": 0
      },
      "text/plain": [
       "train[57]:   0%|          | 0/90 [00:00<?, ?it/s]"
      ]
     },
     "metadata": {},
     "output_type": "display_data"
    },
    {
     "data": {
      "application/vnd.jupyter.widget-view+json": {
       "model_id": "185778b2b8f547f8bb7a9cce4ef7effb",
       "version_major": 2,
       "version_minor": 0
      },
      "text/plain": [
       "val:   0%|          | 0/10 [00:00<?, ?it/s]"
      ]
     },
     "metadata": {},
     "output_type": "display_data"
    },
    {
     "name": "stdout",
     "output_type": "stream",
     "text": [
      "Epoch  57 | Train: total=1.0011 mse=1.0001 cont=6.21e-06 mom=1.03e-02 bc=9.81e-03 | Val: total=0.6334 bc=9.79e-03 [BEST]\n"
     ]
    },
    {
     "data": {
      "application/vnd.jupyter.widget-view+json": {
       "model_id": "c6c6140bd9e24e21aadbd2fd19d5093e",
       "version_major": 2,
       "version_minor": 0
      },
      "text/plain": [
       "train[58]:   0%|          | 0/90 [00:00<?, ?it/s]"
      ]
     },
     "metadata": {},
     "output_type": "display_data"
    },
    {
     "data": {
      "application/vnd.jupyter.widget-view+json": {
       "model_id": "83482af219434b659629c170dd0a13d9",
       "version_major": 2,
       "version_minor": 0
      },
      "text/plain": [
       "val:   0%|          | 0/10 [00:00<?, ?it/s]"
      ]
     },
     "metadata": {},
     "output_type": "display_data"
    },
    {
     "name": "stdout",
     "output_type": "stream",
     "text": [
      "Epoch  58 | Train: total=1.0006 mse=0.9994 cont=1.27e-05 mom=1.24e-02 bc=1.11e-02 | Val: total=0.6332 bc=9.80e-03 [BEST]\n"
     ]
    },
    {
     "data": {
      "application/vnd.jupyter.widget-view+json": {
       "model_id": "d46121077983401781332f2e5ab90235",
       "version_major": 2,
       "version_minor": 0
      },
      "text/plain": [
       "train[59]:   0%|          | 0/90 [00:00<?, ?it/s]"
      ]
     },
     "metadata": {},
     "output_type": "display_data"
    },
    {
     "data": {
      "application/vnd.jupyter.widget-view+json": {
       "model_id": "3222d02b9d084f3393b9154f5313e8e8",
       "version_major": 2,
       "version_minor": 0
      },
      "text/plain": [
       "val:   0%|          | 0/10 [00:00<?, ?it/s]"
      ]
     },
     "metadata": {},
     "output_type": "display_data"
    },
    {
     "name": "stdout",
     "output_type": "stream",
     "text": [
      "Epoch  59 | Train: total=1.0583 mse=0.9985 cont=7.06e-06 mom=8.66e-01 bc=9.90e-03 | Val: total=0.6330 bc=9.82e-03 [BEST]\n"
     ]
    },
    {
     "data": {
      "application/vnd.jupyter.widget-view+json": {
       "model_id": "be2d1cb49027439083265d7cce651829",
       "version_major": 2,
       "version_minor": 0
      },
      "text/plain": [
       "train[60]:   0%|          | 0/90 [00:00<?, ?it/s]"
      ]
     },
     "metadata": {},
     "output_type": "display_data"
    },
    {
     "data": {
      "application/vnd.jupyter.widget-view+json": {
       "model_id": "707bfa9e44ff445f8453855f370ded82",
       "version_major": 2,
       "version_minor": 0
      },
      "text/plain": [
       "val:   0%|          | 0/10 [00:00<?, ?it/s]"
      ]
     },
     "metadata": {},
     "output_type": "display_data"
    },
    {
     "name": "stdout",
     "output_type": "stream",
     "text": [
      "Epoch  60 | Train: total=1.0094 mse=0.9970 cont=1.47e-05 mom=1.72e-01 bc=1.37e-02 | Val: total=0.6395 bc=9.87e-03 \n"
     ]
    },
    {
     "data": {
      "application/vnd.jupyter.widget-view+json": {
       "model_id": "338a7d7ecd1d409886daba4874b4e13a",
       "version_major": 2,
       "version_minor": 0
      },
      "text/plain": [
       "train[61]:   0%|          | 0/90 [00:00<?, ?it/s]"
      ]
     },
     "metadata": {},
     "output_type": "display_data"
    },
    {
     "data": {
      "application/vnd.jupyter.widget-view+json": {
       "model_id": "63b1499e402d4f879ca635681d02c96f",
       "version_major": 2,
       "version_minor": 0
      },
      "text/plain": [
       "val:   0%|          | 0/10 [00:00<?, ?it/s]"
      ]
     },
     "metadata": {},
     "output_type": "display_data"
    },
    {
     "name": "stdout",
     "output_type": "stream",
     "text": [
      "Epoch  61 | Train: total=1.4217 mse=1.0041 cont=8.45e-06 mom=5.98e+00 bc=1.68e-02 | Val: total=0.6418 bc=1.13e-02 \n"
     ]
    },
    {
     "data": {
      "application/vnd.jupyter.widget-view+json": {
       "model_id": "86c894b113ba4fa68145496132d48e61",
       "version_major": 2,
       "version_minor": 0
      },
      "text/plain": [
       "train[62]:   0%|          | 0/90 [00:00<?, ?it/s]"
      ]
     },
     "metadata": {},
     "output_type": "display_data"
    },
    {
     "data": {
      "application/vnd.jupyter.widget-view+json": {
       "model_id": "f84ccfc8d5d74005a344da1f0572c030",
       "version_major": 2,
       "version_minor": 0
      },
      "text/plain": [
       "val:   0%|          | 0/10 [00:00<?, ?it/s]"
      ]
     },
     "metadata": {},
     "output_type": "display_data"
    },
    {
     "name": "stdout",
     "output_type": "stream",
     "text": [
      "Epoch  62 | Train: total=1.1056 mse=1.0094 cont=8.82e-06 mom=1.36e+00 bc=1.14e-02 | Val: total=0.6390 bc=1.20e-02 \n"
     ]
    },
    {
     "data": {
      "application/vnd.jupyter.widget-view+json": {
       "model_id": "882e9b432d254bb2992527e345efb7eb",
       "version_major": 2,
       "version_minor": 0
      },
      "text/plain": [
       "train[63]:   0%|          | 0/90 [00:00<?, ?it/s]"
      ]
     },
     "metadata": {},
     "output_type": "display_data"
    },
    {
     "data": {
      "application/vnd.jupyter.widget-view+json": {
       "model_id": "c82f535abce748dca970a6440428c4fd",
       "version_major": 2,
       "version_minor": 0
      },
      "text/plain": [
       "val:   0%|          | 0/10 [00:00<?, ?it/s]"
      ]
     },
     "metadata": {},
     "output_type": "display_data"
    },
    {
     "name": "stdout",
     "output_type": "stream",
     "text": [
      "Epoch  63 | Train: total=1.2422 mse=1.0064 cont=2.04e-05 mom=3.24e+00 bc=1.62e-01 | Val: total=0.6361 bc=1.04e-02 \n"
     ]
    },
    {
     "data": {
      "application/vnd.jupyter.widget-view+json": {
       "model_id": "148778fdda8e4ddfaad3ba150e5e4a79",
       "version_major": 2,
       "version_minor": 0
      },
      "text/plain": [
       "train[64]:   0%|          | 0/90 [00:00<?, ?it/s]"
      ]
     },
     "metadata": {},
     "output_type": "display_data"
    },
    {
     "data": {
      "application/vnd.jupyter.widget-view+json": {
       "model_id": "3c37be22e13449bbab448bc3bb1a137b",
       "version_major": 2,
       "version_minor": 0
      },
      "text/plain": [
       "val:   0%|          | 0/10 [00:00<?, ?it/s]"
      ]
     },
     "metadata": {},
     "output_type": "display_data"
    },
    {
     "name": "stdout",
     "output_type": "stream",
     "text": [
      "Epoch  64 | Train: total=1.3134 mse=1.0034 cont=2.44e-05 mom=4.28e+00 bc=7.25e-02 | Val: total=0.6345 bc=9.96e-03 \n"
     ]
    },
    {
     "data": {
      "application/vnd.jupyter.widget-view+json": {
       "model_id": "12d43898f77846acb1b9386bfecbcb89",
       "version_major": 2,
       "version_minor": 0
      },
      "text/plain": [
       "train[65]:   0%|          | 0/90 [00:00<?, ?it/s]"
      ]
     },
     "metadata": {},
     "output_type": "display_data"
    },
    {
     "data": {
      "application/vnd.jupyter.widget-view+json": {
       "model_id": "204d23c970894436a6f5c47dd8ed3548",
       "version_major": 2,
       "version_minor": 0
      },
      "text/plain": [
       "val:   0%|          | 0/10 [00:00<?, ?it/s]"
      ]
     },
     "metadata": {},
     "output_type": "display_data"
    },
    {
     "name": "stdout",
     "output_type": "stream",
     "text": [
      "Epoch  65 | Train: total=1.0893 mse=1.0019 cont=1.47e-05 mom=1.20e+00 bc=1.10e-02 | Val: total=0.6362 bc=9.94e-03 \n"
     ]
    },
    {
     "data": {
      "application/vnd.jupyter.widget-view+json": {
       "model_id": "e6b8af0ae00f4aa4b7ee854e9ce0900a",
       "version_major": 2,
       "version_minor": 0
      },
      "text/plain": [
       "train[66]:   0%|          | 0/90 [00:00<?, ?it/s]"
      ]
     },
     "metadata": {},
     "output_type": "display_data"
    },
    {
     "data": {
      "application/vnd.jupyter.widget-view+json": {
       "model_id": "0d4bc5e3293f4665bc4e899d48d0169d",
       "version_major": 2,
       "version_minor": 0
      },
      "text/plain": [
       "val:   0%|          | 0/10 [00:00<?, ?it/s]"
      ]
     },
     "metadata": {},
     "output_type": "display_data"
    },
    {
     "name": "stdout",
     "output_type": "stream",
     "text": [
      "Epoch  66 | Train: total=1.1025 mse=1.0006 cont=3.26e-05 mom=1.37e+00 bc=4.95e-02 | Val: total=0.6336 bc=9.99e-03 \n"
     ]
    },
    {
     "data": {
      "application/vnd.jupyter.widget-view+json": {
       "model_id": "673a2ad25fe14fcc99deeb68ed6c4c34",
       "version_major": 2,
       "version_minor": 0
      },
      "text/plain": [
       "train[67]:   0%|          | 0/90 [00:00<?, ?it/s]"
      ]
     },
     "metadata": {},
     "output_type": "display_data"
    },
    {
     "data": {
      "application/vnd.jupyter.widget-view+json": {
       "model_id": "2e7f8fc6a84d4f7790b345b3657b5e42",
       "version_major": 2,
       "version_minor": 0
      },
      "text/plain": [
       "val:   0%|          | 0/10 [00:00<?, ?it/s]"
      ]
     },
     "metadata": {},
     "output_type": "display_data"
    },
    {
     "name": "stdout",
     "output_type": "stream",
     "text": [
      "Epoch  67 | Train: total=1.0347 mse=1.0006 cont=1.74e-05 mom=4.59e-01 bc=1.08e-02 | Val: total=0.6329 bc=1.00e-02 [BEST]\n"
     ]
    },
    {
     "data": {
      "application/vnd.jupyter.widget-view+json": {
       "model_id": "c2ea1df52d744faab8b9124d56462bf9",
       "version_major": 2,
       "version_minor": 0
      },
      "text/plain": [
       "train[68]:   0%|          | 0/90 [00:00<?, ?it/s]"
      ]
     },
     "metadata": {},
     "output_type": "display_data"
    },
    {
     "data": {
      "application/vnd.jupyter.widget-view+json": {
       "model_id": "5f3407bcada0492f8842a32499c5d27e",
       "version_major": 2,
       "version_minor": 0
      },
      "text/plain": [
       "val:   0%|          | 0/10 [00:00<?, ?it/s]"
      ]
     },
     "metadata": {},
     "output_type": "display_data"
    },
    {
     "name": "stdout",
     "output_type": "stream",
     "text": [
      "Epoch  68 | Train: total=1.0433 mse=0.9997 cont=2.17e-05 mom=5.82e-01 bc=1.13e-02 | Val: total=0.6332 bc=1.00e-02 \n"
     ]
    },
    {
     "data": {
      "application/vnd.jupyter.widget-view+json": {
       "model_id": "0f0a88dda8ed4a329f74c643a9e2dd4a",
       "version_major": 2,
       "version_minor": 0
      },
      "text/plain": [
       "train[69]:   0%|          | 0/90 [00:00<?, ?it/s]"
      ]
     },
     "metadata": {},
     "output_type": "display_data"
    },
    {
     "data": {
      "application/vnd.jupyter.widget-view+json": {
       "model_id": "a7bac0c1af09441aa93d658c440528ab",
       "version_major": 2,
       "version_minor": 0
      },
      "text/plain": [
       "val:   0%|          | 0/10 [00:00<?, ?it/s]"
      ]
     },
     "metadata": {},
     "output_type": "display_data"
    },
    {
     "name": "stdout",
     "output_type": "stream",
     "text": [
      "Epoch  69 | Train: total=1.0826 mse=0.9999 cont=3.74e-05 mom=1.09e+00 bc=4.14e-02 | Val: total=0.6330 bc=1.01e-02 \n"
     ]
    },
    {
     "data": {
      "application/vnd.jupyter.widget-view+json": {
       "model_id": "63172cecb07b422fa682eeef972a80d9",
       "version_major": 2,
       "version_minor": 0
      },
      "text/plain": [
       "train[70]:   0%|          | 0/90 [00:00<?, ?it/s]"
      ]
     },
     "metadata": {},
     "output_type": "display_data"
    },
    {
     "data": {
      "application/vnd.jupyter.widget-view+json": {
       "model_id": "ad9c5470fa2e4b13b576fef8e96cdb28",
       "version_major": 2,
       "version_minor": 0
      },
      "text/plain": [
       "val:   0%|          | 0/10 [00:00<?, ?it/s]"
      ]
     },
     "metadata": {},
     "output_type": "display_data"
    },
    {
     "name": "stdout",
     "output_type": "stream",
     "text": [
      "Epoch  70 | Train: total=1.0482 mse=0.9991 cont=3.95e-05 mom=6.27e-01 bc=3.96e-02 | Val: total=0.6328 bc=1.01e-02 [BEST]\n"
     ]
    },
    {
     "data": {
      "application/vnd.jupyter.widget-view+json": {
       "model_id": "91dc393fc64c45a8b6ca5c29f71a9a2b",
       "version_major": 2,
       "version_minor": 0
      },
      "text/plain": [
       "train[71]:   0%|          | 0/90 [00:00<?, ?it/s]"
      ]
     },
     "metadata": {},
     "output_type": "display_data"
    },
    {
     "data": {
      "application/vnd.jupyter.widget-view+json": {
       "model_id": "78f85d3d11d449f08adc3b2c86fbb69d",
       "version_major": 2,
       "version_minor": 0
      },
      "text/plain": [
       "val:   0%|          | 0/10 [00:00<?, ?it/s]"
      ]
     },
     "metadata": {},
     "output_type": "display_data"
    },
    {
     "name": "stdout",
     "output_type": "stream",
     "text": [
      "Epoch  71 | Train: total=1.0239 mse=0.9993 cont=2.40e-05 mom=3.18e-01 bc=1.13e-02 | Val: total=0.6325 bc=1.01e-02 [BEST]\n"
     ]
    },
    {
     "data": {
      "application/vnd.jupyter.widget-view+json": {
       "model_id": "8a877c1b199345c9826120504862faad",
       "version_major": 2,
       "version_minor": 0
      },
      "text/plain": [
       "train[72]:   0%|          | 0/90 [00:00<?, ?it/s]"
      ]
     },
     "metadata": {},
     "output_type": "display_data"
    },
    {
     "data": {
      "application/vnd.jupyter.widget-view+json": {
       "model_id": "fbe1db9669c445e38166cb5ca9519295",
       "version_major": 2,
       "version_minor": 0
      },
      "text/plain": [
       "val:   0%|          | 0/10 [00:00<?, ?it/s]"
      ]
     },
     "metadata": {},
     "output_type": "display_data"
    },
    {
     "name": "stdout",
     "output_type": "stream",
     "text": [
      "Epoch  72 | Train: total=1.0312 mse=0.9989 cont=3.79e-05 mom=3.98e-01 bc=3.98e-02 | Val: total=0.6327 bc=1.01e-02 \n"
     ]
    },
    {
     "data": {
      "application/vnd.jupyter.widget-view+json": {
       "model_id": "0d89c36b586940da9d0c968f94daba74",
       "version_major": 2,
       "version_minor": 0
      },
      "text/plain": [
       "train[73]:   0%|          | 0/90 [00:00<?, ?it/s]"
      ]
     },
     "metadata": {},
     "output_type": "display_data"
    },
    {
     "data": {
      "application/vnd.jupyter.widget-view+json": {
       "model_id": "a8590b046bc5450386c8fd65858d7607",
       "version_major": 2,
       "version_minor": 0
      },
      "text/plain": [
       "val:   0%|          | 0/10 [00:00<?, ?it/s]"
      ]
     },
     "metadata": {},
     "output_type": "display_data"
    },
    {
     "name": "stdout",
     "output_type": "stream",
     "text": [
      "Epoch  73 | Train: total=1.0142 mse=0.9989 cont=2.42e-05 mom=1.91e-01 bc=1.09e-02 | Val: total=0.6324 bc=1.01e-02 [BEST]\n"
     ]
    },
    {
     "data": {
      "application/vnd.jupyter.widget-view+json": {
       "model_id": "6eb60f2c0c0e4253bc285e2a7916d078",
       "version_major": 2,
       "version_minor": 0
      },
      "text/plain": [
       "train[74]:   0%|          | 0/90 [00:00<?, ?it/s]"
      ]
     },
     "metadata": {},
     "output_type": "display_data"
    },
    {
     "data": {
      "application/vnd.jupyter.widget-view+json": {
       "model_id": "128f1e5357564432974d442569fb4d3b",
       "version_major": 2,
       "version_minor": 0
      },
      "text/plain": [
       "val:   0%|          | 0/10 [00:00<?, ?it/s]"
      ]
     },
     "metadata": {},
     "output_type": "display_data"
    },
    {
     "name": "stdout",
     "output_type": "stream",
     "text": [
      "Epoch  74 | Train: total=1.0404 mse=0.9986 cont=4.41e-05 mom=5.16e-01 bc=3.65e-02 | Val: total=0.6325 bc=1.01e-02 \n"
     ]
    },
    {
     "data": {
      "application/vnd.jupyter.widget-view+json": {
       "model_id": "0dcdca86b7fb49dbbd5989c0646e8fd5",
       "version_major": 2,
       "version_minor": 0
      },
      "text/plain": [
       "train[75]:   0%|          | 0/90 [00:00<?, ?it/s]"
      ]
     },
     "metadata": {},
     "output_type": "display_data"
    },
    {
     "data": {
      "application/vnd.jupyter.widget-view+json": {
       "model_id": "d39d936a0c71439fa868e96ea4caea12",
       "version_major": 2,
       "version_minor": 0
      },
      "text/plain": [
       "val:   0%|          | 0/10 [00:00<?, ?it/s]"
      ]
     },
     "metadata": {},
     "output_type": "display_data"
    },
    {
     "name": "stdout",
     "output_type": "stream",
     "text": [
      "Epoch  75 | Train: total=1.0127 mse=0.9985 cont=2.71e-05 mom=1.75e-01 bc=1.10e-02 | Val: total=0.6324 bc=1.01e-02 [BEST]\n"
     ]
    },
    {
     "data": {
      "application/vnd.jupyter.widget-view+json": {
       "model_id": "ab59673369284814bac853e3f78eb8b1",
       "version_major": 2,
       "version_minor": 0
      },
      "text/plain": [
       "train[76]:   0%|          | 0/90 [00:00<?, ?it/s]"
      ]
     },
     "metadata": {},
     "output_type": "display_data"
    },
    {
     "data": {
      "application/vnd.jupyter.widget-view+json": {
       "model_id": "3c3f262d72114cc3af62c0936585c7cf",
       "version_major": 2,
       "version_minor": 0
      },
      "text/plain": [
       "val:   0%|          | 0/10 [00:00<?, ?it/s]"
      ]
     },
     "metadata": {},
     "output_type": "display_data"
    },
    {
     "name": "stdout",
     "output_type": "stream",
     "text": [
      "Epoch  76 | Train: total=1.0095 mse=0.9984 cont=2.40e-05 mom=1.34e-01 bc=1.08e-02 | Val: total=0.6324 bc=1.01e-02 [BEST]\n"
     ]
    },
    {
     "data": {
      "application/vnd.jupyter.widget-view+json": {
       "model_id": "70fc1f84f4054a9ebb423fa297fd5ee0",
       "version_major": 2,
       "version_minor": 0
      },
      "text/plain": [
       "train[77]:   0%|          | 0/90 [00:00<?, ?it/s]"
      ]
     },
     "metadata": {},
     "output_type": "display_data"
    },
    {
     "data": {
      "application/vnd.jupyter.widget-view+json": {
       "model_id": "11dd2d09192245138376474917a1f6e1",
       "version_major": 2,
       "version_minor": 0
      },
      "text/plain": [
       "val:   0%|          | 0/10 [00:00<?, ?it/s]"
      ]
     },
     "metadata": {},
     "output_type": "display_data"
    },
    {
     "name": "stdout",
     "output_type": "stream",
     "text": [
      "Epoch  77 | Train: total=1.0088 mse=0.9985 cont=2.14e-05 mom=1.22e-01 bc=1.03e-02 | Val: total=0.6324 bc=1.02e-02 [BEST]\n"
     ]
    },
    {
     "data": {
      "application/vnd.jupyter.widget-view+json": {
       "model_id": "fc13ee905bc8499d843655e03cd403fc",
       "version_major": 2,
       "version_minor": 0
      },
      "text/plain": [
       "train[78]:   0%|          | 0/90 [00:00<?, ?it/s]"
      ]
     },
     "metadata": {},
     "output_type": "display_data"
    },
    {
     "data": {
      "application/vnd.jupyter.widget-view+json": {
       "model_id": "2316baa27250479f909b8f9ee8fd4b88",
       "version_major": 2,
       "version_minor": 0
      },
      "text/plain": [
       "val:   0%|          | 0/10 [00:00<?, ?it/s]"
      ]
     },
     "metadata": {},
     "output_type": "display_data"
    },
    {
     "name": "stdout",
     "output_type": "stream",
     "text": [
      "Epoch  78 | Train: total=1.0071 mse=0.9989 cont=2.16e-05 mom=9.46e-02 bc=1.07e-02 | Val: total=0.6323 bc=1.02e-02 [BEST]\n"
     ]
    },
    {
     "data": {
      "application/vnd.jupyter.widget-view+json": {
       "model_id": "401bdc73457a486e9e021ca433c5b302",
       "version_major": 2,
       "version_minor": 0
      },
      "text/plain": [
       "train[79]:   0%|          | 0/90 [00:00<?, ?it/s]"
      ]
     },
     "metadata": {},
     "output_type": "display_data"
    },
    {
     "data": {
      "application/vnd.jupyter.widget-view+json": {
       "model_id": "acfe49fc4abb442dafac923dc3a961b9",
       "version_major": 2,
       "version_minor": 0
      },
      "text/plain": [
       "val:   0%|          | 0/10 [00:00<?, ?it/s]"
      ]
     },
     "metadata": {},
     "output_type": "display_data"
    },
    {
     "name": "stdout",
     "output_type": "stream",
     "text": [
      "Epoch  79 | Train: total=1.0069 mse=0.9986 cont=2.44e-05 mom=9.59e-02 bc=1.09e-02 | Val: total=0.6323 bc=1.02e-02 [BEST]\n"
     ]
    },
    {
     "data": {
      "application/vnd.jupyter.widget-view+json": {
       "model_id": "9514c12547b34ed7a184ec8bb09dfd3f",
       "version_major": 2,
       "version_minor": 0
      },
      "text/plain": [
       "train[80]:   0%|          | 0/90 [00:00<?, ?it/s]"
      ]
     },
     "metadata": {},
     "output_type": "display_data"
    },
    {
     "data": {
      "application/vnd.jupyter.widget-view+json": {
       "model_id": "fbc6492ed82a453c954b040aa73d2d2b",
       "version_major": 2,
       "version_minor": 0
      },
      "text/plain": [
       "val:   0%|          | 0/10 [00:00<?, ?it/s]"
      ]
     },
     "metadata": {},
     "output_type": "display_data"
    },
    {
     "name": "stdout",
     "output_type": "stream",
     "text": [
      "Epoch  80 | Train: total=1.0078 mse=0.9989 cont=2.87e-05 mom=1.02e-01 bc=1.11e-02 | Val: total=0.6323 bc=1.02e-02 [BEST]\n"
     ]
    },
    {
     "data": {
      "application/vnd.jupyter.widget-view+json": {
       "model_id": "0119e4d1ef9c4415b1fc0fb01d687360",
       "version_major": 2,
       "version_minor": 0
      },
      "text/plain": [
       "train[81]:   0%|          | 0/90 [00:00<?, ?it/s]"
      ]
     },
     "metadata": {},
     "output_type": "display_data"
    },
    {
     "data": {
      "application/vnd.jupyter.widget-view+json": {
       "model_id": "4ae14fdfe57e4cf2ab867a547e5432e2",
       "version_major": 2,
       "version_minor": 0
      },
      "text/plain": [
       "val:   0%|          | 0/10 [00:00<?, ?it/s]"
      ]
     },
     "metadata": {},
     "output_type": "display_data"
    },
    {
     "name": "stdout",
     "output_type": "stream",
     "text": [
      "Epoch  81 | Train: total=1.0092 mse=0.9985 cont=2.70e-05 mom=1.23e-01 bc=1.10e-02 | Val: total=0.6323 bc=1.02e-02 [BEST]\n"
     ]
    },
    {
     "data": {
      "application/vnd.jupyter.widget-view+json": {
       "model_id": "b3c7144e38c643eaab74e0a2ffc66d26",
       "version_major": 2,
       "version_minor": 0
      },
      "text/plain": [
       "train[82]:   0%|          | 0/90 [00:00<?, ?it/s]"
      ]
     },
     "metadata": {},
     "output_type": "display_data"
    },
    {
     "data": {
      "application/vnd.jupyter.widget-view+json": {
       "model_id": "4252185c15fc47afafc6365930d99de0",
       "version_major": 2,
       "version_minor": 0
      },
      "text/plain": [
       "val:   0%|          | 0/10 [00:00<?, ?it/s]"
      ]
     },
     "metadata": {},
     "output_type": "display_data"
    },
    {
     "name": "stdout",
     "output_type": "stream",
     "text": [
      "Epoch  82 | Train: total=1.0104 mse=0.9984 cont=2.72e-05 mom=1.38e-01 bc=1.12e-02 | Val: total=0.6323 bc=1.02e-02 [BEST]\n"
     ]
    },
    {
     "data": {
      "application/vnd.jupyter.widget-view+json": {
       "model_id": "c3e2691256e241f4b0ffb9d3d945905a",
       "version_major": 2,
       "version_minor": 0
      },
      "text/plain": [
       "train[83]:   0%|          | 0/90 [00:00<?, ?it/s]"
      ]
     },
     "metadata": {},
     "output_type": "display_data"
    },
    {
     "data": {
      "application/vnd.jupyter.widget-view+json": {
       "model_id": "0082b9bd4adb46d490ffd1251d2c778e",
       "version_major": 2,
       "version_minor": 0
      },
      "text/plain": [
       "val:   0%|          | 0/10 [00:00<?, ?it/s]"
      ]
     },
     "metadata": {},
     "output_type": "display_data"
    },
    {
     "name": "stdout",
     "output_type": "stream",
     "text": [
      "Epoch  83 | Train: total=1.0091 mse=0.9985 cont=2.02e-05 mom=1.22e-01 bc=1.02e-02 | Val: total=0.6323 bc=1.02e-02 [BEST]\n"
     ]
    },
    {
     "data": {
      "application/vnd.jupyter.widget-view+json": {
       "model_id": "121c704cd64e4d659b6b178e51b11cbb",
       "version_major": 2,
       "version_minor": 0
      },
      "text/plain": [
       "train[84]:   0%|          | 0/90 [00:00<?, ?it/s]"
      ]
     },
     "metadata": {},
     "output_type": "display_data"
    },
    {
     "data": {
      "application/vnd.jupyter.widget-view+json": {
       "model_id": "53e3c1ab830b43969f03d6d17df61d2b",
       "version_major": 2,
       "version_minor": 0
      },
      "text/plain": [
       "val:   0%|          | 0/10 [00:00<?, ?it/s]"
      ]
     },
     "metadata": {},
     "output_type": "display_data"
    },
    {
     "name": "stdout",
     "output_type": "stream",
     "text": [
      "Epoch  84 | Train: total=1.0119 mse=0.9988 cont=2.70e-05 mom=1.48e-01 bc=1.10e-02 | Val: total=0.6323 bc=1.02e-02 \n"
     ]
    },
    {
     "data": {
      "application/vnd.jupyter.widget-view+json": {
       "model_id": "3814e794a742473d940877e873cc796f",
       "version_major": 2,
       "version_minor": 0
      },
      "text/plain": [
       "train[85]:   0%|          | 0/90 [00:00<?, ?it/s]"
      ]
     },
     "metadata": {},
     "output_type": "display_data"
    },
    {
     "data": {
      "application/vnd.jupyter.widget-view+json": {
       "model_id": "9a59935ab35740108ee39e7d45b01343",
       "version_major": 2,
       "version_minor": 0
      },
      "text/plain": [
       "val:   0%|          | 0/10 [00:00<?, ?it/s]"
      ]
     },
     "metadata": {},
     "output_type": "display_data"
    },
    {
     "name": "stdout",
     "output_type": "stream",
     "text": [
      "Epoch  85 | Train: total=1.0112 mse=0.9988 cont=2.88e-05 mom=1.41e-01 bc=1.12e-02 | Val: total=0.6323 bc=1.02e-02 \n"
     ]
    },
    {
     "data": {
      "application/vnd.jupyter.widget-view+json": {
       "model_id": "d2eb514f48e945b79b38db562d979d6e",
       "version_major": 2,
       "version_minor": 0
      },
      "text/plain": [
       "train[86]:   0%|          | 0/90 [00:00<?, ?it/s]"
      ]
     },
     "metadata": {},
     "output_type": "display_data"
    },
    {
     "data": {
      "application/vnd.jupyter.widget-view+json": {
       "model_id": "479e997a0b7e4ef79543e0dd1dba5859",
       "version_major": 2,
       "version_minor": 0
      },
      "text/plain": [
       "val:   0%|          | 0/10 [00:00<?, ?it/s]"
      ]
     },
     "metadata": {},
     "output_type": "display_data"
    },
    {
     "name": "stdout",
     "output_type": "stream",
     "text": [
      "Epoch  86 | Train: total=1.0138 mse=0.9984 cont=2.52e-05 mom=1.75e-01 bc=1.09e-02 | Val: total=0.6323 bc=1.02e-02 [BEST]\n"
     ]
    },
    {
     "data": {
      "application/vnd.jupyter.widget-view+json": {
       "model_id": "2ef011b712df49f7ba8924574bb7a150",
       "version_major": 2,
       "version_minor": 0
      },
      "text/plain": [
       "train[87]:   0%|          | 0/90 [00:00<?, ?it/s]"
      ]
     },
     "metadata": {},
     "output_type": "display_data"
    },
    {
     "data": {
      "application/vnd.jupyter.widget-view+json": {
       "model_id": "79d0508ff96f4dd7ad004ddcae1b0864",
       "version_major": 2,
       "version_minor": 0
      },
      "text/plain": [
       "val:   0%|          | 0/10 [00:00<?, ?it/s]"
      ]
     },
     "metadata": {},
     "output_type": "display_data"
    },
    {
     "name": "stdout",
     "output_type": "stream",
     "text": [
      "Epoch  87 | Train: total=1.0261 mse=0.9987 cont=4.90e-05 mom=2.99e-01 bc=3.52e-02 | Val: total=0.6327 bc=1.02e-02 \n"
     ]
    },
    {
     "data": {
      "application/vnd.jupyter.widget-view+json": {
       "model_id": "3b3ba9c03a434e9b88b04f98a1cb1f0f",
       "version_major": 2,
       "version_minor": 0
      },
      "text/plain": [
       "train[88]:   0%|          | 0/90 [00:00<?, ?it/s]"
      ]
     },
     "metadata": {},
     "output_type": "display_data"
    },
    {
     "data": {
      "application/vnd.jupyter.widget-view+json": {
       "model_id": "9b69fa6dcdac40cda0d3bb8d699a9519",
       "version_major": 2,
       "version_minor": 0
      },
      "text/plain": [
       "val:   0%|          | 0/10 [00:00<?, ?it/s]"
      ]
     },
     "metadata": {},
     "output_type": "display_data"
    },
    {
     "name": "stdout",
     "output_type": "stream",
     "text": [
      "Epoch  88 | Train: total=1.0098 mse=0.9987 cont=2.94e-05 mom=1.22e-01 bc=1.12e-02 | Val: total=0.6325 bc=1.02e-02 \n"
     ]
    },
    {
     "data": {
      "application/vnd.jupyter.widget-view+json": {
       "model_id": "ae383ecfbbf3462b986a524fe7eb9993",
       "version_major": 2,
       "version_minor": 0
      },
      "text/plain": [
       "train[89]:   0%|          | 0/90 [00:00<?, ?it/s]"
      ]
     },
     "metadata": {},
     "output_type": "display_data"
    },
    {
     "data": {
      "application/vnd.jupyter.widget-view+json": {
       "model_id": "f5c89aa421384ccfaeae6679b44a356e",
       "version_major": 2,
       "version_minor": 0
      },
      "text/plain": [
       "val:   0%|          | 0/10 [00:00<?, ?it/s]"
      ]
     },
     "metadata": {},
     "output_type": "display_data"
    },
    {
     "name": "stdout",
     "output_type": "stream",
     "text": [
      "Epoch  89 | Train: total=1.0162 mse=0.9994 cont=2.81e-05 mom=1.87e-01 bc=1.11e-02 | Val: total=0.6326 bc=1.02e-02 \n"
     ]
    },
    {
     "data": {
      "application/vnd.jupyter.widget-view+json": {
       "model_id": "024426d3bcf7469bac3d2c30defdf90a",
       "version_major": 2,
       "version_minor": 0
      },
      "text/plain": [
       "train[90]:   0%|          | 0/90 [00:00<?, ?it/s]"
      ]
     },
     "metadata": {},
     "output_type": "display_data"
    },
    {
     "data": {
      "application/vnd.jupyter.widget-view+json": {
       "model_id": "56537db760904135a006874696af83c3",
       "version_major": 2,
       "version_minor": 0
      },
      "text/plain": [
       "val:   0%|          | 0/10 [00:00<?, ?it/s]"
      ]
     },
     "metadata": {},
     "output_type": "display_data"
    },
    {
     "name": "stdout",
     "output_type": "stream",
     "text": [
      "Epoch  90 | Train: total=1.0367 mse=0.9993 cont=4.96e-05 mom=4.05e-01 bc=3.58e-02 | Val: total=0.6325 bc=1.02e-02 \n"
     ]
    },
    {
     "data": {
      "application/vnd.jupyter.widget-view+json": {
       "model_id": "3abef12d214c4b349299b286cb47bcc0",
       "version_major": 2,
       "version_minor": 0
      },
      "text/plain": [
       "train[91]:   0%|          | 0/90 [00:00<?, ?it/s]"
      ]
     },
     "metadata": {},
     "output_type": "display_data"
    },
    {
     "data": {
      "application/vnd.jupyter.widget-view+json": {
       "model_id": "810bc4b092194f20836ef03a14c314a5",
       "version_major": 2,
       "version_minor": 0
      },
      "text/plain": [
       "val:   0%|          | 0/10 [00:00<?, ?it/s]"
      ]
     },
     "metadata": {},
     "output_type": "display_data"
    },
    {
     "name": "stdout",
     "output_type": "stream",
     "text": [
      "Epoch  91 | Train: total=1.0246 mse=0.9995 cont=3.17e-05 mom=2.77e-01 bc=1.12e-02 | Val: total=0.6321 bc=1.02e-02 [BEST]\n"
     ]
    },
    {
     "data": {
      "application/vnd.jupyter.widget-view+json": {
       "model_id": "0f2fe6e2c9fa4b6ba3eab0463dd4c087",
       "version_major": 2,
       "version_minor": 0
      },
      "text/plain": [
       "train[92]:   0%|          | 0/90 [00:00<?, ?it/s]"
      ]
     },
     "metadata": {},
     "output_type": "display_data"
    },
    {
     "data": {
      "application/vnd.jupyter.widget-view+json": {
       "model_id": "f5699ec1f11546e5960138ffce08893e",
       "version_major": 2,
       "version_minor": 0
      },
      "text/plain": [
       "val:   0%|          | 0/10 [00:00<?, ?it/s]"
      ]
     },
     "metadata": {},
     "output_type": "display_data"
    },
    {
     "name": "stdout",
     "output_type": "stream",
     "text": [
      "Epoch  92 | Train: total=1.0444 mse=0.9994 cont=4.43e-05 mom=4.87e-01 bc=3.27e-02 | Val: total=0.6322 bc=1.02e-02 \n"
     ]
    },
    {
     "data": {
      "application/vnd.jupyter.widget-view+json": {
       "model_id": "599422b7680f4f869ce9d4814dc8403b",
       "version_major": 2,
       "version_minor": 0
      },
      "text/plain": [
       "train[93]:   0%|          | 0/90 [00:00<?, ?it/s]"
      ]
     },
     "metadata": {},
     "output_type": "display_data"
    },
    {
     "data": {
      "application/vnd.jupyter.widget-view+json": {
       "model_id": "d1e5bb7557da48fbbc4471e8a018ecd5",
       "version_major": 2,
       "version_minor": 0
      },
      "text/plain": [
       "val:   0%|          | 0/10 [00:00<?, ?it/s]"
      ]
     },
     "metadata": {},
     "output_type": "display_data"
    },
    {
     "name": "stdout",
     "output_type": "stream",
     "text": [
      "Epoch  93 | Train: total=1.0309 mse=0.9992 cont=3.42e-05 mom=3.47e-01 bc=1.10e-02 | Val: total=0.6326 bc=1.01e-02 \n"
     ]
    },
    {
     "data": {
      "application/vnd.jupyter.widget-view+json": {
       "model_id": "ce78af01dd18471e86dc15a8ff617b26",
       "version_major": 2,
       "version_minor": 0
      },
      "text/plain": [
       "train[94]:   0%|          | 0/90 [00:00<?, ?it/s]"
      ]
     },
     "metadata": {},
     "output_type": "display_data"
    },
    {
     "data": {
      "application/vnd.jupyter.widget-view+json": {
       "model_id": "99b033c8cc9943878dedd5cd7cafe776",
       "version_major": 2,
       "version_minor": 0
      },
      "text/plain": [
       "val:   0%|          | 0/10 [00:00<?, ?it/s]"
      ]
     },
     "metadata": {},
     "output_type": "display_data"
    },
    {
     "name": "stdout",
     "output_type": "stream",
     "text": [
      "Epoch  94 | Train: total=1.0402 mse=0.9992 cont=3.62e-05 mom=4.48e-01 bc=1.05e-02 | Val: total=0.6328 bc=1.01e-02 \n"
     ]
    },
    {
     "data": {
      "application/vnd.jupyter.widget-view+json": {
       "model_id": "87e8951d3e974e158a35bf1511270c40",
       "version_major": 2,
       "version_minor": 0
      },
      "text/plain": [
       "train[95]:   0%|          | 0/90 [00:00<?, ?it/s]"
      ]
     },
     "metadata": {},
     "output_type": "display_data"
    },
    {
     "data": {
      "application/vnd.jupyter.widget-view+json": {
       "model_id": "6757afdf3d654c889507fb933e3f66d8",
       "version_major": 2,
       "version_minor": 0
      },
      "text/plain": [
       "val:   0%|          | 0/10 [00:00<?, ?it/s]"
      ]
     },
     "metadata": {},
     "output_type": "display_data"
    },
    {
     "name": "stdout",
     "output_type": "stream",
     "text": [
      "Epoch  95 | Train: total=1.0246 mse=0.9997 cont=3.21e-05 mom=2.69e-01 bc=1.03e-02 | Val: total=0.6324 bc=1.02e-02 \n"
     ]
    },
    {
     "data": {
      "application/vnd.jupyter.widget-view+json": {
       "model_id": "ba868748a962421b896f4511c23f5ad6",
       "version_major": 2,
       "version_minor": 0
      },
      "text/plain": [
       "train[96]:   0%|          | 0/90 [00:00<?, ?it/s]"
      ]
     },
     "metadata": {},
     "output_type": "display_data"
    },
    {
     "data": {
      "application/vnd.jupyter.widget-view+json": {
       "model_id": "524fd7e9241f4b2381f37aecfc771dbe",
       "version_major": 2,
       "version_minor": 0
      },
      "text/plain": [
       "val:   0%|          | 0/10 [00:00<?, ?it/s]"
      ]
     },
     "metadata": {},
     "output_type": "display_data"
    },
    {
     "name": "stdout",
     "output_type": "stream",
     "text": [
      "Epoch  96 | Train: total=1.0491 mse=0.9990 cont=5.87e-05 mom=5.41e-01 bc=1.19e-02 | Val: total=0.6319 bc=1.02e-02 [BEST]\n"
     ]
    },
    {
     "data": {
      "application/vnd.jupyter.widget-view+json": {
       "model_id": "36837843d1144cee85f3506400953f90",
       "version_major": 2,
       "version_minor": 0
      },
      "text/plain": [
       "train[97]:   0%|          | 0/90 [00:00<?, ?it/s]"
      ]
     },
     "metadata": {},
     "output_type": "display_data"
    },
    {
     "data": {
      "application/vnd.jupyter.widget-view+json": {
       "model_id": "0fcf810654434545995d5ccb28d417af",
       "version_major": 2,
       "version_minor": 0
      },
      "text/plain": [
       "val:   0%|          | 0/10 [00:00<?, ?it/s]"
      ]
     },
     "metadata": {},
     "output_type": "display_data"
    },
    {
     "name": "stdout",
     "output_type": "stream",
     "text": [
      "Epoch  97 | Train: total=1.0376 mse=0.9988 cont=5.29e-05 mom=4.14e-01 bc=1.27e-02 | Val: total=0.6325 bc=1.03e-02 \n"
     ]
    },
    {
     "data": {
      "application/vnd.jupyter.widget-view+json": {
       "model_id": "969ea72fe815434a9d26362d7a965916",
       "version_major": 2,
       "version_minor": 0
      },
      "text/plain": [
       "train[98]:   0%|          | 0/90 [00:00<?, ?it/s]"
      ]
     },
     "metadata": {},
     "output_type": "display_data"
    },
    {
     "data": {
      "application/vnd.jupyter.widget-view+json": {
       "model_id": "a9330b3e40204178b4f30b445781b009",
       "version_major": 2,
       "version_minor": 0
      },
      "text/plain": [
       "val:   0%|          | 0/10 [00:00<?, ?it/s]"
      ]
     },
     "metadata": {},
     "output_type": "display_data"
    },
    {
     "name": "stdout",
     "output_type": "stream",
     "text": [
      "Epoch  98 | Train: total=1.0347 mse=0.9983 cont=5.03e-05 mom=3.85e-01 bc=1.20e-02 | Val: total=0.6333 bc=1.05e-02 \n"
     ]
    },
    {
     "data": {
      "application/vnd.jupyter.widget-view+json": {
       "model_id": "8e6bfa4c1c0b4c2185fb8efa3784703d",
       "version_major": 2,
       "version_minor": 0
      },
      "text/plain": [
       "train[99]:   0%|          | 0/90 [00:00<?, ?it/s]"
      ]
     },
     "metadata": {},
     "output_type": "display_data"
    },
    {
     "data": {
      "application/vnd.jupyter.widget-view+json": {
       "model_id": "02eabac8fd2a4a36a1e7c03a2ffebbdb",
       "version_major": 2,
       "version_minor": 0
      },
      "text/plain": [
       "val:   0%|          | 0/10 [00:00<?, ?it/s]"
      ]
     },
     "metadata": {},
     "output_type": "display_data"
    },
    {
     "name": "stdout",
     "output_type": "stream",
     "text": [
      "Epoch  99 | Train: total=1.0461 mse=0.9977 cont=4.95e-05 mom=5.13e-01 bc=1.08e-02 | Val: total=0.6291 bc=1.07e-02 [BEST]\n"
     ]
    },
    {
     "data": {
      "text/html": [],
      "text/plain": [
       "<IPython.core.display.HTML object>"
      ]
     },
     "metadata": {},
     "output_type": "display_data"
    },
    {
     "data": {
      "text/html": [
       "<br>    <style><br>        .wandb-row {<br>            display: flex;<br>            flex-direction: row;<br>            flex-wrap: wrap;<br>            justify-content: flex-start;<br>            width: 100%;<br>        }<br>        .wandb-col {<br>            display: flex;<br>            flex-direction: column;<br>            flex-basis: 100%;<br>            flex: 1;<br>            padding: 10px;<br>        }<br>    </style><br><div class=\"wandb-row\"><div class=\"wandb-col\"><h3>Run history:</h3><br/><table class=\"wandb\"><tr><td>epoch</td><td>▁▁▁▂▂▂▂▃▃▃▃▄▄▄▄▄▄▄▄▅▅▅▅▅▅▅▅▆▆▆▆▇▇▇▇▇▇▇██</td></tr><tr><td>lr_epoch</td><td>██████▇▇▇▇▆▆▆▆▅▅▄▄▄▄▃▃▃▃▃▂▂▂▂▂▁▁▁▁▁▁▁▁▁▂</td></tr><tr><td>train/bc_epoch</td><td>▃▅▃▁▄▁▁▁▁▁▁▁▁▁▁▁▁▁▁▁▁▁▁▁▁▁▁▁█▅▁▁▁▁▁▁▁▄▁▁</td></tr><tr><td>train/continuity_epoch</td><td>▇█▅▆▆▄▅▃▄▄▄▂▃▃▃▂▂▁▁▁▁▁▁▁▁▁▁▂▁▂▁▂▂▁▂▂▂▂▂▃</td></tr><tr><td>train/momentum_epoch</td><td>█▁▁▁▁▁▁▁▁▁▁▁▁▁▁▁▁▁▁▁▁▁▁▁▁▁▁▁▁▁▁▁▁▁▁▁▁▁▁▁</td></tr><tr><td>train/mse_epoch</td><td>▆▆▅▃▃▃▃▃▃▃▃▃▃▃▃▃▃▃▃▃▃▂▂▁█▂▂▂▂▂▂▂▂▂▂▂▂▃▂▁</td></tr><tr><td>train/total_epoch</td><td>█▁▁▁▁▁▁▁▁▁▁▁▁▁▁▁▁▁▁▁▁▁▁▁▁▁▁▁▁▁▁▁▁▁▁▁▁▁▁▁</td></tr><tr><td>val/bc_epoch</td><td>█▅▂▁▂▁▁▁▁▁▁▁▁▁▁▁▁▁▁▁▁▁▁▇▃▂▂▂▂▂▂▂▂▂▂▃▂▃▃▄</td></tr><tr><td>val/continuity_epoch</td><td>█▇▇▅▅▄▄▃▃▃▃▃▃▂▂▁▁▁▁▁▁▁▁▁▁▁▁▁▂▂▂▂▂▂▂▂▂▂▂▃</td></tr><tr><td>val/momentum_epoch</td><td>█▂▁▁▁▁▁▁▁▁▁▁▁▁▁▁▁▁▁▁▁▁▁▁▁▁▂▁▁▁▁▁▁▁▁▁▁▁▁▂</td></tr><tr><td>val/mse_epoch</td><td>▇██▇▅▅▄▄▄▄▄▄▄▄▄▃▃▃▃▃▃▂▂▁▁▂▂▂▂▂▂▂▂▂▂▂▂▂▂▁</td></tr><tr><td>val/total_epoch</td><td>█▅▃▃▃▂▂▂▂▂▂▂▂▂▂▂▂▂▂▂▃▂▂▁▂▁▁▁▁▁▁▁▁▁▁▁▁▁▁▁</td></tr><tr><td>weight/cont_used_epoch</td><td>▁▁▁▁▁▁▁▁▁▁▁▁▁▁▂▂▃▃▃▃▄▄▄▄▄▅▅▅▆▆▆▆▆▇▇▇▇▇██</td></tr><tr><td>weight/mom_used_epoch</td><td>▁▁▁▁▁▁▁▁▁▁▁▂▂▂▂▂▂▃▃▃▃▃▃▄▄▄▄▅▅▅▆▆▆▆▆▇▇▇██</td></tr></table><br/></div><div class=\"wandb-col\"><h3>Run summary:</h3><br/><table class=\"wandb\"><tr><td>epoch</td><td>99</td></tr><tr><td>lr_epoch</td><td>5e-05</td></tr><tr><td>train/bc_epoch</td><td>0.01084</td></tr><tr><td>train/continuity_epoch</td><td>5e-05</td></tr><tr><td>train/momentum_epoch</td><td>0.51277</td></tr><tr><td>train/mse_epoch</td><td>0.99768</td></tr><tr><td>train/total_epoch</td><td>1.04614</td></tr><tr><td>val/bc_epoch</td><td>0.01074</td></tr><tr><td>val/continuity_epoch</td><td>5e-05</td></tr><tr><td>val/momentum_epoch</td><td>0.00656</td></tr><tr><td>val/mse_epoch</td><td>0.62792</td></tr><tr><td>val/total_epoch</td><td>0.62912</td></tr><tr><td>weight/cont_used_epoch</td><td>0.09343</td></tr><tr><td>weight/mom_used_epoch</td><td>0.09343</td></tr></table><br/></div></div>"
      ],
      "text/plain": [
       "<IPython.core.display.HTML object>"
      ]
     },
     "metadata": {},
     "output_type": "display_data"
    },
    {
     "data": {
      "text/html": [
       " View run <strong style=\"color:#cdcd00\">cool-meadow-27</strong> at: <a href='https://wandb.ai/jyk-snuai-seoul-national-university/airfrans-gnn/runs/8k0kq1pj' target=\"_blank\">https://wandb.ai/jyk-snuai-seoul-national-university/airfrans-gnn/runs/8k0kq1pj</a><br> View project at: <a href='https://wandb.ai/jyk-snuai-seoul-national-university/airfrans-gnn' target=\"_blank\">https://wandb.ai/jyk-snuai-seoul-national-university/airfrans-gnn</a><br>Synced 5 W&B file(s), 0 media file(s), 0 artifact file(s) and 0 other file(s)"
      ],
      "text/plain": [
       "<IPython.core.display.HTML object>"
      ]
     },
     "metadata": {},
     "output_type": "display_data"
    },
    {
     "data": {
      "text/html": [
       "Find logs at: <code>.\\wandb\\run-20250920_221216-8k0kq1pj\\logs</code>"
      ],
      "text/plain": [
       "<IPython.core.display.HTML object>"
      ]
     },
     "metadata": {},
     "output_type": "display_data"
    },
    {
     "name": "stdout",
     "output_type": "stream",
     "text": [
      "\n",
      "📊 Test Results with Physics Loss:\n",
      "   Training was interrupted before any results could be recorded.\n"
     ]
    }
   ],
   "source": [
    "# Enhanced Training Loop with Optimized W&B Artifact Management\n",
    "def train_with_scheduler(model, optim, scheduler, train_loader, val_loader, \n",
    "                        scfg, device, scaler=None, physics_loss_fn=None):\n",
    "    scaler = GradScaler(enabled=(scfg.amp and torch.cuda.is_available()))\n",
    "    global_step = 0\n",
    "    best_val = float('inf')\n",
    "    \n",
    "    # Artifact 관리 설정\n",
    "    USE_WANDB_ARTIFACTS = getattr(scfg, \"use_wandb_artifacts\", False)  # 기본값 False\n",
    "    ARTIFACT_SAVE_BEST_ONLY = getattr(scfg, \"artifact_save_best_only\", True)  # best만 저장\n",
    "    ARTIFACT_SAVE_INTERVAL = getattr(scfg, \"artifact_save_interval\", 20)  # 20 epochs마다\n",
    "    \n",
    "    EPOCHS = getattr(scfg, \"epochs\", 50)\n",
    "    ckpt_dir = getattr(scfg, \"ckpt_dir\", \"checkpoints\")\n",
    "    ckpt_interval = max(1, getattr(scfg, \"ckpt_interval\", 5))\n",
    "    \n",
    "    # Artifact 히스토리 추적\n",
    "    artifact_history = {\n",
    "        'best_uploaded': False,\n",
    "        'last_periodic_epoch': -1,\n",
    "        'total_artifacts': 0\n",
    "    }\n",
    "\n",
    "    for epoch in range(EPOCHS):\n",
    "        train_total, train_logs, global_step = train_epoch(\n",
    "            train_loader, model, optim, device, scaler,\n",
    "            desc=f\"train[{epoch}]\", loss_fn=physics_loss_fn,\n",
    "            global_step_start=global_step,\n",
    "            scheduler=scheduler,\n",
    "            scheduler_step_mode=(\"step\" if getattr(scfg, \"scheduler_step_per_batch\", False) else \"epoch\"),\n",
    "            log_every_n_steps=getattr(scfg, \"log_every_n_steps\", 25)\n",
    "        )\n",
    "\n",
    "        val_total, val_logs = run_epoch(val_loader, model, device, loss_fn=physics_loss_fn)\n",
    "\n",
    "        # === wandb epoch-level logging (항상 수행) ===\n",
    "        log_epoch = {\n",
    "            \"epoch\": epoch,\n",
    "            \"train/total_epoch\": train_logs['total_loss'],\n",
    "            \"train/mse_epoch\": train_logs['mse_loss'],\n",
    "            \"train/continuity_epoch\": train_logs.get('continuity_loss', float('nan')),\n",
    "            \"train/momentum_epoch\": train_logs.get('momentum_loss', float('nan')),\n",
    "            \"train/bc_epoch\": train_logs.get('bc_loss', float('nan')),\n",
    "            \"val/total_epoch\": val_logs['total_loss'],\n",
    "            \"val/mse_epoch\": val_logs['mse_loss'],\n",
    "            \"val/continuity_epoch\": val_logs.get('continuity_loss', float('nan')),\n",
    "            \"val/momentum_epoch\": val_logs.get('momentum_loss', float('nan')),\n",
    "            \"val/bc_epoch\": val_logs.get('bc_loss', float('nan')),\n",
    "        }\n",
    "        if 'cont_weight_used' in train_logs: \n",
    "            log_epoch[\"weight/cont_used_epoch\"] = train_logs['cont_weight_used']\n",
    "        if 'mom_weight_used' in train_logs: \n",
    "            log_epoch[\"weight/mom_used_epoch\"] = train_logs['mom_weight_used']\n",
    "        lr_now = get_lr(optim)\n",
    "        if lr_now is not None:\n",
    "            log_epoch[\"lr_epoch\"] = lr_now\n",
    "        wandb.log(log_epoch, step=global_step, commit=True)\n",
    "\n",
    "        # === Learning Rate Scheduler Step ===\n",
    "        if scheduler is not None and not getattr(scfg, \"scheduler_step_per_batch\", False):\n",
    "            from torch.optim.lr_scheduler import ReduceLROnPlateau\n",
    "            if isinstance(scheduler, ReduceLROnPlateau):\n",
    "                scheduler.step(val_total)\n",
    "            else:\n",
    "                scheduler.step()\n",
    "\n",
    "        # === Checkpoint 저장 (로컬 파일시스템) ===\n",
    "        os.makedirs(ckpt_dir, exist_ok=True)\n",
    "        \n",
    "        # Best model 저장\n",
    "        is_best = val_total < best_val\n",
    "        if is_best:\n",
    "            best_val = val_total\n",
    "            best_path = os.path.join(ckpt_dir, \"best.pt\")\n",
    "            torch.save({\n",
    "                \"model\": model.state_dict(),\n",
    "                \"optimizer\": optim.state_dict(),\n",
    "                \"scheduler\": (scheduler.state_dict() if scheduler is not None else None),\n",
    "                \"scaler\": (scaler.state_dict() if scaler is not None else None),\n",
    "                \"epoch\": epoch,\n",
    "                \"global_step\": global_step,\n",
    "                \"best_val\": best_val,\n",
    "                \"train_logs\": train_logs,\n",
    "                \"val_logs\": val_logs\n",
    "            }, best_path)\n",
    "            \n",
    "            # W&B Artifact 업로드 (조건부)\n",
    "            if USE_WANDB_ARTIFACTS:\n",
    "                try:\n",
    "                    # 이전 best artifact가 있으면 삭제 (선택적)\n",
    "                    if artifact_history['best_uploaded']:\n",
    "                        # W&B는 자동으로 버전 관리하므로 별도 삭제 불필요\n",
    "                        pass\n",
    "                    \n",
    "                    # 새로운 best artifact 업로드\n",
    "                    art = wandb.Artifact(\n",
    "                        name=f\"model-best\",  # 고정된 이름 사용\n",
    "                        type=\"model\",\n",
    "                        description=f\"Best model at epoch {epoch} with val_loss={val_total:.4f}\",\n",
    "                        metadata={\n",
    "                            \"epoch\": epoch,\n",
    "                            \"val_loss\": val_total,\n",
    "                            \"train_loss\": train_total,\n",
    "                            \"best_val\": best_val\n",
    "                        }\n",
    "                    )\n",
    "                    art.add_file(best_path)\n",
    "                    wandb.run.log_artifact(art)\n",
    "                    artifact_history['best_uploaded'] = True\n",
    "                    artifact_history['total_artifacts'] += 1\n",
    "                    print(f\"  📤 W&B Artifact uploaded: best model (epoch {epoch})\")\n",
    "                except Exception as e:\n",
    "                    print(f\"  ⚠️ Failed to upload W&B artifact: {e}\")\n",
    "\n",
    "        # Periodic checkpoint 저장\n",
    "        if (epoch + 1) % ckpt_interval == 0:\n",
    "            ep_path = os.path.join(ckpt_dir, f\"epoch_{epoch+1}.pt\")\n",
    "            torch.save({\n",
    "                \"model\": model.state_dict(),\n",
    "                \"optimizer\": optim.state_dict(),\n",
    "                \"scheduler\": (scheduler.state_dict() if scheduler is not None else None),\n",
    "                \"scaler\": (scaler.state_dict() if scaler is not None else None),\n",
    "                \"epoch\": epoch,\n",
    "                \"global_step\": global_step,\n",
    "                \"best_val\": best_val\n",
    "            }, ep_path)\n",
    "            \n",
    "            # Periodic artifact 업로드 (매우 제한적으로)\n",
    "            if USE_WANDB_ARTIFACTS and not ARTIFACT_SAVE_BEST_ONLY:\n",
    "                if (epoch + 1) % ARTIFACT_SAVE_INTERVAL == 0:\n",
    "                    try:\n",
    "                        art = wandb.Artifact(\n",
    "                            name=f\"model-checkpoint\",\n",
    "                            type=\"model\",\n",
    "                            description=f\"Checkpoint at epoch {epoch+1}\",\n",
    "                            metadata={\n",
    "                                \"epoch\": epoch + 1,\n",
    "                                \"val_loss\": val_total,\n",
    "                                \"train_loss\": train_total\n",
    "                            }\n",
    "                        )\n",
    "                        art.add_file(ep_path)\n",
    "                        wandb.run.log_artifact(art, aliases=[f\"epoch-{epoch+1}\"])\n",
    "                        artifact_history['last_periodic_epoch'] = epoch + 1\n",
    "                        artifact_history['total_artifacts'] += 1\n",
    "                        print(f\"  📤 W&B Artifact uploaded: checkpoint (epoch {epoch+1})\")\n",
    "                    except Exception as e:\n",
    "                        print(f\"  ⚠️ Failed to upload periodic artifact: {e}\")\n",
    "\n",
    "        # Print epoch summary\n",
    "        print(f\"Epoch {epoch:3d} | Train: total={train_total:.4f} mse={train_logs['mse_loss']:.4f} \"\n",
    "              f\"cont={train_logs.get('continuity_loss', 0):.2e} mom={train_logs.get('momentum_loss', 0):.2e} \"\n",
    "              f\"bc={train_logs.get('bc_loss', 0):.2e} | \"\n",
    "              f\"Val: total={val_total:.4f} bc={val_logs.get('bc_loss', 0):.2e}\"\n",
    "              f\" {'[BEST]' if is_best else ''}\")\n",
    "\n",
    "    # === Training 완료 후 최종 artifact ===\n",
    "    if USE_WANDB_ARTIFACTS:\n",
    "        # 최종 모델 저장\n",
    "        final_path = os.path.join(ckpt_dir, \"final.pt\")\n",
    "        torch.save({\n",
    "            \"model\": model.state_dict(),\n",
    "            \"optimizer\": optim.state_dict(),\n",
    "            \"scheduler\": (scheduler.state_dict() if scheduler is not None else None),\n",
    "            \"scaler\": (scaler.state_dict() if scaler is not None else None),\n",
    "            \"epoch\": EPOCHS - 1,\n",
    "            \"global_step\": global_step,\n",
    "            \"best_val\": best_val\n",
    "        }, final_path)\n",
    "        \n",
    "        try:\n",
    "            art = wandb.Artifact(\n",
    "                name=f\"model-final\",\n",
    "                type=\"model\",\n",
    "                description=f\"Final model after {EPOCHS} epochs\",\n",
    "                metadata={\n",
    "                    \"total_epochs\": EPOCHS,\n",
    "                    \"best_val\": best_val,\n",
    "                    \"total_artifacts\": artifact_history['total_artifacts']\n",
    "                }\n",
    "            )\n",
    "            art.add_file(final_path)\n",
    "            art.add_file(os.path.join(ckpt_dir, \"best.pt\"), name=\"best.pt\")  # best도 포함\n",
    "            wandb.run.log_artifact(art, aliases=[\"latest\", \"final\"])\n",
    "            print(f\"\\n📤 Final W&B Artifact uploaded with {artifact_history['total_artifacts']+1} total artifacts\")\n",
    "        except Exception as e:\n",
    "            print(f\"⚠️ Failed to upload final artifact: {e}\")\n",
    "\n",
    "    # 종료\n",
    "    wandb.finish()\n",
    "    \n",
    "    return {\n",
    "        'lr_history': [],\n",
    "        'train_total_loss': [],\n",
    "        'train_continuity_loss': [],\n",
    "        'train_bc_loss': [],\n",
    "        'val_total_loss': [],\n",
    "        'val_continuity_loss': [],\n",
    "        'val_bc_loss': [],\n",
    "        'artifacts_uploaded': artifact_history['total_artifacts']\n",
    "    }\n",
    "\n",
    "# 훈련 실행 함수 (Physics Loss 지원)\n",
    "def run_training_experiment(config_updates=None, physics_config_updates=None):\n",
    "    \"\"\"\n",
    "    설정을 업데이트하고 physics loss와 함께 훈련을 실행합니다.\n",
    "    \n",
    "    Args:\n",
    "        config_updates: 모델 설정 변경 딕셔너리 (예: {'lr_scheduler': 'cosine'})\n",
    "        physics_config_updates: Physics loss 설정 변경 딕셔너리\n",
    "    \"\"\"\n",
    "    \n",
    "    # 설정 업데이트\n",
    "    if config_updates:\n",
    "        for key, value in config_updates.items():\n",
    "            setattr(scfg, key, value)\n",
    "        print(f\"🔧 Model configuration updated: {config_updates}\")\n",
    "    \n",
    "\n",
    "\n",
    "    # 새로운 optimizer와 scheduler 생성\n",
    "    optimizer = torch.optim.AdamW(model.parameters(), \n",
    "                                 lr=scfg.lr, \n",
    "                                 weight_decay=scfg.weight_decay, \n",
    "                                 betas=scfg.betas, \n",
    "                                 eps=scfg.eps)\n",
    "    \n",
    "    scheduler = create_lr_scheduler(optimizer, scfg)\n",
    "    \n",
    "    # GradScaler for AMP\n",
    "    scaler = torch.cuda.amp.GradScaler() if scfg.amp and torch.cuda.is_available() else None\n",
    "    \n",
    "    # 훈련 실행\n",
    "    history = train_with_scheduler(\n",
    "        model, optimizer, scheduler, train_loader, val_loader, \n",
    "        scfg, device, scaler, physics_loss_fn=loss_fn\n",
    "    )\n",
    "    \n",
    "    return history\n",
    "\n",
    "\n",
    "# 스케줄러 및 Physics Loss 테스트\n",
    "print(f\"Current scheduler: {scfg.lr_scheduler}\")\n",
    "\n",
    "if lr_scheduler is None:\n",
    "    print(\"⚠️  No scheduler active - training with constant LR\")\n",
    "else:\n",
    "    print(f\"✅ Scheduler ready: {type(lr_scheduler).__name__}\")\n",
    "\n",
    "print(f\"\\n🧪 Running test training with physics loss...\")\n",
    "\n",
    "# 짧은 훈련으로 테스트 (physics loss 포함)\n",
    "test_history = run_training_experiment()\n",
    "\n",
    "print(f\"\\n📊 Test Results with Physics Loss:\")\n",
    "if test_history['lr_history']:\n",
    "    print(f\"   LR progression: {' -> '.join([f'{lr:.2e}' for lr in test_history['lr_history']])}\")\n",
    "    print(f\"   Train losses (total): {' -> '.join([f'{loss:.4f}' for loss in test_history['train_total_loss']])}\")\n",
    "    print(f\"   Train losses (continuity): {' -> '.join([f'{loss:.2e}' for loss in test_history['train_continuity_loss']])}\")\n",
    "    print(f\"   Val losses (total): {' -> '.join([f'{loss:.4f}' for loss in test_history['val_total_loss']])}\")\n",
    "    print(f\"   Val losses (continuity): {' -> '.join([f'{loss:.2e}' for loss in test_history['val_continuity_loss']])}\")\n",
    "else:\n",
    "    print(\"   Training was interrupted before any results could be recorded.\")\n"
   ]
  },
  {
   "cell_type": "code",
   "execution_count": 17,
   "id": "b6415b41",
   "metadata": {},
   "outputs": [
    {
     "name": "stdout",
     "output_type": "stream",
     "text": [
      "[MSE | ALL   | normalized] {'u': '1.2338e+00', 'v': '4.1721e-01', 'p_over_rho': '6.2087e-02', 'nu_t': '1.5160e+00'}\n",
      "[MSE | SURF  | normalized] {'u': '5.8950e+00', 'v': '3.1320e-01', 'p_over_rho': '5.4091e-01', 'nu_t': '1.2772e-03'}\n",
      "[MSE | VOLUME| normalized] {'u': '9.1739e-01', 'v': '4.2427e-01', 'p_over_rho': '2.9582e-02', 'nu_t': '1.6189e+00'}\n"
     ]
    }
   ],
   "source": [
    "from utils import get_surface_mask, ensure_edge_features\n",
    "\n",
    "# 14b) MSE per target (all, surface, volume) — computed in NORMALIZED space\n",
    "@torch.no_grad()\n",
    "def _surface_volume_masks_from_orig(d: Data):\n",
    "    # Surface: non-zero normal vectors; Volume: zero normal vectors (use original, unnormalized normals)\n",
    "    x = d.x\n",
    "    if x is not None and x.size(1) >= 5:\n",
    "        nxy = x[:, 3:5]\n",
    "        surf = (nxy.abs().sum(dim=1) > 0)\n",
    "    else:\n",
    "        # Fallback to earlier heuristic\n",
    "        surf = get_surface_mask(d)\n",
    "    vol = ~surf\n",
    "    return surf, vol\n",
    "\n",
    "@torch.no_grad()\n",
    "def _predict_one_local(d: Data):\n",
    "    # Ensure pos3 and edges; normalize x; predict; keep EVERYTHING in normalized space for eval\n",
    "    dm = Data(**{k: v for k, v in d})\n",
    "    if dm.x.size(1) == 5 or not getattr(dm, 'pos2_appended', False):\n",
    "        dm = with_pos2(dm)\n",
    "    # edges must already exist; do not build inline\n",
    "    assert hasattr(dm,'edge_index') and dm.edge_index is not None, 'edge_index missing'\n",
    "    dm = ensure_edge_features(dm, want_dim=5)\n",
    "\n",
    "    # Build a CPU copy with normalized x/y for evaluation and metrics\n",
    "    dm_norm = Data(**{k: v for k, v in dm})\n",
    "    dm_norm.x = x_scaler.transform(dm.x)\n",
    "    dm_norm.y = y_scaler.transform(dm.y)\n",
    "    dm_norm.x_norm_params = {'mean': x_scaler.mean.clone(), 'scale': x_scaler.std.clone()}\n",
    "    dm_norm.y_norm_params = {'mean': y_scaler.mean.clone(), 'scale': y_scaler.std.clone()}\n",
    "\n",
    "    # Forward on device, return prediction in normalized space on CPU\n",
    "    dm_run = dm_norm.to(device)\n",
    "    with torch.amp.autocast(device_type='cuda', enabled=(scfg.amp and torch.cuda.is_available())) if torch.cuda.is_available() else contextlib.nullcontext():\n",
    "        y_pred_norm = model(dm_run).detach().cpu()\n",
    "    return dm_norm, y_pred_norm\n",
    "\n",
    "@torch.no_grad()\n",
    "def mse_per_channel(y_pred: torch.Tensor, y_true: torch.Tensor, mask: torch.Tensor | None = None):\n",
    "    # Ensure both tensors (and mask) are on the same device as y_pred\n",
    "    dev = y_pred.device\n",
    "    y_t = y_true.to(dev)\n",
    "    if mask is not None:\n",
    "        m = mask.to(dev)\n",
    "        y_p = y_pred[m]\n",
    "        y_t = y_t[m]\n",
    "    else:\n",
    "        y_p = y_pred\n",
    "    err = (y_p - y_t) ** 2\n",
    "    if err.numel() == 0:\n",
    "        return [float('nan')] * y_true.size(1)\n",
    "    return [float(err[:, i].mean().item()) for i in range(y_true.size(1))]\n",
    "\n",
    "# Pick a sample (val if available else train) and report MSE splits (normalized space)\n",
    "if isinstance(val_edges, list) and len(val_edges) > 0:\n",
    "    d_eval = val_edges[0]\n",
    "else:\n",
    "    d_eval = train_edges[0] if len(train_edges) > 0 else None\n",
    "\n",
    "if d_eval is not None:\n",
    "    # Use original graph (unnormalized x) only for surface/volume masks\n",
    "    d_orig = d_eval\n",
    "    dm_eval_norm, y_pred_eval_norm = _predict_one_local(d_orig)\n",
    "    surf_mask, vol_mask = _surface_volume_masks_from_orig(d_orig)\n",
    "\n",
    "    names = ['u', 'v', 'p_over_rho', 'nu_t']\n",
    "    mse_all = mse_per_channel(y_pred_eval_norm, dm_eval_norm.y, None)\n",
    "    mse_surf = mse_per_channel(y_pred_eval_norm, dm_eval_norm.y, surf_mask)\n",
    "    mse_vol  = mse_per_channel(y_pred_eval_norm, dm_eval_norm.y, vol_mask)\n",
    "\n",
    "    print('[MSE | ALL   | normalized]', {n: f'{v:.4e}' for n, v in zip(names, mse_all)})\n",
    "    print('[MSE | SURF  | normalized]', {n: f'{v:.4e}' for n, v in zip(names, mse_surf)})\n",
    "    print('[MSE | VOLUME| normalized]', {n: f'{v:.4e}' for n, v in zip(names, mse_vol)})\n",
    "else:\n",
    "    print('No sample available for MSE computation')"
   ]
  },
  {
   "cell_type": "markdown",
   "id": "49c9f2e1",
   "metadata": {},
   "source": [
    "# Result Visualization"
   ]
  },
  {
   "cell_type": "code",
   "execution_count": 18,
   "id": "178fbca4",
   "metadata": {},
   "outputs": [
    {
     "name": "stdout",
     "output_type": "stream",
     "text": [
      "[Saved] figures\\pred_vs_gt_channel2_20250920_223825.png\n"
     ]
    },
    {
     "data": {
      "image/png": "[encoded data removed]",
      "text/plain": [
       "<Figure size 1600x500 with 5 Axes>"
      ]
     },
     "metadata": {},
     "output_type": "display_data"
    }
   ],
   "source": [
    "# 15) Visualization: GT vs Prediction (tricontour with optional mask)\n",
    "from matplotlib.tri import Triangulation\n",
    "from matplotlib.path import Path\n",
    "from utils import _poly_from_surface\n",
    "import os\n",
    "from datetime import datetime\n",
    "\n",
    "@torch.no_grad()\n",
    "def _predict_one_for_viz(d: Data):\n",
    "    # Ensure pos3 + edges, normalize x/y, forward, return normalized dm and y_pred_norm\n",
    "    dm = Data(**{k: v for k, v in d})\n",
    "    if dm.x.size(1) == 5 or not getattr(dm, 'pos2_appended', False):\n",
    "        dm = with_pos2(dm)\n",
    "    assert hasattr(dm,'edge_index') and dm.edge_index is not None, 'edge_index missing'\n",
    "    dm = ensure_edge_features(dm, want_dim=5)\n",
    "    dm_norm = Data(**{k: v for k, v in dm})\n",
    "    dm_norm.x = x_scaler.transform(dm.x)\n",
    "    dm_norm.y = y_scaler.transform(dm.y)\n",
    "    dm_run = dm_norm.to(device)\n",
    "    \n",
    "    # Temporarily disable AMP for visualization to avoid dtype issues\n",
    "    model.eval()\n",
    "    # Force float32 for visualization to avoid AMP dtype conflicts\n",
    "    if hasattr(dm_run, 'x'):\n",
    "        dm_run.x = dm_run.x.float()\n",
    "    if hasattr(dm_run, 'edge_attr'):\n",
    "        dm_run.edge_attr = dm_run.edge_attr.float()\n",
    "        \n",
    "    y_pred_norm = model(dm_run).detach().cpu()\n",
    "    return dm_norm, y_pred_norm\n",
    "\n",
    "@torch.no_grad()\n",
    "def plot_pred_vs_gt(dm: Data, y_pred: torch.Tensor, channel: int = 2, show_mesh: bool = True, mask_airfoil: bool = True,\n",
    "                    titles: tuple[str,str,str] = ('Ground Truth','Prediction','Abs Error'), cmap: str = 'viridis',\n",
    "                    denormalize: bool = True, save_dir: str = \"figures\", save: bool = True):\n",
    "    # Optionally denormalize both GT and prediction for visualization\n",
    "    if denormalize and hasattr(dm, 'y'):\n",
    "        dm_y_cpu = dm.y.detach().cpu()\n",
    "        y_pred_cpu = y_pred.detach().cpu()\n",
    "        gt = y_scaler.inverse(dm_y_cpu)\n",
    "        pr = y_scaler.inverse(y_pred_cpu)\n",
    "    else:\n",
    "        gt = dm.y.detach().cpu()\n",
    "        pr = y_pred.detach().cpu()\n",
    "\n",
    "    # Prepare coordinates and values\n",
    "    xy = (dm.pos if hasattr(dm,'pos') and dm.pos is not None else dm.x)[:, :2].detach().cpu().float().numpy()\n",
    "    tri = Triangulation(xy[:,0], xy[:,1])\n",
    "\n",
    "    # Denormalize x to physical for q and for robust airfoil polygon detection\n",
    "    dm_x_cpu = dm.x.detach().cpu()\n",
    "    x_phys = x_scaler.inverse(dm_x_cpu)  \n",
    "    vx = float(x_phys[0, 0]); vy = float(x_phys[0, 1])\n",
    "    v = math.sqrt(vx*vx + vy*vy)\n",
    "    q = 0.5 * v * v\n",
    "\n",
    "    gt_c = gt[:, channel].detach().cpu().float().numpy() / q\n",
    "    pr_c = pr[:, channel].detach().cpu().float().numpy() / q\n",
    "    err = np.abs(pr_c - gt_c)\n",
    "    vmin = -2.0; vmax = 1.0\n",
    "\n",
    "    # Optional mask of airfoil interior\n",
    "    if mask_airfoil:\n",
    "        try:\n",
    "            x_np = x_phys.detach().cpu().numpy() if isinstance(x_phys, torch.Tensor) else np.asarray(x_phys)\n",
    "            pos_np = (dm.pos if hasattr(dm,'pos') and dm.pos is not None else dm.x)[:, :2].detach().cpu().numpy()\n",
    "            surf_mask = None\n",
    "            try:\n",
    "                wall = x_np[:, 2] if x_np.shape[1] >= 3 else None\n",
    "                nxy = x_np[:, 3:5] if x_np.shape[1] >= 5 else None\n",
    "                if nxy is not None:\n",
    "                    surf_mask = (np.abs(nxy).sum(axis=1) > 1e-8)\n",
    "                    if wall is not None:\n",
    "                        surf_mask = np.logical_or(surf_mask, (wall < 1e-6))\n",
    "                elif wall is not None:\n",
    "                    surf_mask = (wall < 1e-6)\n",
    "            except Exception:\n",
    "                surf_mask = None\n",
    "\n",
    "            poly = None\n",
    "            if surf_mask is not None and np.any(surf_mask):\n",
    "                pts = pos_np[surf_mask]\n",
    "                if pts.shape[0] >= 3:\n",
    "                    c = pts.mean(axis=0)\n",
    "                    ang = np.arctan2(pts[:,1]-c[1], pts[:,0]-c[0])\n",
    "                    order = np.argsort(ang)\n",
    "                    poly = Path(pts[order], closed=True)\n",
    "\n",
    "            if poly is not None:\n",
    "                tris = tri.triangles\n",
    "                centers = np.mean(np.stack([tri.x[tris], tri.y[tris]], axis=-1), axis=1)\n",
    "                inside = poly.contains_points(centers, radius=-1e-6)\n",
    "                if inside is not None and inside.any():\n",
    "                    tri.set_mask(inside.astype(bool))\n",
    "        except Exception:\n",
    "            pass\n",
    "\n",
    "    fig, ax = plt.subplots(1, 3, figsize=(16,5), constrained_layout=True)\n",
    "    a1,a2,a3 = ax\n",
    "    c1 = a1.tricontourf(tri, gt_c, levels=50, vmin=vmin, vmax=vmax, cmap=cmap)\n",
    "    c2 = a2.tricontourf(tri, pr_c, levels=50, vmin=vmin, vmax=vmax, cmap=cmap)\n",
    "    c3 = a3.tricontourf(tri, err, levels=50, cmap='magma')\n",
    "    if show_mesh:\n",
    "        for a in (a1,a2,a3):\n",
    "            a.triplot(tri, color='k', lw=0.25, alpha=0.35)\n",
    "    for a, t in zip((a1,a2,a3), titles):\n",
    "        a.set_aspect('equal','box'); a.set_title(t); a.set_xlabel('x'); a.set_ylabel('y')\n",
    "    m1 = plt.cm.ScalarMappable(cmap=cmap); m1.set_clim(vmin,vmax)\n",
    "    fig.colorbar(m1, ax=[a1,a2], fraction=0.046, pad=0.04, label=f'Cp')\n",
    "    fig.colorbar(plt.cm.ScalarMappable(cmap='magma'), ax=a3, fraction=0.046, pad=0.04, label='abs error')\n",
    "\n",
    "    # === Save figure with timestamp ===\n",
    "    if save:\n",
    "        os.makedirs(save_dir, exist_ok=True)\n",
    "        timestamp = datetime.now().strftime(\"%Y%m%d_%H%M%S\")\n",
    "        filename = os.path.join(save_dir, f\"pred_vs_gt_channel{channel}_{timestamp}.png\")\n",
    "        plt.savefig(filename, dpi=200)\n",
    "        print(f\"[Saved] {filename}\")\n",
    "\n",
    "    plt.show()\n",
    "\n",
    "\n",
    "# Example: visualize one sample (val if available, else train) — denormalized to capture actual flow physics\n",
    "if isinstance(val_edges, list) or len(val_edges)==0:\n",
    "    d_vis = train_edges[0] if len(train_edges)>0 else None\n",
    "else:\n",
    "    d_vis = val_edges[0] if len(val_edges)>0 else (train_edges[0] if len(train_edges)>0 else None)\n",
    "\n",
    "if d_vis is not None:\n",
    "    dm_vis_n, y_pred_vis_n = _predict_one_for_viz(d_vis)\n",
    "    # Plot for pressure by default (channel 2). Change channel as needed (0=u, 1=v, 2=p_over_rho, 3=nu_t).\n",
    "    plot_pred_vs_gt(dm_vis_n, y_pred_vis_n, channel=2, show_mesh=False, denormalize=True)\n",
    "else:\n",
    "    print('No sample available for visualization')\n"
   ]
  },
  {
   "cell_type": "code",
   "execution_count": null,
   "id": "fd760d52",
   "metadata": {},
   "outputs": [],
   "source": []
  }
 ],
 "metadata": {
  "kernelspec": {
   "display_name": "pyg5090",
   "language": "python",
   "name": "python3"
  },
  "language_info": {
   "codemirror_mode": {
    "name": "ipython",
    "version": 3
   },
   "file_extension": ".py",
   "mimetype": "text/x-python",
   "name": "python",
   "nbconvert_exporter": "python",
   "pygments_lexer": "ipython3",
   "version": "3.11.13"
  }
 },
 "nbformat": 4,
 "nbformat_minor": 5
}
